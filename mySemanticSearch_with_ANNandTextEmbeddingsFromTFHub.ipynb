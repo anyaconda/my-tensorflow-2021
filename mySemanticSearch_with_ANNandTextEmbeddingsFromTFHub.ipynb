{
 "cells": [
  {
   "cell_type": "markdown",
   "metadata": {
    "id": "ACbjNjyO4f_8"
   },
   "source": [
    "##### Copyright 2019 The TensorFlow Hub Authors.\n",
    "\n",
    "Licensed under the Apache License, Version 2.0 (the \"License\");"
   ]
  },
  {
   "cell_type": "code",
   "execution_count": 1,
   "metadata": {
    "id": "0h2f0TcYYIrn"
   },
   "outputs": [],
   "source": [
    "#meta 9/1/2022 G Example - Semantic Search with Approximate Nearest Neighbors and Text Embeddings from TF-Hub\n",
    "#Origin: recommended by Skander\n",
    "# refer to https://www.tensorflow.org/hub/tutorials/tf2_semantic_approximate_nearest_neighbors\n",
    "# refer to https://colab.research.google.com/github/tensorflow/hub/blob/master/examples/colab/tf2_semantic_approximate_nearest_neighbors.ipynb\n",
    "# myColab copy also\n",
    "# refer to https://colab.research.google.com/github/tensorflow/hub/blob/master/examples/colab/tf2_semantic_approximate_nearest_neighbors.ipynb\n",
    "\n",
    "#infra original: G Colab\n",
    "#Python 3.7.13\n",
    "#numpy 1.21.6, tensorflow 2.8.2, tensorflow_hub 0.12.0, annoy 1.17.1, apache-beam 2.41.0\n",
    "#scikit_learn~=0.23.0  # For gaussian_random_matrix\n",
    "#$note: tried to run in my WGCloud env, $error with gaussian_random_matrix\n",
    "\n",
    "#history \n",
    "#here \n",
    "#9/6/2022 RUN SAME EXAMPLE IN GCP\n",
    "#      this infra: WGC\n",
    "#      env: anya_semantic_search2 (installed with Conda, env_anya_semantic_search_py3713.yml -> requirements.txt)\n",
    "#      confirmed Python 3.7.13, pip 21.2.4 (asked for upgrade though)\n",
    "#      confirmed same packages as in original infra \n",
    "#      $note this notebook pip installs a few packages anyway, so maybe requirements.txt has too many listed?\n",
    "#      cell 14 `Run Pipeline` eventually expects pandas, so did conda install pandas in this env\n",
    "#      pandas 1.3.5 \n",
    "\n"
   ]
  },
  {
   "cell_type": "code",
   "execution_count": 2,
   "metadata": {
    "id": "MCM50vaM4jiK"
   },
   "outputs": [],
   "source": [
    "# Copyright 2018 The TensorFlow Hub Authors. All Rights Reserved.\n",
    "#\n",
    "# Licensed under the Apache License, Version 2.0 (the \"License\");\n",
    "# you may not use this file except in compliance with the License.\n",
    "# You may obtain a copy of the License at\n",
    "#\n",
    "#     http://www.apache.org/licenses/LICENSE-2.0\n",
    "#\n",
    "# Unless required by applicable law or agreed to in writing, software\n",
    "# distributed under the License is distributed on an \"AS IS\" BASIS,\n",
    "# WITHOUT WARRANTIES OR CONDITIONS OF ANY KIND, either express or implied.\n",
    "# See the License for the specific language governing permissions and\n",
    "# limitations under the License.\n",
    "# =============================================================================="
   ]
  },
  {
   "cell_type": "markdown",
   "metadata": {
    "id": "9qOVy-_vmuUP"
   },
   "source": [
    "# Semantic Search with Approximate Nearest Neighbors and Text Embeddings\n"
   ]
  },
  {
   "cell_type": "markdown",
   "metadata": {
    "id": "MfBg1C5NB3X0"
   },
   "source": [
    "<table class=\"tfo-notebook-buttons\" align=\"left\">\n",
    "  <td>\n",
    "    <a target=\"_blank\" href=\"https://www.tensorflow.org/hub/tutorials/tf2_semantic_approximate_nearest_neighbors\"><img src=\"https://www.tensorflow.org/images/tf_logo_32px.png\" />View on TensorFlow.org</a>\n",
    "  </td>\n",
    "  <td>\n",
    "    <a target=\"_blank\" href=\"https://colab.research.google.com/github/tensorflow/hub/blob/master/examples/colab/tf2_semantic_approximate_nearest_neighbors.ipynb\"><img src=\"https://www.tensorflow.org/images/colab_logo_32px.png\" />Run in Google Colab</a>\n",
    "  </td>\n",
    "  <td>\n",
    "    <a target=\"_blank\" href=\"https://github.com/tensorflow/hub/blob/master/examples/colab/tf2_semantic_approximate_nearest_neighbors.ipynb\"><img src=\"https://www.tensorflow.org/images/GitHub-Mark-32px.png\" />View on GitHub</a>\n",
    "  </td>\n",
    "  <td>\n",
    "    <a href=\"https://storage.googleapis.com/tensorflow_docs/hub/examples/colab/tf2_semantic_approximate_nearest_neighbors.ipynb\"><img src=\"https://www.tensorflow.org/images/download_logo_32px.png\" />Download notebook</a>\n",
    "  </td>\n",
    "  <td>\n",
    "    <a href=\"https://tfhub.dev/google/nnlm-en-dim128/2\"><img src=\"https://www.tensorflow.org/images/hub_logo_32px.png\" />See TF Hub model</a>\n",
    "  </td>\n",
    "</table>"
   ]
  },
  {
   "cell_type": "markdown",
   "metadata": {
    "id": "3T4d77AJaKte"
   },
   "source": [
    "This tutorial illustrates how to generate embeddings from a [TensorFlow Hub](https://tfhub.dev) (TF-Hub) model given input data, and build an approximate nearest neighbours (ANN) index using the extracted embeddings. The index can then be used for real-time similarity matching and retrieval.\n",
    "\n",
    "When dealing with a large corpus of data, it's not efficient to perform exact matching by scanning the whole repository to find the most similar items to a given query in real-time. Thus, we use an approximate similarity matching algorithm which allows us to trade off a little bit of accuracy in finding exact nearest neighbor matches for a significant boost in speed.\n",
    "\n",
    "In this tutorial, we show an example of real-time text search over a corpus of news headlines to find the headlines that are most similar to a query. Unlike keyword search, this captures the semantic similarity encoded in the text embedding.\n",
    "\n",
    "The steps of this tutorial are:\n",
    "1. Download sample data.\n",
    "2. Generate embeddings for the data using a TF-Hub model\n",
    "3. Build an ANN index for the embeddings\n",
    "4. Use the index for similarity matching\n",
    "\n",
    "We use [Apache Beam](https://beam.apache.org/documentation/programming-guide/) to generate the embeddings from the TF-Hub model. We also use Spotify's [ANNOY](https://github.com/spotify/annoy) library to build the approximate nearest neighbor index."
   ]
  },
  {
   "cell_type": "markdown",
   "metadata": {
    "id": "nM17v_mEVSnd"
   },
   "source": [
    "### More models\n",
    "For models that have the same architecture but were trained on a different language, refer to [this](https://tfhub.dev/google/collections/nnlm/1) collection. [Here](https://tfhub.dev/s?module-type=text-embedding) you can find all text embeddings that are currently hosted on [tfhub.dev](tfhub.dev). "
   ]
  },
  {
   "cell_type": "markdown",
   "metadata": {
    "id": "Q0jr0QK9qO5P"
   },
   "source": [
    "## Setup"
   ]
  },
  {
   "cell_type": "markdown",
   "metadata": {
    "id": "whMRj9qeqed4"
   },
   "source": [
    "Install the required libraries."
   ]
  },
  {
   "cell_type": "code",
   "execution_count": 3,
   "metadata": {
    "id": "qmXkLPoaqS--"
   },
   "outputs": [
    {
     "name": "stdout",
     "output_type": "stream",
     "text": [
      "\u001b[33mWARNING: Ignoring invalid distribution -cikit-learn (/opt/conda/lib/python3.7/site-packages)\u001b[0m\u001b[33m\n",
      "\u001b[0m\u001b[33mWARNING: Ignoring invalid distribution -cikit-learn (/opt/conda/lib/python3.7/site-packages)\u001b[0m\u001b[33m\n",
      "\u001b[0mCollecting apache_beam\n",
      "  Using cached apache_beam-2.41.0-cp37-cp37m-manylinux2010_x86_64.whl (10.9 MB)\n",
      "Collecting pydot<2,>=1.2.0\n",
      "  Using cached pydot-1.4.2-py2.py3-none-any.whl (21 kB)\n",
      "Requirement already satisfied: python-dateutil<3,>=2.8.0 in /opt/conda/lib/python3.7/site-packages (from apache_beam) (2.8.2)\n",
      "Requirement already satisfied: typing-extensions>=3.7.0 in /opt/conda/lib/python3.7/site-packages (from apache_beam) (4.3.0)\n",
      "Collecting crcmod<2.0,>=1.7\n",
      "  Using cached crcmod-1.7-cp37-cp37m-linux_x86_64.whl\n",
      "Requirement already satisfied: grpcio<2,>=1.33.1 in /opt/conda/lib/python3.7/site-packages (from apache_beam) (1.48.0)\n",
      "Collecting orjson<4.0\n",
      "  Using cached orjson-3.8.0-cp37-cp37m-manylinux_2_28_x86_64.whl (145 kB)\n",
      "Collecting dill<0.3.2,>=0.3.1.1\n",
      "  Using cached dill-0.3.1.1-py3-none-any.whl\n",
      "Requirement already satisfied: numpy<1.23.0,>=1.14.3 in /opt/conda/lib/python3.7/site-packages (from apache_beam) (1.19.5)\n",
      "Collecting pyarrow<8.0.0,>=0.15.1\n",
      "  Using cached pyarrow-7.0.0-cp37-cp37m-manylinux_2_17_x86_64.manylinux2014_x86_64.whl (26.7 MB)\n",
      "Collecting hdfs<3.0.0,>=2.1.0\n",
      "  Using cached hdfs-2.7.0-py3-none-any.whl (34 kB)\n",
      "Requirement already satisfied: httplib2<0.21.0,>=0.8 in /opt/conda/lib/python3.7/site-packages (from apache_beam) (0.20.4)\n",
      "Requirement already satisfied: protobuf<4,>=3.12.2 in ./.local/lib/python3.7/site-packages (from apache_beam) (3.19.4)\n",
      "Requirement already satisfied: pytz>=2018.3 in /opt/conda/lib/python3.7/site-packages (from apache_beam) (2022.2)\n",
      "Requirement already satisfied: requests<3.0.0,>=2.24.0 in /opt/conda/lib/python3.7/site-packages (from apache_beam) (2.28.1)\n",
      "Collecting pymongo<4.0.0,>=3.8.0\n",
      "  Using cached pymongo-3.12.3-cp37-cp37m-manylinux_2_17_x86_64.manylinux2014_x86_64.whl (508 kB)\n",
      "Requirement already satisfied: cloudpickle<3,>=2.1.0 in /opt/conda/lib/python3.7/site-packages (from apache_beam) (2.1.0)\n",
      "Requirement already satisfied: proto-plus<2,>=1.7.1 in /opt/conda/lib/python3.7/site-packages (from apache_beam) (1.22.0)\n",
      "Collecting fastavro<2,>=0.23.6\n",
      "  Using cached fastavro-1.6.0-cp37-cp37m-manylinux_2_17_x86_64.manylinux2014_x86_64.whl (2.4 MB)\n",
      "Requirement already satisfied: six>=1.5.2 in /opt/conda/lib/python3.7/site-packages (from grpcio<2,>=1.33.1->apache_beam) (1.16.0)\n",
      "Collecting docopt\n",
      "  Using cached docopt-0.6.2-py2.py3-none-any.whl\n",
      "Requirement already satisfied: pyparsing!=3.0.0,!=3.0.1,!=3.0.2,!=3.0.3,<4,>=2.4.2 in /opt/conda/lib/python3.7/site-packages (from httplib2<0.21.0,>=0.8->apache_beam) (3.0.9)\n",
      "Requirement already satisfied: idna<4,>=2.5 in /opt/conda/lib/python3.7/site-packages (from requests<3.0.0,>=2.24.0->apache_beam) (3.3)\n",
      "Requirement already satisfied: urllib3<1.27,>=1.21.1 in /opt/conda/lib/python3.7/site-packages (from requests<3.0.0,>=2.24.0->apache_beam) (1.26.11)\n",
      "Requirement already satisfied: certifi>=2017.4.17 in /opt/conda/lib/python3.7/site-packages (from requests<3.0.0,>=2.24.0->apache_beam) (2022.6.15)\n",
      "Requirement already satisfied: charset-normalizer<3,>=2 in /opt/conda/lib/python3.7/site-packages (from requests<3.0.0,>=2.24.0->apache_beam) (2.1.0)\n",
      "\u001b[33mWARNING: Ignoring invalid distribution -cikit-learn (/opt/conda/lib/python3.7/site-packages)\u001b[0m\u001b[33m\n",
      "\u001b[0mInstalling collected packages: docopt, crcmod, pymongo, pydot, pyarrow, orjson, fastavro, dill, hdfs, apache_beam\n",
      "  Attempting uninstall: pyarrow\n",
      "\u001b[33m    WARNING: Ignoring invalid distribution -cikit-learn (/opt/conda/lib/python3.7/site-packages)\u001b[0m\u001b[33m\n",
      "\u001b[0m    Found existing installation: pyarrow 9.0.0\n",
      "    Uninstalling pyarrow-9.0.0:\n",
      "\u001b[31mERROR: Could not install packages due to an OSError: [Errno 13] Permission denied: 'INSTALLER'\n",
      "Consider using the `--user` option or check the permissions.\n",
      "\u001b[0m\u001b[31m\n",
      "\u001b[0m\u001b[33mWARNING: Ignoring invalid distribution -cikit-learn (/opt/conda/lib/python3.7/site-packages)\u001b[0m\u001b[33m\n",
      "\u001b[0m\u001b[33mWARNING: Ignoring invalid distribution -cikit-learn (/opt/conda/lib/python3.7/site-packages)\u001b[0m\u001b[33m\n",
      "\u001b[0m\u001b[33mWARNING: Ignoring invalid distribution -cikit-learn (/opt/conda/lib/python3.7/site-packages)\u001b[0m\u001b[33m\n",
      "\u001b[0m\u001b[33mWARNING: Ignoring invalid distribution -yarrow (/opt/conda/lib/python3.7/site-packages)\u001b[0m\u001b[33m\n",
      "\u001b[0m\u001b[33mWARNING: Ignoring invalid distribution -cikit-learn (/opt/conda/lib/python3.7/site-packages)\u001b[0m\u001b[33m\n",
      "\u001b[0m\u001b[33mWARNING: Ignoring invalid distribution -yarrow (/opt/conda/lib/python3.7/site-packages)\u001b[0m\u001b[33m\n",
      "\u001b[0m\u001b[33mWARNING: Ignoring invalid distribution -cikit-learn (/opt/conda/lib/python3.7/site-packages)\u001b[0m\u001b[33m\n",
      "\u001b[0mRequirement already satisfied: scikit_learn~=0.23.0 in ./.local/lib/python3.7/site-packages (0.23.2)\n",
      "Requirement already satisfied: numpy>=1.13.3 in /opt/conda/lib/python3.7/site-packages (from scikit_learn~=0.23.0) (1.19.5)\n",
      "Requirement already satisfied: threadpoolctl>=2.0.0 in /opt/conda/lib/python3.7/site-packages (from scikit_learn~=0.23.0) (3.1.0)\n",
      "Requirement already satisfied: scipy>=0.19.1 in /opt/conda/lib/python3.7/site-packages (from scikit_learn~=0.23.0) (1.7.3)\n",
      "Requirement already satisfied: joblib>=0.11 in /opt/conda/lib/python3.7/site-packages (from scikit_learn~=0.23.0) (1.1.0)\n",
      "\u001b[33mWARNING: Ignoring invalid distribution -yarrow (/opt/conda/lib/python3.7/site-packages)\u001b[0m\u001b[33m\n",
      "\u001b[0m\u001b[33mWARNING: Ignoring invalid distribution -cikit-learn (/opt/conda/lib/python3.7/site-packages)\u001b[0m\u001b[33m\n",
      "\u001b[0m\u001b[33mWARNING: Ignoring invalid distribution -yarrow (/opt/conda/lib/python3.7/site-packages)\u001b[0m\u001b[33m\n",
      "\u001b[0m\u001b[33mWARNING: Ignoring invalid distribution -cikit-learn (/opt/conda/lib/python3.7/site-packages)\u001b[0m\u001b[33m\n",
      "\u001b[0m\u001b[33mWARNING: Ignoring invalid distribution -yarrow (/opt/conda/lib/python3.7/site-packages)\u001b[0m\u001b[33m\n",
      "\u001b[0m\u001b[33mWARNING: Ignoring invalid distribution -cikit-learn (/opt/conda/lib/python3.7/site-packages)\u001b[0m\u001b[33m\n",
      "\u001b[0m\u001b[33mWARNING: Ignoring invalid distribution -yarrow (/opt/conda/lib/python3.7/site-packages)\u001b[0m\u001b[33m\n",
      "\u001b[0m\u001b[33mWARNING: Ignoring invalid distribution -cikit-learn (/opt/conda/lib/python3.7/site-packages)\u001b[0m\u001b[33m\n",
      "\u001b[0m\u001b[33mWARNING: Ignoring invalid distribution -yarrow (/opt/conda/lib/python3.7/site-packages)\u001b[0m\u001b[33m\n",
      "\u001b[0m\u001b[33mWARNING: Ignoring invalid distribution -cikit-learn (/opt/conda/lib/python3.7/site-packages)\u001b[0m\u001b[33m\n",
      "\u001b[0m\u001b[33mWARNING: Ignoring invalid distribution -yarrow (/opt/conda/lib/python3.7/site-packages)\u001b[0m\u001b[33m\n",
      "\u001b[0m\u001b[33mWARNING: Ignoring invalid distribution -cikit-learn (/opt/conda/lib/python3.7/site-packages)\u001b[0m\u001b[33m\n",
      "\u001b[0mCollecting annoy\n",
      "  Using cached annoy-1.17.1-cp37-cp37m-linux_x86_64.whl\n",
      "\u001b[33mWARNING: Ignoring invalid distribution -yarrow (/opt/conda/lib/python3.7/site-packages)\u001b[0m\u001b[33m\n",
      "\u001b[0m\u001b[33mWARNING: Ignoring invalid distribution -cikit-learn (/opt/conda/lib/python3.7/site-packages)\u001b[0m\u001b[33m\n",
      "\u001b[0mInstalling collected packages: annoy\n",
      "\u001b[33mWARNING: Ignoring invalid distribution -yarrow (/opt/conda/lib/python3.7/site-packages)\u001b[0m\u001b[33m\n",
      "\u001b[0m\u001b[33mWARNING: Ignoring invalid distribution -cikit-learn (/opt/conda/lib/python3.7/site-packages)\u001b[0m\u001b[33m\n",
      "\u001b[0mSuccessfully installed annoy-1.17.1\n",
      "\u001b[33mWARNING: Ignoring invalid distribution -yarrow (/opt/conda/lib/python3.7/site-packages)\u001b[0m\u001b[33m\n",
      "\u001b[0m\u001b[33mWARNING: Ignoring invalid distribution -cikit-learn (/opt/conda/lib/python3.7/site-packages)\u001b[0m\u001b[33m\n",
      "\u001b[0m\u001b[33mWARNING: Ignoring invalid distribution -yarrow (/opt/conda/lib/python3.7/site-packages)\u001b[0m\u001b[33m\n",
      "\u001b[0m\u001b[33mWARNING: Ignoring invalid distribution -cikit-learn (/opt/conda/lib/python3.7/site-packages)\u001b[0m\u001b[33m\n",
      "\u001b[0m\u001b[33mWARNING: Ignoring invalid distribution -yarrow (/opt/conda/lib/python3.7/site-packages)\u001b[0m\u001b[33m\n",
      "\u001b[0m\u001b[33mWARNING: Ignoring invalid distribution -cikit-learn (/opt/conda/lib/python3.7/site-packages)\u001b[0m\u001b[33m\n",
      "\u001b[0m"
     ]
    }
   ],
   "source": [
    "!pip install apache_beam\n",
    "!pip install 'scikit_learn~=0.23.0'  # For gaussian_random_matrix.\n",
    "!pip install annoy"
   ]
  },
  {
   "cell_type": "markdown",
   "metadata": {
    "id": "A-vBZiCCqld0"
   },
   "source": [
    "Import the required libraries"
   ]
  },
  {
   "cell_type": "code",
   "execution_count": 4,
   "metadata": {
    "id": "6NTYbdWcseuK"
   },
   "outputs": [],
   "source": [
    "import os\n",
    "import sys\n",
    "import pickle\n",
    "from collections import namedtuple\n",
    "from datetime import datetime\n",
    "import numpy as np\n",
    "import apache_beam as beam\n",
    "from apache_beam.transforms import util\n",
    "import tensorflow as tf\n",
    "import tensorflow_hub as hub\n",
    "import annoy\n",
    "from sklearn.random_projection import gaussian_random_matrix"
   ]
  },
  {
   "cell_type": "code",
   "execution_count": 34,
   "metadata": {},
   "outputs": [
    {
     "name": "stdout",
     "output_type": "stream",
     "text": [
      "3.7.13 (default, Mar 29 2022, 02:18:16) \n",
      "[GCC 7.5.0]\n",
      "1.21.6\n"
     ]
    }
   ],
   "source": [
    "#python version $my\n",
    "import sys\n",
    "print(sys.version)\n",
    "print(np.__version__)"
   ]
  },
  {
   "cell_type": "code",
   "execution_count": 5,
   "metadata": {
    "id": "tx0SZa6-7b-f"
   },
   "outputs": [
    {
     "name": "stdout",
     "output_type": "stream",
     "text": [
      "TF version: 2.8.2\n",
      "TF-Hub version: 0.12.0\n",
      "Apache Beam version: 2.41.0\n"
     ]
    }
   ],
   "source": [
    "print('TF version: {}'.format(tf.__version__))\n",
    "print('TF-Hub version: {}'.format(hub.__version__))\n",
    "print('Apache Beam version: {}'.format(beam.__version__))"
   ]
  },
  {
   "cell_type": "markdown",
   "metadata": {
    "id": "P6Imq876rLWx"
   },
   "source": [
    "## 1. Download Sample Data\n",
    "\n",
    "[A Million News Headlines](https://dataverse.harvard.edu/dataset.xhtml?persistentId=doi:10.7910/DVN/SYBGZL#) dataset contains news headlines published over a period of 15 years sourced from the reputable Australian Broadcasting Corp. (ABC). This news dataset has a summarised historical record of noteworthy events in the globe from early-2003 to end-2017 with a more granular focus on Australia. \n",
    "\n",
    "**Format**: Tab-separated two-column data: 1) publication date and 2) headline text. We are only interested in the headline text.\n"
   ]
  },
  {
   "cell_type": "code",
   "execution_count": 6,
   "metadata": {
    "id": "OpF57n8e5C9D"
   },
   "outputs": [
    {
     "name": "stdout",
     "output_type": "stream",
     "text": [
      "--2022-09-06 21:11:04--  https://dataverse.harvard.edu/api/access/datafile/3450625?format=tab&gbrecs=true\n",
      "Resolving dataverse.harvard.edu (dataverse.harvard.edu)... 34.202.181.46, 54.88.95.113, 54.211.138.37\n",
      "Connecting to dataverse.harvard.edu (dataverse.harvard.edu)|34.202.181.46|:443... connected.\n",
      "HTTP request sent, awaiting response... 200 OK\n",
      "Length: 57600231 (55M) [text/tab-separated-values]\n",
      "Saving to: ‘raw.tsv’\n",
      "\n",
      "raw.tsv             100%[===================>]  54.93M  32.6MB/s    in 1.7s    \n",
      "\n",
      "2022-09-06 21:11:06 (32.6 MB/s) - ‘raw.tsv’ saved [57600231/57600231]\n",
      "\n",
      "1103664 raw.tsv\n",
      "publish_date\theadline_text\n",
      "20030219\t\"aba decides against community broadcasting licence\"\n",
      "20030219\t\"act fire witnesses must be aware of defamation\"\n",
      "20030219\t\"a g calls for infrastructure protection summit\"\n",
      "20030219\t\"air nz staff in aust strike for pay rise\"\n",
      "20030219\t\"air nz strike to affect australian travellers\"\n",
      "20030219\t\"ambitious olsson wins triple jump\"\n",
      "20030219\t\"antic delighted with record breaking barca\"\n",
      "20030219\t\"aussie qualifier stosur wastes four memphis match\"\n",
      "20030219\t\"aust addresses un security council over iraq\"\n"
     ]
    }
   ],
   "source": [
    "!wget 'https://dataverse.harvard.edu/api/access/datafile/3450625?format=tab&gbrecs=true' -O raw.tsv\n",
    "!wc -l raw.tsv\n",
    "!head raw.tsv"
   ]
  },
  {
   "cell_type": "markdown",
   "metadata": {
    "id": "Reeoc9z0zTxJ"
   },
   "source": [
    "For simplicity, we only keep the headline text and remove the publication date"
   ]
  },
  {
   "cell_type": "code",
   "execution_count": 7,
   "metadata": {
    "id": "INPWa4upv_yJ"
   },
   "outputs": [],
   "source": [
    "!rm -r corpus\n",
    "!mkdir corpus\n",
    "\n",
    "with open('corpus/text.txt', 'w') as out_file:\n",
    "  with open('raw.tsv', 'r') as in_file:\n",
    "    for line in in_file:\n",
    "      headline = line.split('\\t')[1].strip().strip('\"')\n",
    "      out_file.write(headline+\"\\n\")"
   ]
  },
  {
   "cell_type": "code",
   "execution_count": 8,
   "metadata": {
    "id": "5-oedX40z6o2"
   },
   "outputs": [
    {
     "name": "stdout",
     "output_type": "stream",
     "text": [
      "severe storms forecast for nye in south east queensland\n",
      "snake catcher pleads for people not to kill reptiles\n",
      "south australia prepares for party to welcome new year\n",
      "strikers cool off the heat with big win in adelaide\n",
      "stunning images from the sydney to hobart yacht\n",
      "the ashes smiths warners near miss liven up boxing day test\n",
      "timelapse: brisbanes new year fireworks\n",
      "what 2017 meant to the kids of australia\n",
      "what the papodopoulos meeting may mean for ausus\n",
      "who is george papadopoulos the former trump campaign aide\n"
     ]
    }
   ],
   "source": [
    "!tail corpus/text.txt"
   ]
  },
  {
   "cell_type": "markdown",
   "metadata": {
    "id": "2AngMtH50jNb"
   },
   "source": [
    "## 2. Generate Embeddings for the Data.\n",
    "\n",
    "In this tutorial, we use the [Neural Network Language Model (NNLM)](https://tfhub.dev/google/nnlm-en-dim128/2) to generate embeddings for the headline data. The sentence embeddings can then be easily used to compute sentence level meaning similarity. We run the embedding generation process using Apache Beam."
   ]
  },
  {
   "cell_type": "markdown",
   "metadata": {
    "id": "F_DvXnDB1pEX"
   },
   "source": [
    "### Embedding extraction method"
   ]
  },
  {
   "cell_type": "code",
   "execution_count": 9,
   "metadata": {
    "id": "yL7OEY1E0A35"
   },
   "outputs": [],
   "source": [
    "embed_fn = None\n",
    "\n",
    "def generate_embeddings(text, model_url, random_projection_matrix=None):\n",
    "  # Beam will run this function in different processes that need to\n",
    "  # import hub and load embed_fn (if not previously loaded)\n",
    "  global embed_fn\n",
    "  if embed_fn is None:\n",
    "    embed_fn = hub.load(model_url)\n",
    "  embedding = embed_fn(text).numpy()\n",
    "  if random_projection_matrix is not None:\n",
    "    embedding = embedding.dot(random_projection_matrix)\n",
    "  return text, embedding\n"
   ]
  },
  {
   "cell_type": "markdown",
   "metadata": {
    "id": "g6pXBVxsVUbm"
   },
   "source": [
    "### Convert to tf.Example method"
   ]
  },
  {
   "cell_type": "code",
   "execution_count": 10,
   "metadata": {
    "id": "JMjqjWZNVVzd"
   },
   "outputs": [],
   "source": [
    "def to_tf_example(entries):\n",
    "  examples = []\n",
    "\n",
    "  text_list, embedding_list = entries\n",
    "  for i in range(len(text_list)):\n",
    "    text = text_list[i]\n",
    "    embedding = embedding_list[i]\n",
    "\n",
    "    features = {\n",
    "        'text': tf.train.Feature(\n",
    "            bytes_list=tf.train.BytesList(value=[text.encode('utf-8')])),\n",
    "        'embedding': tf.train.Feature(\n",
    "            float_list=tf.train.FloatList(value=embedding.tolist()))\n",
    "    }\n",
    "  \n",
    "    example = tf.train.Example(\n",
    "        features=tf.train.Features(\n",
    "            feature=features)).SerializeToString(deterministic=True)\n",
    "  \n",
    "    examples.append(example)\n",
    "  \n",
    "  return examples"
   ]
  },
  {
   "cell_type": "markdown",
   "metadata": {
    "id": "gDiV4uQCVYGH"
   },
   "source": [
    "### Beam pipeline"
   ]
  },
  {
   "cell_type": "code",
   "execution_count": 11,
   "metadata": {
    "id": "jCGUIB172m2G"
   },
   "outputs": [],
   "source": [
    "def run_hub2emb(args):\n",
    "  '''Runs the embedding generation pipeline'''\n",
    "\n",
    "  options = beam.options.pipeline_options.PipelineOptions(**args)\n",
    "  args = namedtuple(\"options\", args.keys())(*args.values())\n",
    "\n",
    "  with beam.Pipeline(args.runner, options=options) as pipeline:\n",
    "    (\n",
    "        pipeline\n",
    "        | 'Read sentences from files' >> beam.io.ReadFromText(\n",
    "            file_pattern=args.data_dir)\n",
    "        | 'Batch elements' >> util.BatchElements(\n",
    "            min_batch_size=args.batch_size, max_batch_size=args.batch_size)\n",
    "        | 'Generate embeddings' >> beam.Map(\n",
    "            generate_embeddings, args.model_url, args.random_projection_matrix)\n",
    "        | 'Encode to tf example' >> beam.FlatMap(to_tf_example)\n",
    "        | 'Write to TFRecords files' >> beam.io.WriteToTFRecord(\n",
    "            file_path_prefix='{}/emb'.format(args.output_dir),\n",
    "            file_name_suffix='.tfrecords')\n",
    "    )"
   ]
  },
  {
   "cell_type": "markdown",
   "metadata": {
    "id": "nlbQdiYNVvne"
   },
   "source": [
    "### Generating Random Projection Weight Matrix\n",
    "\n",
    "[Random projection](https://en.wikipedia.org/wiki/Random_projection) is a simple, yet powerful technique used to reduce the dimensionality of a set of points which lie in Euclidean space. For a theoretical background, see the [Johnson-Lindenstrauss lemma](https://en.wikipedia.org/wiki/Johnson%E2%80%93Lindenstrauss_lemma).\n",
    "\n",
    "Reducing the dimensionality of the embeddings with random projection means less time needed to build and query the ANN index.\n",
    "\n",
    "In this tutorial we use [Gaussian Random Projection](https://en.wikipedia.org/wiki/Random_projection#Gaussian_random_projection) from the [Scikit-learn](https://scikit-learn.org/stable/modules/random_projection.html#gaussian-random-projection) library."
   ]
  },
  {
   "cell_type": "code",
   "execution_count": 12,
   "metadata": {
    "id": "1yw1xgtNVv52"
   },
   "outputs": [],
   "source": [
    "def generate_random_projection_weights(original_dim, projected_dim):\n",
    "  random_projection_matrix = None\n",
    "  random_projection_matrix = gaussian_random_matrix(\n",
    "      n_components=projected_dim, n_features=original_dim).T\n",
    "  print(\"A Gaussian random weight matrix was creates with shape of {}\".format(random_projection_matrix.shape))\n",
    "  print('Storing random projection matrix to disk...')\n",
    "  with open('random_projection_matrix', 'wb') as handle:\n",
    "    pickle.dump(random_projection_matrix, \n",
    "                handle, protocol=pickle.HIGHEST_PROTOCOL)\n",
    "        \n",
    "  return random_projection_matrix"
   ]
  },
  {
   "cell_type": "markdown",
   "metadata": {
    "id": "aJZUfT3NE7kj"
   },
   "source": [
    "### Set parameters\n",
    "If you want to build an index using the original embedding space without random projection, set the `projected_dim` parameter to `None`. Note that this will slow down the indexing step for high-dimensional embeddings."
   ]
  },
  {
   "cell_type": "code",
   "execution_count": 13,
   "metadata": {
    "cellView": "form",
    "id": "77-Cow7uE74T"
   },
   "outputs": [],
   "source": [
    "model_url = 'https://tfhub.dev/google/nnlm-en-dim128/2' #@param {type:\"string\"}\n",
    "projected_dim = 64  #@param {type:\"number\"}"
   ]
  },
  {
   "cell_type": "markdown",
   "metadata": {
    "id": "On-MbzD922kb"
   },
   "source": [
    "### Run pipeline"
   ]
  },
  {
   "cell_type": "code",
   "execution_count": 14,
   "metadata": {
    "id": "Y3I1Wv4i21yY"
   },
   "outputs": [
    {
     "name": "stderr",
     "output_type": "stream",
     "text": [
      "2022-09-06 21:11:19.306672: W tensorflow/stream_executor/platform/default/dso_loader.cc:64] Could not load dynamic library 'libcuda.so.1'; dlerror: libcuda.so.1: cannot open shared object file: No such file or directory; LD_LIBRARY_PATH: /usr/local/cuda/lib64:/usr/local/cuda/lib:/usr/local/lib/x86_64-linux-gnu:/usr/local/nvidia/lib:/usr/local/nvidia/lib64:/usr/local/nvidia/lib:/usr/local/nvidia/lib64\n",
      "2022-09-06 21:11:19.306718: W tensorflow/stream_executor/cuda/cuda_driver.cc:269] failed call to cuInit: UNKNOWN ERROR (303)\n",
      "2022-09-06 21:11:19.306745: I tensorflow/stream_executor/cuda/cuda_diagnostics.cc:156] kernel driver does not appear to be running on this host (vm-6a78437e-2759-4469-95d9-01f80788c108): /proc/driver/nvidia/version does not exist\n",
      "2022-09-06 21:11:19.307026: I tensorflow/core/platform/cpu_feature_guard.cc:151] This TensorFlow binary is optimized with oneAPI Deep Neural Network Library (oneDNN) to use the following CPU instructions in performance-critical operations:  AVX2 FMA\n",
      "To enable them in other operations, rebuild TensorFlow with the appropriate compiler flags.\n"
     ]
    },
    {
     "name": "stdout",
     "output_type": "stream",
     "text": [
      "A Gaussian random weight matrix was creates with shape of (128, 64)\n",
      "Storing random projection matrix to disk...\n",
      "Pipeline args are set.\n"
     ]
    },
    {
     "name": "stderr",
     "output_type": "stream",
     "text": [
      "/home/jupyter/.local/lib/python3.7/site-packages/sklearn/utils/deprecation.py:86: FutureWarning: Function gaussian_random_matrix is deprecated; gaussian_random_matrix is deprecated in 0.22 and will be removed in version 0.24.\n",
      "  warnings.warn(msg, category=FutureWarning)\n"
     ]
    },
    {
     "data": {
      "text/plain": [
       "{'job_name': 'hub2emb-220906-211120',\n",
       " 'runner': 'DirectRunner',\n",
       " 'batch_size': 1024,\n",
       " 'data_dir': 'corpus/*.txt',\n",
       " 'output_dir': '/tmp/tmpsu2m7twb',\n",
       " 'model_url': 'https://tfhub.dev/google/nnlm-en-dim128/2',\n",
       " 'random_projection_matrix': array([[-0.18354298, -0.10999826, -0.11432456, ..., -0.03087968,\n",
       "          0.14916123, -0.20497588],\n",
       "        [-0.14373878,  0.22069085, -0.08447317, ...,  0.11348739,\n",
       "          0.00224152, -0.09937856],\n",
       "        [ 0.09366591, -0.10759318, -0.20131172, ...,  0.01727336,\n",
       "         -0.07551696,  0.07002125],\n",
       "        ...,\n",
       "        [-0.13826463,  0.10064011,  0.0933569 , ...,  0.00373459,\n",
       "         -0.07620378, -0.01376139],\n",
       "        [-0.17052154, -0.160062  ,  0.01467493, ...,  0.07261312,\n",
       "         -0.00612109,  0.08963541],\n",
       "        [ 0.14900337,  0.04051439,  0.10748337, ...,  0.01062815,\n",
       "         -0.13236844, -0.03596071]])}"
      ]
     },
     "execution_count": 14,
     "metadata": {},
     "output_type": "execute_result"
    }
   ],
   "source": [
    "import tempfile\n",
    "\n",
    "output_dir = tempfile.mkdtemp()\n",
    "original_dim = hub.load(model_url)(['']).shape[1]\n",
    "random_projection_matrix = None\n",
    "\n",
    "if projected_dim:\n",
    "  random_projection_matrix = generate_random_projection_weights(\n",
    "      original_dim, projected_dim)\n",
    "\n",
    "args = {\n",
    "    'job_name': 'hub2emb-{}'.format(datetime.utcnow().strftime('%y%m%d-%H%M%S')),\n",
    "    'runner': 'DirectRunner',\n",
    "    'batch_size': 1024,\n",
    "    'data_dir': 'corpus/*.txt',\n",
    "    'output_dir': output_dir,\n",
    "    'model_url': model_url,\n",
    "    'random_projection_matrix': random_projection_matrix,\n",
    "}\n",
    "\n",
    "print(\"Pipeline args are set.\")\n",
    "args"
   ]
  },
  {
   "cell_type": "code",
   "execution_count": 21,
   "metadata": {
    "id": "iS9obmeP4ZOA"
   },
   "outputs": [
    {
     "name": "stdout",
     "output_type": "stream",
     "text": [
      "Running pipeline...\n"
     ]
    },
    {
     "name": "stderr",
     "output_type": "stream",
     "text": [
      "WARNING:apache_beam.runners.interactive.interactive_environment:Dependencies required for Interactive Beam PCollection visualization are not available, please use: `pip install apache-beam[interactive]` to install necessary dependencies to enable all data visualization features.\n"
     ]
    },
    {
     "data": {
      "application/javascript": [
       "\n",
       "        if (typeof window.interactive_beam_jquery == 'undefined') {\n",
       "          var jqueryScript = document.createElement('script');\n",
       "          jqueryScript.src = 'https://code.jquery.com/jquery-3.4.1.slim.min.js';\n",
       "          jqueryScript.type = 'text/javascript';\n",
       "          jqueryScript.onload = function() {\n",
       "            var datatableScript = document.createElement('script');\n",
       "            datatableScript.src = 'https://cdn.datatables.net/1.10.20/js/jquery.dataTables.min.js';\n",
       "            datatableScript.type = 'text/javascript';\n",
       "            datatableScript.onload = function() {\n",
       "              window.interactive_beam_jquery = jQuery.noConflict(true);\n",
       "              window.interactive_beam_jquery(document).ready(function($){\n",
       "                \n",
       "              });\n",
       "            }\n",
       "            document.head.appendChild(datatableScript);\n",
       "          };\n",
       "          document.head.appendChild(jqueryScript);\n",
       "        } else {\n",
       "          window.interactive_beam_jquery(document).ready(function($){\n",
       "            \n",
       "          });\n",
       "        }"
      ]
     },
     "metadata": {},
     "output_type": "display_data"
    },
    {
     "name": "stderr",
     "output_type": "stream",
     "text": [
      "WARNING:apache_beam.options.pipeline_options:Discarding unparseable args: ['-f', '/home/jupyter/.local/share/jupyter/runtime/kernel-30dfc189-5af1-4e7f-a528-efc7245fb3d5.json']\n",
      "WARNING:apache_beam.options.pipeline_options:Discarding invalid overrides: {'batch_size': 1024, 'data_dir': 'corpus/*.txt', 'output_dir': '/tmp/tmpsu2m7twb', 'model_url': 'https://tfhub.dev/google/nnlm-en-dim128/2', 'random_projection_matrix': array([[-0.18354298, -0.10999826, -0.11432456, ..., -0.03087968,\n",
      "         0.14916123, -0.20497588],\n",
      "       [-0.14373878,  0.22069085, -0.08447317, ...,  0.11348739,\n",
      "         0.00224152, -0.09937856],\n",
      "       [ 0.09366591, -0.10759318, -0.20131172, ...,  0.01727336,\n",
      "        -0.07551696,  0.07002125],\n",
      "       ...,\n",
      "       [-0.13826463,  0.10064011,  0.0933569 , ...,  0.00373459,\n",
      "        -0.07620378, -0.01376139],\n",
      "       [-0.17052154, -0.160062  ,  0.01467493, ...,  0.07261312,\n",
      "        -0.00612109,  0.08963541],\n",
      "       [ 0.14900337,  0.04051439,  0.10748337, ...,  0.01062815,\n",
      "        -0.13236844, -0.03596071]])}\n",
      "WARNING:apache_beam.io.tfrecordio:Couldn't find python-snappy so the implementation of _TFRecordUtil._masked_crc32c is not as fast as it could be.\n"
     ]
    },
    {
     "name": "stdout",
     "output_type": "stream",
     "text": [
      "CPU times: user 3min 44s, sys: 4min 50s, total: 8min 34s\n",
      "Wall time: 2min 27s\n",
      "Pipeline is done.\n"
     ]
    }
   ],
   "source": [
    "print(\"Running pipeline...\")\n",
    "%time run_hub2emb(args)\n",
    "print(\"Pipeline is done.\")"
   ]
  },
  {
   "cell_type": "code",
   "execution_count": 22,
   "metadata": {
    "id": "JAwOo7gQWvVd"
   },
   "outputs": [
    {
     "name": "stdout",
     "output_type": "stream",
     "text": [
      "emb-00000-of-00001.tfrecords\n"
     ]
    }
   ],
   "source": [
    "!ls {output_dir}"
   ]
  },
  {
   "cell_type": "markdown",
   "metadata": {
    "id": "HVnee4e6U90u"
   },
   "source": [
    "Read some of the generated embeddings..."
   ]
  },
  {
   "cell_type": "code",
   "execution_count": 23,
   "metadata": {
    "id": "-K7pGXlXOj1N"
   },
   "outputs": [
    {
     "name": "stdout",
     "output_type": "stream",
     "text": [
      "headline_text: [ 0.17628911  0.07620732 -0.21826053 -0.09633634 -0.3180913  -0.0439307\n",
      "  0.04169704  0.12417232 -0.08221293 -0.07788914]\n",
      "aba decides against community broadcasting licence: [ 0.14296786  0.1753711   0.00837541 -0.07847181  0.14506122 -0.0858033\n",
      " -0.05364956 -0.31137386 -0.31907797  0.01710076]\n",
      "act fire witnesses must be aware of defamation: [ 0.01978064  0.00425929 -0.22363308 -0.03966699  0.10657565 -0.07904412\n",
      " -0.03573405 -0.2142645  -0.08354674 -0.10938133]\n",
      "a g calls for infrastructure protection summit: [ 0.07594377 -0.02903219 -0.05669432 -0.09053564 -0.14622794 -0.10712205\n",
      " -0.04769247 -0.23432465  0.0192601   0.15170844]\n",
      "air nz staff in aust strike for pay rise: [-0.12185976 -0.09412382  0.12394873 -0.07942633  0.00495184  0.25233713\n",
      "  0.14275916 -0.08413959 -0.03868937 -0.17073041]\n"
     ]
    }
   ],
   "source": [
    "embed_file = os.path.join(output_dir, 'emb-00000-of-00001.tfrecords')\n",
    "sample = 5\n",
    "\n",
    "# Create a description of the features.\n",
    "feature_description = {\n",
    "    'text': tf.io.FixedLenFeature([], tf.string),\n",
    "    'embedding': tf.io.FixedLenFeature([projected_dim], tf.float32)\n",
    "}\n",
    "\n",
    "def _parse_example(example):\n",
    "  # Parse the input `tf.Example` proto using the dictionary above.\n",
    "  return tf.io.parse_single_example(example, feature_description)\n",
    "\n",
    "dataset = tf.data.TFRecordDataset(embed_file)\n",
    "for record in dataset.take(sample).map(_parse_example):\n",
    "  print(\"{}: {}\".format(record['text'].numpy().decode('utf-8'), record['embedding'].numpy()[:10]))\n"
   ]
  },
  {
   "cell_type": "markdown",
   "metadata": {
    "id": "agGoaMSgY8wN"
   },
   "source": [
    "## 3. Build the ANN Index for the Embeddings\n",
    "\n",
    "[ANNOY](https://github.com/spotify/annoy) (Approximate Nearest Neighbors Oh Yeah) is a C++ library with Python bindings to search for points in space that are close to a given query point. It also creates large read-only file-based data structures that are mapped into memory. It is built and used by [Spotify](https://www.spotify.com) for music recommendations. If you are interested you can play along with other alternatives to ANNOY such as [NGT](https://github.com/yahoojapan/NGT), [FAISS](https://github.com/facebookresearch/faiss), etc. "
   ]
  },
  {
   "cell_type": "code",
   "execution_count": 24,
   "metadata": {
    "id": "UcPDspU3WjgH"
   },
   "outputs": [],
   "source": [
    "def build_index(embedding_files_pattern, index_filename, vector_length, \n",
    "    metric='angular', num_trees=100):\n",
    "  '''Builds an ANNOY index'''\n",
    "\n",
    "  annoy_index = annoy.AnnoyIndex(vector_length, metric=metric)\n",
    "  # Mapping between the item and its identifier in the index\n",
    "  mapping = {}\n",
    "\n",
    "  embed_files = tf.io.gfile.glob(embedding_files_pattern)\n",
    "  num_files = len(embed_files)\n",
    "  print('Found {} embedding file(s).'.format(num_files))\n",
    "\n",
    "  item_counter = 0\n",
    "  for i, embed_file in enumerate(embed_files):\n",
    "    print('Loading embeddings in file {} of {}...'.format(i+1, num_files))\n",
    "    dataset = tf.data.TFRecordDataset(embed_file)\n",
    "    for record in dataset.map(_parse_example):\n",
    "      text = record['text'].numpy().decode(\"utf-8\")\n",
    "      embedding = record['embedding'].numpy()\n",
    "      mapping[item_counter] = text\n",
    "      annoy_index.add_item(item_counter, embedding)\n",
    "      item_counter += 1\n",
    "      if item_counter % 100000 == 0:\n",
    "        print('{} items loaded to the index'.format(item_counter))\n",
    "\n",
    "  print('A total of {} items added to the index'.format(item_counter))\n",
    "\n",
    "  print('Building the index with {} trees...'.format(num_trees))\n",
    "  annoy_index.build(n_trees=num_trees)\n",
    "  print('Index is successfully built.')\n",
    "  \n",
    "  print('Saving index to disk...')\n",
    "  annoy_index.save(index_filename)\n",
    "  print('Index is saved to disk.')\n",
    "  print(\"Index file size: {} GB\".format(\n",
    "    round(os.path.getsize(index_filename) / float(1024 ** 3), 2)))\n",
    "  annoy_index.unload()\n",
    "\n",
    "  print('Saving mapping to disk...')\n",
    "  with open(index_filename + '.mapping', 'wb') as handle:\n",
    "    pickle.dump(mapping, handle, protocol=pickle.HIGHEST_PROTOCOL)\n",
    "  print('Mapping is saved to disk.')\n",
    "  print(\"Mapping file size: {} MB\".format(\n",
    "    round(os.path.getsize(index_filename + '.mapping') / float(1024 ** 2), 2)))"
   ]
  },
  {
   "cell_type": "code",
   "execution_count": 25,
   "metadata": {
    "id": "AgyOQhUq6FNE"
   },
   "outputs": [
    {
     "name": "stdout",
     "output_type": "stream",
     "text": [
      "rm: cannot remove 'index': No such file or directory\n",
      "rm: cannot remove 'index.mapping': No such file or directory\n",
      "Found 1 embedding file(s).\n",
      "Loading embeddings in file 1 of 1...\n",
      "100000 items loaded to the index\n",
      "200000 items loaded to the index\n",
      "300000 items loaded to the index\n",
      "400000 items loaded to the index\n",
      "500000 items loaded to the index\n",
      "600000 items loaded to the index\n",
      "700000 items loaded to the index\n",
      "800000 items loaded to the index\n",
      "900000 items loaded to the index\n",
      "1000000 items loaded to the index\n",
      "1100000 items loaded to the index\n",
      "A total of 1103664 items added to the index\n",
      "Building the index with 100 trees...\n",
      "Index is successfully built.\n",
      "Saving index to disk...\n",
      "Index is saved to disk.\n",
      "Index file size: 1.59 GB\n",
      "Saving mapping to disk...\n",
      "Mapping is saved to disk.\n",
      "Mapping file size: 50.61 MB\n",
      "CPU times: user 10min 56s, sys: 1min 47s, total: 12min 44s\n",
      "Wall time: 5min 29s\n"
     ]
    }
   ],
   "source": [
    "embedding_files = \"{}/emb-*.tfrecords\".format(output_dir)\n",
    "embedding_dimension = projected_dim\n",
    "index_filename = \"index\"\n",
    "\n",
    "!rm {index_filename}\n",
    "!rm {index_filename}.mapping\n",
    "\n",
    "%time build_index(embedding_files, index_filename, embedding_dimension)"
   ]
  },
  {
   "cell_type": "code",
   "execution_count": 26,
   "metadata": {
    "id": "Ic31Tm5cgAd5"
   },
   "outputs": [
    {
     "name": "stdout",
     "output_type": "stream",
     "text": [
      "Copy_of_Semantic_Search_with_Approximate_Nearest_Neighbors_and_Text_Embeddings_from_TF_Hub.ipynb\n",
      "anya_semantic_search\n",
      "corpus\n",
      "data\n",
      "env_anya_semantic_search_py3713.yml\n",
      "example-SemanticSearch_with_ANNandTextEmbeddingsFromTFHub.ipynb\n",
      "example_tfsimilarity_mnist.ipynb\n",
      "index\n",
      "index.mapping\n",
      "mySemantic_Search_with_Approximate_Nearest_Neighbors_and_Text_Embeddings_from_TF_Hub.ipynb\n",
      "my_tfsimilarity_text.ipynb\n",
      "random_projection_matrix\n",
      "raw.tsv\n",
      "requirements.txt\n",
      "src\n",
      "tensorflow_datasets\n",
      "tutorials\n"
     ]
    }
   ],
   "source": [
    "!ls"
   ]
  },
  {
   "cell_type": "markdown",
   "metadata": {
    "id": "maGxDl8ufP-p"
   },
   "source": [
    "## 4. Use the Index for Similarity Matching\n",
    "Now we can use the ANN index to find news headlines that are semantically close to an input query."
   ]
  },
  {
   "cell_type": "markdown",
   "metadata": {
    "id": "_dIs8W78fYPp"
   },
   "source": [
    "### Load the index and the mapping files"
   ]
  },
  {
   "cell_type": "code",
   "execution_count": 27,
   "metadata": {
    "id": "jlTTrbQHayvb"
   },
   "outputs": [
    {
     "name": "stderr",
     "output_type": "stream",
     "text": [
      "/opt/conda/envs/anya_semantic_search2/lib/python3.7/site-packages/ipykernel_launcher.py:1: FutureWarning: The default argument for metric will be removed in future version of Annoy. Please pass metric='angular' explicitly.\n",
      "  \"\"\"Entry point for launching an IPython kernel.\n"
     ]
    },
    {
     "name": "stdout",
     "output_type": "stream",
     "text": [
      "Annoy index is loaded.\n",
      "Mapping file is loaded.\n"
     ]
    }
   ],
   "source": [
    "index = annoy.AnnoyIndex(embedding_dimension)\n",
    "index.load(index_filename, prefault=True)\n",
    "print('Annoy index is loaded.')\n",
    "with open(index_filename + '.mapping', 'rb') as handle:\n",
    "  mapping = pickle.load(handle)\n",
    "print('Mapping file is loaded.')\n"
   ]
  },
  {
   "cell_type": "markdown",
   "metadata": {
    "id": "y6liFMSUh08J"
   },
   "source": [
    "### Similarity matching method"
   ]
  },
  {
   "cell_type": "code",
   "execution_count": 28,
   "metadata": {
    "id": "mUxjTag8hc16"
   },
   "outputs": [],
   "source": [
    "def find_similar_items(embedding, num_matches=5):\n",
    "  '''Finds similar items to a given embedding in the ANN index'''\n",
    "  ids = index.get_nns_by_vector(\n",
    "  embedding, num_matches, search_k=-1, include_distances=False)\n",
    "  items = [mapping[i] for i in ids]\n",
    "  return items"
   ]
  },
  {
   "cell_type": "markdown",
   "metadata": {
    "id": "hjerNpmZja0A"
   },
   "source": [
    "### Extract embedding from a given query"
   ]
  },
  {
   "cell_type": "code",
   "execution_count": 29,
   "metadata": {
    "id": "a0IIXzfBjZ19"
   },
   "outputs": [
    {
     "name": "stdout",
     "output_type": "stream",
     "text": [
      "Loading the TF-Hub model...\n",
      "CPU times: user 747 ms, sys: 0 ns, total: 747 ms\n",
      "Wall time: 742 ms\n",
      "TF-Hub model is loaded.\n",
      "Loading random projection matrix...\n",
      "random projection matrix is loaded.\n"
     ]
    }
   ],
   "source": [
    "# Load the TF-Hub model\n",
    "print(\"Loading the TF-Hub model...\")\n",
    "%time embed_fn = hub.load(model_url)\n",
    "print(\"TF-Hub model is loaded.\")\n",
    "\n",
    "random_projection_matrix = None\n",
    "if os.path.exists('random_projection_matrix'):\n",
    "  print(\"Loading random projection matrix...\")\n",
    "  with open('random_projection_matrix', 'rb') as handle:\n",
    "    random_projection_matrix = pickle.load(handle)\n",
    "  print('random projection matrix is loaded.')\n",
    "\n",
    "def extract_embeddings(query):\n",
    "  '''Generates the embedding for the query'''\n",
    "  query_embedding =  embed_fn([query])[0].numpy()\n",
    "  if random_projection_matrix is not None:\n",
    "    query_embedding = query_embedding.dot(random_projection_matrix)\n",
    "  return query_embedding\n"
   ]
  },
  {
   "cell_type": "code",
   "execution_count": 30,
   "metadata": {
    "id": "kCoCNROujEIO"
   },
   "outputs": [
    {
     "data": {
      "text/plain": [
       "array([ 0.01088701, -0.17290705,  0.10364328, -0.05256209,  0.02701738,\n",
       "        0.09980917, -0.13619774,  0.12053568, -0.18887891,  0.10531252])"
      ]
     },
     "execution_count": 30,
     "metadata": {},
     "output_type": "execute_result"
    }
   ],
   "source": [
    "extract_embeddings(\"Hello Machine Learning!\")[:10]"
   ]
  },
  {
   "cell_type": "markdown",
   "metadata": {
    "id": "koINo8Du--8C"
   },
   "source": [
    "### Enter a query to find the most similar items"
   ]
  },
  {
   "cell_type": "code",
   "execution_count": 31,
   "metadata": {
    "cellView": "form",
    "id": "wC0uLjvfk5nB"
   },
   "outputs": [
    {
     "name": "stdout",
     "output_type": "stream",
     "text": [
      "Generating embedding for the query...\n",
      "CPU times: user 4.21 ms, sys: 0 ns, total: 4.21 ms\n",
      "Wall time: 2.48 ms\n",
      "\n",
      "Finding relevant items in the index...\n",
      "CPU times: user 1.15 ms, sys: 0 ns, total: 1.15 ms\n",
      "Wall time: 606 µs\n",
      "\n",
      "Results:\n",
      "=========\n",
      "confronting global challenges\n",
      "conference examines challenges facing major cities\n",
      "emerging currencies face looming threat from\n",
      "darling downs economy feeling global impacts\n",
      "scientists set to address exploitation of worlds\n",
      "world faces growing risk of conflict\n",
      "great minds tackle global woes\n",
      "global stocks remain on edge\n",
      "terror fears hit global markets\n",
      "economic pressures on emerging markets\n"
     ]
    }
   ],
   "source": [
    "#@title { run: \"auto\" }\n",
    "query = \"confronting global challenges\" #@param {type:\"string\"}\n",
    "\n",
    "print(\"Generating embedding for the query...\")\n",
    "%time query_embedding = extract_embeddings(query)\n",
    "\n",
    "print(\"\")\n",
    "print(\"Finding relevant items in the index...\")\n",
    "%time items = find_similar_items(query_embedding, 10)\n",
    "\n",
    "print(\"\")\n",
    "print(\"Results:\")\n",
    "print(\"=========\")\n",
    "for item in items:\n",
    "  print(item)"
   ]
  },
  {
   "cell_type": "markdown",
   "metadata": {
    "id": "TkRSqs77tDuX"
   },
   "source": [
    "## Want to learn more?\n",
    "\n",
    "You can learn more about TensorFlow at [tensorflow.org](https://www.tensorflow.org/) and see the TF-Hub API documentation at [tensorflow.org/hub](https://www.tensorflow.org/hub/). Find available TensorFlow Hub models at [tfhub.dev](https://tfhub.dev/) including more text embedding models and image feature vector models.\n",
    "\n",
    "Also check out the [Machine Learning Crash Course](https://developers.google.com/machine-learning/crash-course/) which is Google's fast-paced, practical introduction to machine learning."
   ]
  },
  {
   "cell_type": "code",
   "execution_count": null,
   "metadata": {
    "id": "GsVW7FPqXt7G"
   },
   "outputs": [],
   "source": []
  }
 ],
 "metadata": {
  "colab": {
   "collapsed_sections": [
    "g6pXBVxsVUbm"
   ],
   "private_outputs": true,
   "provenance": [],
   "toc_visible": true
  },
  "kernelspec": {
   "display_name": "anya_semantic_search2 (Local)",
   "language": "python",
   "name": "local-anya_semantic_search2"
  },
  "language_info": {
   "codemirror_mode": {
    "name": "ipython",
    "version": 3
   },
   "file_extension": ".py",
   "mimetype": "text/x-python",
   "name": "python",
   "nbconvert_exporter": "python",
   "pygments_lexer": "ipython3",
   "version": "3.7.13"
  }
 },
 "nbformat": 4,
 "nbformat_minor": 4
}
