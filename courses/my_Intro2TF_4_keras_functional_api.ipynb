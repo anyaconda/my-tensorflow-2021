{
 "cells": [
  {
   "cell_type": "code",
   "execution_count": 1,
   "metadata": {},
   "outputs": [],
   "source": [
    "#meta 4/4/2022 TensorFlow2 Introducing the Keras Functional API (not on Vertex AI Platform)\n",
    "# src course Introduction to TensorFlow\n",
    "# git clone https://github.com/GoogleCloudPlatform/training-data-analyst \n",
    "# file src: https://github.com/GoogleCloudPlatform/training-data-analyst/blob/master/courses/machine_learning/deepdive2/introduction_to_tensorflow/labs/3_keras_functional_api.ipynb\n",
    "\n",
    "#infra: work laptop, env anya_tf2\n",
    "#$issue with plotting model - figure out graphviz on Windows, for now - draw a static image\n",
    "#  tried\n",
    "#  pip install pydotplus, pip install graphviz\n",
    "#  pydot 1.4.2 (already installed), pydotplus 2.0.2, graphviz 0.19.1\n",
    "#  added to env vars: C:\\Anaconda3\\Lib\\site-packages and C:\\Anaconda3\\Lib\\site-packages\\graphviz\n",
    "#  also tried \n",
    "#  conda install graphviz but \n",
    "#  get security error CondaHTTPError: HTTP 000 CONNECTION FAILED for url <https://repo.anaconda.com/pkgs/main/win-64/current_repodata.json>\n",
    "#  ...current network has https://www.anaconda.com blocked\n",
    "\n",
    "#In the notebook interface, navigate to \n",
    "#  training-data-analyst > courses > machine_learning > deepdive2 > introduction_to_tensorflow > labs, \n",
    "#  and open 4_keras_functional_api.ipynb\n",
    "#Look at the complete solution, navigate to \n",
    "#  training-data-analyst > courses > machine_learning > deepdive2 > introduction_to_tensorflow > solutions, \n",
    "#  and open 4_keras_functional_api.ipynb\n",
    "\n",
    "#history\n",
    "#4/4/2022 REVIEW\n",
    "#      \n",
    "#      Understand embeddings and how to create them with the feature column API.\n",
    "#      Understand Deep and Wide models and when to use them.\n",
    "#      Understand the Keras functional API and how to build a deep and wide model with it.\n",
    "#      High-level model evaluation\n",
    "#      Make predictions with the Keras model\n",
    "#\n",
    "#      here: Build a Wide & Deep model using the Keras Functional API; call our model for online prediciton.\n",
    "#      $note: Deploy and predict in GCP and Vertex AI wouldn't work outside of GCP, refer to solution file."
   ]
  },
  {
   "cell_type": "markdown",
   "metadata": {},
   "source": [
    "# Introducing the Keras Functional API on Vertex AI Platform\n",
    "\n",
    "**Learning objectives**\n",
    "  1. Understand embeddings and how to create them with the feature column API.\n",
    "  1. Understand Deep and Wide models and when to use them.\n",
    "  1. Understand the Keras functional API and how to build a deep and wide model with it.\n",
    "  1. Learn how to deploy the Model to Vertex AI and make predictions with the Keras model.\n",
    "\n",
    "## Introduction\n",
    "\n",
    "In the last notebook, you learned about the Keras Sequential API. The [Keras Functional API](https://www.tensorflow.org/guide/keras#functional_api) provides an alternate way of building models which is more flexible. With the Functional API, we can build models with more complex topologies, multiple input or output layers, shared layers or non-sequential data flows (e.g. residual layers).\n",
    "\n",
    "In this notebook you'll use what we learned about feature columns to build a Wide & Deep model. Recall, that the idea behind Wide & Deep models is to join the two methods of learning through memorization and generalization by making a wide linear model and a deep learning model to accommodate both. You can have a look at the original research paper here: [Wide & Deep Learning for Recommender Systems](https://arxiv.org/abs/1606.07792).\n",
    "\n",
    "<img src='images/4_keras_funcAPI/wide_deep.png' width='80%'>\n",
    "<sup>(image: https://ai.googleblog.com/2016/06/wide-deep-learning-better-together-with.html)</sup>\n",
    "\n",
    "The Wide part of the model is associated with the memory element. In this case, we train a linear model with a wide set of crossed features and learn the correlation of this related data with the assigned label. The Deep part of the model is associated with the generalization element where we use embedding vectors for features. The best embeddings are then learned through the training process. While both of these methods can work well alone, Wide & Deep models excel by combining these techniques together.\n",
    "\n",
    "Each learning objective will correspond to a __#TODO__  in this student lab notebook -- try to complete this notebook first and then review the [solution notebook](../solutions/4_keras_functional_api.ipynb)\n"
   ]
  },
  {
   "cell_type": "code",
   "execution_count": 2,
   "metadata": {},
   "outputs": [],
   "source": [
    "# Use the chown command to change the ownership of the repository.\n",
    "#$my !sudo chown -R jupyter:jupyter /home/jupyter/training-data-analyst"
   ]
  },
  {
   "cell_type": "code",
   "execution_count": 3,
   "metadata": {},
   "outputs": [],
   "source": [
    "# Ensure the right version of Tensorflow is installed.\n",
    "#$my !pip freeze | grep tensorflow==2.3.0 || pip install tensorflow==2.3.0"
   ]
  },
  {
   "cell_type": "markdown",
   "metadata": {},
   "source": [
    "Kindly ignore the deprecation warnings and incompatibility errors."
   ]
  },
  {
   "cell_type": "code",
   "execution_count": 4,
   "metadata": {},
   "outputs": [],
   "source": [
    "# Install the required numpy version.\n",
    "#$my !pip install numpy==1.21.0"
   ]
  },
  {
   "cell_type": "markdown",
   "metadata": {},
   "source": [
    "Kindly ignore the deprecation warnings and incompatibility errors.\n",
    "\n",
    "**Restart** the kernel before proceeding further (On the Notebook menu, select Kernel > Restart Kernel > Restart).\n"
   ]
  },
  {
   "cell_type": "markdown",
   "metadata": {},
   "source": [
    "Start by importing the necessary libraries for this lab."
   ]
  },
  {
   "cell_type": "code",
   "execution_count": 5,
   "metadata": {},
   "outputs": [
    {
     "name": "stdout",
     "output_type": "stream",
     "text": [
      "2.6.3\n"
     ]
    }
   ],
   "source": [
    "# Importing necessary modules/libraries such as numpy, pandas and datetime.\n",
    "\n",
    "import datetime\n",
    "import os\n",
    "import shutil\n",
    "\n",
    "import numpy as np\n",
    "import pandas as pd\n",
    "import tensorflow as tf\n",
    "from google.cloud import aiplatform\n",
    "from matplotlib import pyplot as plt\n",
    "from tensorflow import feature_column as fc\n",
    "from tensorflow import keras\n",
    "from tensorflow.keras import Model\n",
    "from tensorflow.keras.callbacks import TensorBoard\n",
    "from tensorflow.keras.layers import Input, Dense, DenseFeatures, concatenate\n",
    "from tensorflow.keras.models import Sequential\n",
    "\n",
    "print(tf.__version__)\n",
    "%matplotlib inline"
   ]
  },
  {
   "cell_type": "code",
   "execution_count": 6,
   "metadata": {},
   "outputs": [],
   "source": [
    "%matplotlib inline"
   ]
  },
  {
   "cell_type": "markdown",
   "metadata": {},
   "source": [
    "## Load raw data \n",
    "\n",
    "We will use the taxifare dataset, using the CSV files that we created in the first notebook of this sequence. Those files have been saved into `../data`."
   ]
  },
  {
   "cell_type": "code",
   "execution_count": 7,
   "metadata": {},
   "outputs": [],
   "source": [
    "#$my - works in Linux/Unix system, ie. G Colab\n",
    "#!ls -l ../data/*.csv\n",
    "\n",
    "#!head ../data/taxi*.csv"
   ]
  },
  {
   "cell_type": "code",
   "execution_count": 8,
   "metadata": {},
   "outputs": [
    {
     "name": "stdout",
     "output_type": "stream",
     "text": [
      "-rw-r--r-- 1 chq-anyac 1049089 123590 Mar 23 13:11 data/taxi_data/taxi-test.csv\n",
      "-rw-r--r-- 1 chq-anyac 1049089 579055 Mar 23 13:11 data/taxi_data/taxi-train.csv\n",
      "-rw-r--r-- 1 chq-anyac 1049089 123114 Mar 23 13:11 data/taxi_data/taxi-valid.csv\n"
     ]
    }
   ],
   "source": [
    "%%bash\n",
    "ls -l data/taxi_data/*.csv"
   ]
  },
  {
   "cell_type": "code",
   "execution_count": 9,
   "metadata": {},
   "outputs": [
    {
     "name": "stdout",
     "output_type": "stream",
     "text": [
      "11.3,2011-01-28 20:42:59 UTC,-73.999022,40.739146,-73.990369,40.717866,1,0\n",
      "7.7,2011-06-27 04:28:06 UTC,-73.987443,40.729221,-73.979013,40.758641,1,1\n",
      "10.5,2011-04-03 00:54:53 UTC,-73.982539,40.735725,-73.954797,40.778388,1,2\n",
      "16.2,2009-04-10 04:11:56 UTC,-74.001945,40.740505,-73.91385,40.758559,1,3\n",
      "33.5,2014-02-24 18:22:00 UTC,-73.993372,40.753382,-73.8609,40.732897,2,4\n",
      "6.9,2011-12-10 00:25:23 UTC,-73.996237,40.721848,-73.989416,40.718052,1,5\n",
      "6.1,2012-09-01 14:30:19 UTC,-73.977048,40.758461,-73.984899,40.744693,2,6\n",
      "9.5,2012-11-08 13:28:07 UTC,-73.969402,40.757545,-73.950049,40.776079,1,7\n",
      "9.0,2014-07-15 11:37:25 UTC,-73.979318,40.760949,-73.95767,40.773724,1,8\n",
      "3.3,2009-11-09 18:06:58 UTC,-73.955675,40.779154,-73.961172,40.772368,1,9\n"
     ]
    }
   ],
   "source": [
    "%%bash\n",
    "head data/taxi_data/taxi-train.csv"
   ]
  },
  {
   "cell_type": "markdown",
   "metadata": {},
   "source": [
    "## Use tf.data to read the CSV files\n",
    "\n",
    "We wrote these functions for reading data from the csv files above in the [previous notebook](2_dataset_api.ipynb). For this lab we will also include some additional engineered features in our model. In particular, we will compute the difference in latitude and longitude, as well as the Euclidean distance between the pick-up and drop-off locations. We can accomplish this by adding these new features to the features dictionary with the function `add_engineered_features` below. \n",
    "\n",
    "Note that we include a call to this function when collecting our features dict and labels in the `features_and_labels` function below as well. "
   ]
  },
  {
   "cell_type": "code",
   "execution_count": 10,
   "metadata": {},
   "outputs": [],
   "source": [
    "CSV_COLUMNS = [\n",
    "    'fare_amount',\n",
    "    'pickup_datetime',\n",
    "    'pickup_longitude',\n",
    "    'pickup_latitude',\n",
    "    'dropoff_longitude',\n",
    "    'dropoff_latitude',\n",
    "    'passenger_count',\n",
    "    'key'\n",
    "]\n",
    "LABEL_COLUMN = 'fare_amount'\n",
    "DEFAULTS = [[0.0], ['na'], [0.0], [0.0], [0.0], [0.0], [0.0], ['na']]\n",
    "UNWANTED_COLS = ['pickup_datetime', 'key']\n",
    "\n",
    "\n",
    "def features_and_labels(row_data):\n",
    "    label = row_data.pop(LABEL_COLUMN)\n",
    "    features = row_data\n",
    "        \n",
    "    for unwanted_col in UNWANTED_COLS:\n",
    "        features.pop(unwanted_col)\n",
    "\n",
    "    return features, label\n",
    "\n",
    "\n",
    "def create_dataset(pattern, batch_size=1, mode='eval'):\n",
    "    dataset = tf.data.experimental.make_csv_dataset(\n",
    "        pattern, batch_size, CSV_COLUMNS, DEFAULTS)\n",
    "\n",
    "    dataset = dataset.map(features_and_labels)\n",
    "    \n",
    "    if mode == 'train':\n",
    "        dataset = dataset.shuffle(buffer_size=1000).repeat()\n",
    "\n",
    "    # take advantage of multi-threading; 1=AUTOTUNE\n",
    "    dataset = dataset.prefetch(1)\n",
    "    return dataset"
   ]
  },
  {
   "cell_type": "markdown",
   "metadata": {},
   "source": [
    "## Feature columns for Wide and Deep model\n",
    "\n",
    "For the Wide columns, we will create feature columns of crossed features. To do this, we'll create a collection of Tensorflow feature columns to pass to the `tf.feature_column.crossed_column` constructor. The Deep columns will consist of numeric columns and the embedding columns we want to create. "
   ]
  },
  {
   "cell_type": "markdown",
   "metadata": {},
   "source": [
    "**Lab Task #1:** In the cell below, create feature columns for our wide-and-deep model. You'll need to build \n",
    "1. bucketized columns using [tf.feature_column.bucketized_column](https://www.tensorflow.org/api_docs/python/tf/feature_column/bucketized_column) for the pickup and dropoff latitude and longitude,\n",
    "2. crossed columns using [tf.feature_column.crossed_column](https://www.tensorflow.org/api_docs/python/tf/feature_column/crossed_column) for those bucketized columns, and \n",
    "3. embedding columns using [tf.feature_column.embedding_column](https://www.tensorflow.org/api_docs/python/tf/feature_column/embedding_column) for the crossed columns."
   ]
  },
  {
   "cell_type": "code",
   "execution_count": 11,
   "metadata": {},
   "outputs": [
    {
     "name": "stdout",
     "output_type": "stream",
     "text": [
      "[38.0, 38.266666666666666, 38.53333333333333, 38.8, 39.06666666666667, 39.333333333333336, 39.6, 39.86666666666667, 40.13333333333333, 40.4, 40.666666666666664, 40.93333333333333, 41.2, 41.46666666666667, 41.733333333333334, 42.0]\n",
      "\n",
      "[-76.0, -75.73333333333333, -75.46666666666667, -75.2, -74.93333333333334, -74.66666666666667, -74.4, -74.13333333333334, -73.86666666666666, -73.6, -73.33333333333333, -73.06666666666666, -72.8, -72.53333333333333, -72.26666666666667, -72.0]\n"
     ]
    },
    {
     "data": {
      "text/plain": [
       "BucketizedColumn(source_column=NumericColumn(key='pickup_longitude', shape=(1,), default_value=None, dtype=tf.float32, normalizer_fn=None), boundaries=(-76.0, -75.73333333333333, -75.46666666666667, -75.2, -74.93333333333334, -74.66666666666667, -74.4, -74.13333333333334, -73.86666666666666, -73.6, -73.33333333333333, -73.06666666666666, -72.8, -72.53333333333333, -72.26666666666667, -72.0))"
      ]
     },
     "execution_count": 11,
     "metadata": {},
     "output_type": "execute_result"
    }
   ],
   "source": [
    "# TODO 1\n",
    "\n",
    "# 1. Bucketize latitudes and longitudes\n",
    "NBUCKETS = 16\n",
    "latbuckets = np.linspace(start=38.0, stop=42.0, num=NBUCKETS).tolist()\n",
    "lonbuckets = np.linspace(start=-76.0, stop=-72.0, num=NBUCKETS).tolist()\n",
    "\n",
    "# TODO: Your code goes here.\n",
    "fc_bucketized_plon = fc.bucketized_column(\n",
    "    source_column=fc.numeric_column(\"pickup_longitude\"), boundaries=lonbuckets)\n",
    "fc_bucketized_plat = fc.bucketized_column(\n",
    "    source_column=fc.numeric_column(\"pickup_latitude\"), boundaries=latbuckets)\n",
    "fc_bucketized_dlon = fc.bucketized_column(\n",
    "    source_column=fc.numeric_column(\"dropoff_longitude\"), boundaries=lonbuckets)\n",
    "fc_bucketized_dlat = fc.bucketized_column(\n",
    "    source_column=fc.numeric_column(\"dropoff_latitude\"), boundaries=latbuckets)\n",
    "\n",
    "#$my preview\n",
    "print(latbuckets)\n",
    "print()\n",
    "print(lonbuckets)\n",
    "\n",
    "fc_bucketized_plon"
   ]
  },
  {
   "cell_type": "code",
   "execution_count": 12,
   "metadata": {},
   "outputs": [
    {
     "data": {
      "text/plain": [
       "CrossedColumn(keys=(BucketizedColumn(source_column=NumericColumn(key='dropoff_longitude', shape=(1,), default_value=None, dtype=tf.float32, normalizer_fn=None), boundaries=(-76.0, -75.73333333333333, -75.46666666666667, -75.2, -74.93333333333334, -74.66666666666667, -74.4, -74.13333333333334, -73.86666666666666, -73.6, -73.33333333333333, -73.06666666666666, -72.8, -72.53333333333333, -72.26666666666667, -72.0)), BucketizedColumn(source_column=NumericColumn(key='dropoff_latitude', shape=(1,), default_value=None, dtype=tf.float32, normalizer_fn=None), boundaries=(38.0, 38.266666666666666, 38.53333333333333, 38.8, 39.06666666666667, 39.333333333333336, 39.6, 39.86666666666667, 40.13333333333333, 40.4, 40.666666666666664, 40.93333333333333, 41.2, 41.46666666666667, 41.733333333333334, 42.0))), hash_bucket_size=100, hash_key=None)"
      ]
     },
     "execution_count": 12,
     "metadata": {},
     "output_type": "execute_result"
    }
   ],
   "source": [
    "fc_crossed_dloc = fc.crossed_column([fc_bucketized_dlon, fc_bucketized_dlat], hash_bucket_size=100)\n",
    "fc_crossed_dloc"
   ]
  },
  {
   "cell_type": "code",
   "execution_count": 13,
   "metadata": {},
   "outputs": [
    {
     "name": "stdout",
     "output_type": "stream",
     "text": [
      "CrossedColumn(keys=(BucketizedColumn(source_column=NumericColumn(key='dropoff_latitude', shape=(1,), default_value=None, dtype=tf.float32, normalizer_fn=None), boundaries=(38.0, 38.266666666666666, 38.53333333333333, 38.8, 39.06666666666667, 39.333333333333336, 39.6, 39.86666666666667, 40.13333333333333, 40.4, 40.666666666666664, 40.93333333333333, 41.2, 41.46666666666667, 41.733333333333334, 42.0)), BucketizedColumn(source_column=NumericColumn(key='dropoff_longitude', shape=(1,), default_value=None, dtype=tf.float32, normalizer_fn=None), boundaries=(-76.0, -75.73333333333333, -75.46666666666667, -75.2, -74.93333333333334, -74.66666666666667, -74.4, -74.13333333333334, -73.86666666666666, -73.6, -73.33333333333333, -73.06666666666666, -72.8, -72.53333333333333, -72.26666666666667, -72.0))), hash_bucket_size=256, hash_key=None)\n",
      "\n",
      "CrossedColumn(keys=(CrossedColumn(keys=(BucketizedColumn(source_column=NumericColumn(key='dropoff_latitude', shape=(1,), default_value=None, dtype=tf.float32, normalizer_fn=None), boundaries=(38.0, 38.266666666666666, 38.53333333333333, 38.8, 39.06666666666667, 39.333333333333336, 39.6, 39.86666666666667, 40.13333333333333, 40.4, 40.666666666666664, 40.93333333333333, 41.2, 41.46666666666667, 41.733333333333334, 42.0)), BucketizedColumn(source_column=NumericColumn(key='dropoff_longitude', shape=(1,), default_value=None, dtype=tf.float32, normalizer_fn=None), boundaries=(-76.0, -75.73333333333333, -75.46666666666667, -75.2, -74.93333333333334, -74.66666666666667, -74.4, -74.13333333333334, -73.86666666666666, -73.6, -73.33333333333333, -73.06666666666666, -72.8, -72.53333333333333, -72.26666666666667, -72.0))), hash_bucket_size=256, hash_key=None), CrossedColumn(keys=(BucketizedColumn(source_column=NumericColumn(key='pickup_latitude', shape=(1,), default_value=None, dtype=tf.float32, normalizer_fn=None), boundaries=(38.0, 38.266666666666666, 38.53333333333333, 38.8, 39.06666666666667, 39.333333333333336, 39.6, 39.86666666666667, 40.13333333333333, 40.4, 40.666666666666664, 40.93333333333333, 41.2, 41.46666666666667, 41.733333333333334, 42.0)), BucketizedColumn(source_column=NumericColumn(key='pickup_longitude', shape=(1,), default_value=None, dtype=tf.float32, normalizer_fn=None), boundaries=(-76.0, -75.73333333333333, -75.46666666666667, -75.2, -74.93333333333334, -74.66666666666667, -74.4, -74.13333333333334, -73.86666666666666, -73.6, -73.33333333333333, -73.06666666666666, -72.8, -72.53333333333333, -72.26666666666667, -72.0))), hash_bucket_size=256, hash_key=None)), hash_bucket_size=65536, hash_key=None)\n"
     ]
    }
   ],
   "source": [
    "# 2. Cross features for locations\n",
    "# TODO: Your code goes here.\n",
    "fc_crossed_dloc = fc.crossed_column(\n",
    "    [fc_bucketized_dlat, fc_bucketized_dlon],\n",
    "    hash_bucket_size=NBUCKETS * NBUCKETS)\n",
    "fc_crossed_ploc = fc.crossed_column(\n",
    "    [fc_bucketized_plat, fc_bucketized_plon],\n",
    "    hash_bucket_size=NBUCKETS * NBUCKETS)\n",
    "fc_crossed_pd_pair = fc.crossed_column(\n",
    "    [fc_crossed_dloc, fc_crossed_ploc],\n",
    "    hash_bucket_size=NBUCKETS**4)\n",
    "\n",
    "#$my preview\n",
    "print(fc_crossed_dloc)\n",
    "print()\n",
    "print(fc_crossed_pd_pair)"
   ]
  },
  {
   "cell_type": "code",
   "execution_count": 14,
   "metadata": {},
   "outputs": [
    {
     "name": "stdout",
     "output_type": "stream",
     "text": [
      "EmbeddingColumn(categorical_column=CrossedColumn(keys=(BucketizedColumn(source_column=NumericColumn(key='dropoff_latitude', shape=(1,), default_value=None, dtype=tf.float32, normalizer_fn=None), boundaries=(38.0, 38.266666666666666, 38.53333333333333, 38.8, 39.06666666666667, 39.333333333333336, 39.6, 39.86666666666667, 40.13333333333333, 40.4, 40.666666666666664, 40.93333333333333, 41.2, 41.46666666666667, 41.733333333333334, 42.0)), BucketizedColumn(source_column=NumericColumn(key='dropoff_longitude', shape=(1,), default_value=None, dtype=tf.float32, normalizer_fn=None), boundaries=(-76.0, -75.73333333333333, -75.46666666666667, -75.2, -74.93333333333334, -74.66666666666667, -74.4, -74.13333333333334, -73.86666666666666, -73.6, -73.33333333333333, -73.06666666666666, -72.8, -72.53333333333333, -72.26666666666667, -72.0))), hash_bucket_size=256, hash_key=None), dimension=3, combiner='mean', initializer=<tensorflow.python.ops.init_ops.TruncatedNormal object at 0x000001DF213C36C8>, ckpt_to_load_from=None, tensor_name_in_ckpt=None, max_norm=None, trainable=True, use_safe_embedding_lookup=True)\n"
     ]
    }
   ],
   "source": [
    "# 3. Create embedding columns for the crossed columns\n",
    "# TODO: Your code goes here.\n",
    "fc_pd_pair = fc.embedding_column(categorical_column=fc_crossed_pd_pair, dimension=3)\n",
    "fc_dloc = fc.embedding_column(categorical_column=fc_crossed_dloc, dimension=3)\n",
    "fc_ploc = fc.embedding_column(categorical_column=fc_crossed_ploc, dimension=3)\n",
    "\n",
    "#$my preview\n",
    "print(fc_dloc)"
   ]
  },
  {
   "cell_type": "markdown",
   "metadata": {},
   "source": [
    "### Gather list of feature columns\n",
    "\n",
    "Next we gather the list of wide and deep feature columns we'll pass to our Wide & Deep model in Tensorflow. Recall, wide columns are sparse, have linear relationship with the output while continuous columns are deep, have a complex relationship with the output. We will use our previously bucketized columns to collect crossed feature columns and sparse feature columns for our wide columns, and embedding feature columns and numeric features columns for the deep columns."
   ]
  },
  {
   "cell_type": "markdown",
   "metadata": {},
   "source": [
    "**Lab Task #2:** Collect the wide and deep columns into two separate lists. You'll have two lists: One called `wide_columns` containing the one-hot encoded features from the crossed features and one called `deep_columns` which contains numeric and embedding feature columns."
   ]
  },
  {
   "cell_type": "code",
   "execution_count": 15,
   "metadata": {},
   "outputs": [],
   "source": [
    "# TODO 2\n",
    "wide_columns = [\n",
    "    # One-hot encoded feature crosses\n",
    "    # TODO: Your code goes here.\n",
    "    fc.indicator_column(fc_crossed_dloc),\n",
    "    fc.indicator_column(fc_crossed_ploc),\n",
    "    fc.indicator_column(fc_crossed_pd_pair)\n",
    "]\n",
    "\n",
    "deep_columns = [\n",
    "    # Embedding_column to \"group\" together ...\n",
    "    # TODO: Your code goes here.\n",
    "    fc.embedding_column(fc_crossed_pd_pair, dimension=10),\n",
    "\n",
    "    # Numeric columns\n",
    "    # TODO: Your code goes here.\n",
    "    fc.numeric_column(\"pickup_latitude\"),\n",
    "    fc.numeric_column(\"pickup_longitude\"),\n",
    "    fc.numeric_column(\"dropoff_longitude\"),\n",
    "    fc.numeric_column(\"dropoff_latitude\")\n",
    "]"
   ]
  },
  {
   "cell_type": "code",
   "execution_count": 16,
   "metadata": {},
   "outputs": [
    {
     "name": "stdout",
     "output_type": "stream",
     "text": [
      "IndicatorColumn(categorical_column=CrossedColumn(keys=(BucketizedColumn(source_column=NumericColumn(key='dropoff_latitude', shape=(1,), default_value=None, dtype=tf.float32, normalizer_fn=None), boundaries=(38.0, 38.266666666666666, 38.53333333333333, 38.8, 39.06666666666667, 39.333333333333336, 39.6, 39.86666666666667, 40.13333333333333, 40.4, 40.666666666666664, 40.93333333333333, 41.2, 41.46666666666667, 41.733333333333334, 42.0)), BucketizedColumn(source_column=NumericColumn(key='dropoff_longitude', shape=(1,), default_value=None, dtype=tf.float32, normalizer_fn=None), boundaries=(-76.0, -75.73333333333333, -75.46666666666667, -75.2, -74.93333333333334, -74.66666666666667, -74.4, -74.13333333333334, -73.86666666666666, -73.6, -73.33333333333333, -73.06666666666666, -72.8, -72.53333333333333, -72.26666666666667, -72.0))), hash_bucket_size=256, hash_key=None))\n",
      "\n",
      "EmbeddingColumn(categorical_column=CrossedColumn(keys=(CrossedColumn(keys=(BucketizedColumn(source_column=NumericColumn(key='dropoff_latitude', shape=(1,), default_value=None, dtype=tf.float32, normalizer_fn=None), boundaries=(38.0, 38.266666666666666, 38.53333333333333, 38.8, 39.06666666666667, 39.333333333333336, 39.6, 39.86666666666667, 40.13333333333333, 40.4, 40.666666666666664, 40.93333333333333, 41.2, 41.46666666666667, 41.733333333333334, 42.0)), BucketizedColumn(source_column=NumericColumn(key='dropoff_longitude', shape=(1,), default_value=None, dtype=tf.float32, normalizer_fn=None), boundaries=(-76.0, -75.73333333333333, -75.46666666666667, -75.2, -74.93333333333334, -74.66666666666667, -74.4, -74.13333333333334, -73.86666666666666, -73.6, -73.33333333333333, -73.06666666666666, -72.8, -72.53333333333333, -72.26666666666667, -72.0))), hash_bucket_size=256, hash_key=None), CrossedColumn(keys=(BucketizedColumn(source_column=NumericColumn(key='pickup_latitude', shape=(1,), default_value=None, dtype=tf.float32, normalizer_fn=None), boundaries=(38.0, 38.266666666666666, 38.53333333333333, 38.8, 39.06666666666667, 39.333333333333336, 39.6, 39.86666666666667, 40.13333333333333, 40.4, 40.666666666666664, 40.93333333333333, 41.2, 41.46666666666667, 41.733333333333334, 42.0)), BucketizedColumn(source_column=NumericColumn(key='pickup_longitude', shape=(1,), default_value=None, dtype=tf.float32, normalizer_fn=None), boundaries=(-76.0, -75.73333333333333, -75.46666666666667, -75.2, -74.93333333333334, -74.66666666666667, -74.4, -74.13333333333334, -73.86666666666666, -73.6, -73.33333333333333, -73.06666666666666, -72.8, -72.53333333333333, -72.26666666666667, -72.0))), hash_bucket_size=256, hash_key=None)), hash_bucket_size=65536, hash_key=None), dimension=10, combiner='mean', initializer=<tensorflow.python.ops.init_ops.TruncatedNormal object at 0x000001DF213B3188>, ckpt_to_load_from=None, tensor_name_in_ckpt=None, max_norm=None, trainable=True, use_safe_embedding_lookup=True)\n"
     ]
    }
   ],
   "source": [
    "#$my preview\n",
    "print(wide_columns[0])\n",
    "print()\n",
    "print(deep_columns[0])"
   ]
  },
  {
   "cell_type": "markdown",
   "metadata": {},
   "source": [
    "## Build a Wide and Deep model in Keras\n",
    "\n",
    "To build a wide-and-deep network, we connect the sparse (i.e. wide) features directly to the output node, but pass the dense (i.e. deep) features through a set of fully connected layers. Here’s that model architecture looks using the Functional API.\n",
    "\n",
    "First, we'll create our input columns using [tf.keras.layers.Input](https://www.tensorflow.org/versions/r2.0/api_docs/python/tf/keras/Input)."
   ]
  },
  {
   "cell_type": "code",
   "execution_count": 17,
   "metadata": {},
   "outputs": [],
   "source": [
    "INPUT_COLS = [\n",
    "    'pickup_longitude',\n",
    "    'pickup_latitude',\n",
    "    'dropoff_longitude',\n",
    "    'dropoff_latitude',\n",
    "    'passenger_count'\n",
    "]\n",
    "\n",
    "inputs = {colname : Input(name=colname, shape=(), dtype='float32')\n",
    "          for colname in INPUT_COLS\n",
    "}"
   ]
  },
  {
   "cell_type": "markdown",
   "metadata": {},
   "source": [
    "Then, we'll define our custom RMSE evaluation metric and build our wide and deep model."
   ]
  },
  {
   "cell_type": "markdown",
   "metadata": {},
   "source": [
    "**Lab Task #3:** Complete the code in the function `build_model` below so that it returns a compiled Keras model. The argument `dnn_hidden_units` should represent the number of units in each layer of your network. Use the Functional API to build a wide-and-deep model. Use the `deep_columns` you created above to build the deep layers and the `wide_columns` to create the wide layers. Once you have the wide and deep components, you will combine them to feed to a final fully connected layer. "
   ]
  },
  {
   "cell_type": "code",
   "execution_count": 18,
   "metadata": {},
   "outputs": [],
   "source": [
    "def rmse(y_true, y_pred):\n",
    "    return tf.sqrt(tf.reduce_mean(tf.square(y_pred - y_true)))\n",
    "\n",
    "# TODO 3\n",
    "def build_model(dnn_hidden_units):\n",
    "    # Create the deep part of model\n",
    "    # TODO: Your code goes here.\n",
    "    deep = DenseFeatures(deep_columns, name='deep_inputs')(inputs)\n",
    "    for num_nodes in dnn_hidden_units:\n",
    "        deep = Dense(num_nodes, activation='relu')(deep) \n",
    "    \n",
    "    # Create the wide part of model.\n",
    "    wide = DenseFeatures(wide_columns, name='wide_inputs')(inputs) # TODO: Your code goes here\n",
    "\n",
    "    # Combine deep and wide parts of the model\n",
    "    combined = concatenate(inputs=[deep, wide], name='combined') # TODO: Your code goes here.\n",
    "\n",
    "    # Map the combined outputs into a single prediction value\n",
    "    output = Dense(units=1, activation=None, name='prediction')(combined) # TODO: Your code goes here.\n",
    "    \n",
    "    # Finalize the model\n",
    "    model = Model(inputs=list(inputs.values()), outputs=output) # TODO: Your code goes here.\n",
    "\n",
    "    # Compile the keras model\n",
    "    model.compile(optimizer=\"adam\", loss=\"mse\", metrics=[rmse, \"mse\"]) # TODO: Your code goes here.\n",
    "    \n",
    "    return model"
   ]
  },
  {
   "cell_type": "markdown",
   "metadata": {},
   "source": [
    "Next, we can call the `build_model` to create the model. Here we'll have two hidden layers, each with 10 neurons, for the deep part of our model. We can also use `plot_model` to see a diagram of the model we've created."
   ]
  },
  {
   "cell_type": "code",
   "execution_count": 22,
   "metadata": {},
   "outputs": [
    {
     "name": "stdout",
     "output_type": "stream",
     "text": [
      "('You must install pydot (`pip install pydot`) and install graphviz (see instructions at https://graphviz.gitlab.io/download/) ', 'for plot_model/model_to_dot to work.')\n"
     ]
    }
   ],
   "source": [
    "HIDDEN_UNITS = [10,10]\n",
    "\n",
    "model = build_model(dnn_hidden_units=HIDDEN_UNITS)\n",
    "model.summary() #$my view model\n"
   ]
  },
  {
   "cell_type": "code",
   "execution_count": 24,
   "metadata": {},
   "outputs": [
    {
     "name": "stdout",
     "output_type": "stream",
     "text": [
      "('You must install pydot (`pip install pydot`) and install graphviz (see instructions at https://graphviz.gitlab.io/download/) ', 'for plot_model/model_to_dot to work.')\n"
     ]
    }
   ],
   "source": [
    "#$my $actodo figure out graphviz on Windows, for now - draw a static image\n",
    "tf.keras.utils.plot_model(model, show_shapes=False, rankdir='LR')"
   ]
  },
  {
   "cell_type": "markdown",
   "metadata": {},
   "source": [
    "![Model](images\\4_keras_funcAPI\\plot_model.png)"
   ]
  },
  {
   "cell_type": "markdown",
   "metadata": {},
   "source": [
    "Next, we'll set up our training variables, create our datasets for training and validation, and train our model.\n",
    "\n",
    "(We refer you the the blog post [ML Design Pattern #3: Virtual Epochs](https://medium.com/google-cloud/ml-design-pattern-3-virtual-epochs-f842296de730) for further details on why express the training in terms of `NUM_TRAIN_EXAMPLES` and `NUM_EVALS` and why, in this training code, the number of epochs is really equal to the number of evaluations we perform.)"
   ]
  },
  {
   "cell_type": "code",
   "execution_count": 26,
   "metadata": {},
   "outputs": [],
   "source": [
    "BATCH_SIZE = 1000\n",
    "NUM_TRAIN_EXAMPLES = 10000 * 5  # training dataset will repeat, wrap around\n",
    "NUM_EVALS = 50  # how many times to evaluate\n",
    "NUM_EVAL_EXAMPLES = 10000  # enough to get a reasonable sample\n",
    "\n",
    "trainds = create_dataset(\n",
    "    pattern='data/taxi_data/taxi-train*', #$my\n",
    "    batch_size=BATCH_SIZE,\n",
    "    mode='train')\n",
    "\n",
    "evalds = create_dataset(\n",
    "    pattern='data/taxi_data/taxi-valid*', #$my\n",
    "    batch_size=BATCH_SIZE,\n",
    "    mode='eval').take(NUM_EVAL_EXAMPLES//1000)"
   ]
  },
  {
   "cell_type": "code",
   "execution_count": 27,
   "metadata": {},
   "outputs": [
    {
     "name": "stdout",
     "output_type": "stream",
     "text": [
      "Wall time: 0 ns\n",
      "Epoch 1/50\n",
      "1/1 [==============================] - 22s 22s/step - loss: 235.4780 - rmse: 15.3453 - mse: 235.4780 - val_loss: 248.1456 - val_rmse: 15.7426 - val_mse: 248.1456\n",
      "Epoch 2/50\n",
      "1/1 [==============================] - 6s 6s/step - loss: 211.0613 - rmse: 14.5280 - mse: 211.0613 - val_loss: 247.2041 - val_rmse: 15.7172 - val_mse: 247.2041\n",
      "Epoch 3/50\n",
      "1/1 [==============================] - 5s 5s/step - loss: 211.4760 - rmse: 14.5422 - mse: 211.4760 - val_loss: 243.1478 - val_rmse: 15.5872 - val_mse: 243.1478\n",
      "Epoch 4/50\n",
      "1/1 [==============================] - 5s 5s/step - loss: 231.3312 - rmse: 15.2096 - mse: 231.3312 - val_loss: 240.4752 - val_rmse: 15.4963 - val_mse: 240.4752\n",
      "Epoch 5/50\n",
      "1/1 [==============================] - 5s 5s/step - loss: 215.1457 - rmse: 14.6678 - mse: 215.1457 - val_loss: 240.7142 - val_rmse: 15.5082 - val_mse: 240.7142\n",
      "Epoch 6/50\n",
      "1/1 [==============================] - 5s 5s/step - loss: 228.6791 - rmse: 15.1221 - mse: 228.6791 - val_loss: 237.8982 - val_rmse: 15.4113 - val_mse: 237.8982\n",
      "Epoch 7/50\n",
      "1/1 [==============================] - 5s 5s/step - loss: 206.2918 - rmse: 14.3629 - mse: 206.2918 - val_loss: 237.7245 - val_rmse: 15.4072 - val_mse: 237.7245\n",
      "Epoch 8/50\n",
      "1/1 [==============================] - 5s 5s/step - loss: 200.2583 - rmse: 14.1513 - mse: 200.2583 - val_loss: 234.8453 - val_rmse: 15.3020 - val_mse: 234.8453\n",
      "Epoch 9/50\n",
      "1/1 [==============================] - 5s 5s/step - loss: 241.0809 - rmse: 15.5268 - mse: 241.0809 - val_loss: 232.9421 - val_rmse: 15.2594 - val_mse: 232.9421\n",
      "Epoch 10/50\n",
      "1/1 [==============================] - 5s 5s/step - loss: 203.1478 - rmse: 14.2530 - mse: 203.1478 - val_loss: 228.5157 - val_rmse: 15.1044 - val_mse: 228.5157\n",
      "Epoch 11/50\n",
      "1/1 [==============================] - 4s 4s/step - loss: 199.1907 - rmse: 14.1135 - mse: 199.1907 - val_loss: 227.8732 - val_rmse: 15.0874 - val_mse: 227.8732\n",
      "Epoch 12/50\n",
      "1/1 [==============================] - 5s 5s/step - loss: 198.1836 - rmse: 14.0778 - mse: 198.1836 - val_loss: 225.6935 - val_rmse: 15.0134 - val_mse: 225.6935\n",
      "Epoch 13/50\n",
      "1/1 [==============================] - 5s 5s/step - loss: 173.0953 - rmse: 13.1566 - mse: 173.0953 - val_loss: 222.2126 - val_rmse: 14.9029 - val_mse: 222.2126\n",
      "Epoch 14/50\n",
      "1/1 [==============================] - 5s 5s/step - loss: 198.5813 - rmse: 14.0919 - mse: 198.5813 - val_loss: 220.2650 - val_rmse: 14.8345 - val_mse: 220.2650\n",
      "Epoch 15/50\n",
      "1/1 [==============================] - 5s 5s/step - loss: 182.0569 - rmse: 13.4928 - mse: 182.0569 - val_loss: 217.1724 - val_rmse: 14.7281 - val_mse: 217.1724\n",
      "Epoch 16/50\n",
      "1/1 [==============================] - 6s 6s/step - loss: 224.8531 - rmse: 14.9951 - mse: 224.8531 - val_loss: 215.6958 - val_rmse: 14.6799 - val_mse: 215.6958\n",
      "Epoch 17/50\n",
      "1/1 [==============================] - 5s 5s/step - loss: 160.2537 - rmse: 12.6591 - mse: 160.2537 - val_loss: 212.3163 - val_rmse: 14.5645 - val_mse: 212.3163\n",
      "Epoch 18/50\n",
      "1/1 [==============================] - 5s 5s/step - loss: 181.1113 - rmse: 13.4578 - mse: 181.1113 - val_loss: 209.1347 - val_rmse: 14.4519 - val_mse: 209.1347\n",
      "Epoch 19/50\n",
      "1/1 [==============================] - 5s 5s/step - loss: 200.7524 - rmse: 14.1687 - mse: 200.7524 - val_loss: 207.2832 - val_rmse: 14.3922 - val_mse: 207.2832\n",
      "Epoch 20/50\n",
      "1/1 [==============================] - 5s 5s/step - loss: 189.7434 - rmse: 13.7747 - mse: 189.7434 - val_loss: 203.7604 - val_rmse: 14.2615 - val_mse: 203.7604\n",
      "Epoch 21/50\n",
      "1/1 [==============================] - 5s 5s/step - loss: 179.6882 - rmse: 13.4048 - mse: 179.6882 - val_loss: 202.9176 - val_rmse: 14.2256 - val_mse: 202.9176\n",
      "Epoch 22/50\n",
      "1/1 [==============================] - 5s 5s/step - loss: 167.3728 - rmse: 12.9373 - mse: 167.3728 - val_loss: 199.6848 - val_rmse: 14.1278 - val_mse: 199.6848\n",
      "Epoch 23/50\n",
      "1/1 [==============================] - 5s 5s/step - loss: 208.3966 - rmse: 14.4359 - mse: 208.3966 - val_loss: 196.3103 - val_rmse: 14.0014 - val_mse: 196.3103\n",
      "Epoch 24/50\n",
      "1/1 [==============================] - 6s 6s/step - loss: 189.4422 - rmse: 13.7638 - mse: 189.4422 - val_loss: 197.4966 - val_rmse: 14.0509 - val_mse: 197.4966\n",
      "Epoch 25/50\n",
      "1/1 [==============================] - 5s 5s/step - loss: 170.6616 - rmse: 13.0638 - mse: 170.6616 - val_loss: 193.8413 - val_rmse: 13.9126 - val_mse: 193.8413\n",
      "Epoch 26/50\n",
      "1/1 [==============================] - 5s 5s/step - loss: 168.1503 - rmse: 12.9673 - mse: 168.1503 - val_loss: 190.1175 - val_rmse: 13.7805 - val_mse: 190.1175\n",
      "Epoch 27/50\n",
      "1/1 [==============================] - 4s 4s/step - loss: 154.3194 - rmse: 12.4225 - mse: 154.3194 - val_loss: 187.0273 - val_rmse: 13.6660 - val_mse: 187.0273\n",
      "Epoch 28/50\n",
      "1/1 [==============================] - 5s 5s/step - loss: 175.4844 - rmse: 13.2471 - mse: 175.4844 - val_loss: 182.6737 - val_rmse: 13.4978 - val_mse: 182.6737\n",
      "Epoch 29/50\n",
      "1/1 [==============================] - 5s 5s/step - loss: 148.3845 - rmse: 12.1813 - mse: 148.3845 - val_loss: 181.9669 - val_rmse: 13.4819 - val_mse: 181.9669\n",
      "Epoch 30/50\n",
      "1/1 [==============================] - 4s 4s/step - loss: 126.8524 - rmse: 11.2629 - mse: 126.8524 - val_loss: 181.2319 - val_rmse: 13.4483 - val_mse: 181.2319\n",
      "Epoch 31/50\n",
      "1/1 [==============================] - 5s 5s/step - loss: 169.7460 - rmse: 13.0287 - mse: 169.7460 - val_loss: 176.3633 - val_rmse: 13.2773 - val_mse: 176.3633\n",
      "Epoch 32/50\n",
      "1/1 [==============================] - 6s 6s/step - loss: 142.7381 - rmse: 11.9473 - mse: 142.7381 - val_loss: 174.0128 - val_rmse: 13.1694 - val_mse: 174.0128\n",
      "Epoch 33/50\n",
      "1/1 [==============================] - 5s 5s/step - loss: 174.7129 - rmse: 13.2179 - mse: 174.7129 - val_loss: 170.3606 - val_rmse: 13.0441 - val_mse: 170.3606\n",
      "Epoch 34/50\n",
      "1/1 [==============================] - 4s 4s/step - loss: 132.8822 - rmse: 11.5275 - mse: 132.8822 - val_loss: 168.5482 - val_rmse: 12.9744 - val_mse: 168.5482\n",
      "Epoch 35/50\n",
      "1/1 [==============================] - 5s 5s/step - loss: 189.2820 - rmse: 13.7580 - mse: 189.2820 - val_loss: 166.9283 - val_rmse: 12.9115 - val_mse: 166.9283\n",
      "Epoch 36/50\n",
      "1/1 [==============================] - 5s 5s/step - loss: 145.2115 - rmse: 12.0504 - mse: 145.2115 - val_loss: 161.0921 - val_rmse: 12.6693 - val_mse: 161.0921\n",
      "Epoch 37/50\n",
      "1/1 [==============================] - 6s 6s/step - loss: 128.3203 - rmse: 11.3279 - mse: 128.3203 - val_loss: 160.3427 - val_rmse: 12.6573 - val_mse: 160.3427\n",
      "Epoch 38/50\n",
      "1/1 [==============================] - 5s 5s/step - loss: 159.4450 - rmse: 12.6272 - mse: 159.4450 - val_loss: 157.3777 - val_rmse: 12.5277 - val_mse: 157.3777\n",
      "Epoch 39/50\n",
      "1/1 [==============================] - 5s 5s/step - loss: 149.2581 - rmse: 12.2171 - mse: 149.2581 - val_loss: 155.5318 - val_rmse: 12.4493 - val_mse: 155.5318\n",
      "Epoch 40/50\n",
      "1/1 [==============================] - 5s 5s/step - loss: 154.4453 - rmse: 12.4276 - mse: 154.4453 - val_loss: 151.7409 - val_rmse: 12.2982 - val_mse: 151.7409\n",
      "Epoch 41/50\n",
      "1/1 [==============================] - 5s 5s/step - loss: 113.8643 - rmse: 10.6707 - mse: 113.8643 - val_loss: 149.3961 - val_rmse: 12.2017 - val_mse: 149.3961\n",
      "Epoch 42/50\n",
      "1/1 [==============================] - 5s 5s/step - loss: 113.5573 - rmse: 10.6563 - mse: 113.5573 - val_loss: 145.0502 - val_rmse: 12.0305 - val_mse: 145.0502\n",
      "Epoch 43/50\n",
      "1/1 [==============================] - 5s 5s/step - loss: 154.8068 - rmse: 12.4421 - mse: 154.8068 - val_loss: 142.6202 - val_rmse: 11.9321 - val_mse: 142.6202\n",
      "Epoch 44/50\n",
      "1/1 [==============================] - 5s 5s/step - loss: 104.9633 - rmse: 10.2452 - mse: 104.9633 - val_loss: 140.1727 - val_rmse: 11.8320 - val_mse: 140.1727\n",
      "Epoch 45/50\n",
      "1/1 [==============================] - 5s 5s/step - loss: 110.3870 - rmse: 10.5065 - mse: 110.3870 - val_loss: 139.2143 - val_rmse: 11.7898 - val_mse: 139.2143\n",
      "Epoch 46/50\n",
      "1/1 [==============================] - 5s 5s/step - loss: 110.1141 - rmse: 10.4935 - mse: 110.1141 - val_loss: 137.5078 - val_rmse: 11.7050 - val_mse: 137.5078\n",
      "Epoch 47/50\n",
      "1/1 [==============================] - 4s 4s/step - loss: 113.7759 - rmse: 10.6666 - mse: 113.7759 - val_loss: 134.5341 - val_rmse: 11.5853 - val_mse: 134.5341\n",
      "Epoch 48/50\n"
     ]
    },
    {
     "name": "stdout",
     "output_type": "stream",
     "text": [
      "1/1 [==============================] - 5s 5s/step - loss: 87.7611 - rmse: 9.3681 - mse: 87.7611 - val_loss: 131.8369 - val_rmse: 11.4620 - val_mse: 131.8369\n",
      "Epoch 49/50\n",
      "1/1 [==============================] - 5s 5s/step - loss: 132.5037 - rmse: 11.5110 - mse: 132.5037 - val_loss: 129.5656 - val_rmse: 11.3558 - val_mse: 129.5656\n",
      "Epoch 50/50\n",
      "1/1 [==============================] - 5s 5s/step - loss: 104.0319 - rmse: 10.1996 - mse: 104.0319 - val_loss: 125.7248 - val_rmse: 11.1965 - val_mse: 125.7248\n"
     ]
    }
   ],
   "source": [
    "%time\n",
    "steps_per_epoch = NUM_TRAIN_EXAMPLES // (BATCH_SIZE * NUM_EVALS)\n",
    "\n",
    "OUTDIR = \"./models/taxi_trained\"\n",
    "shutil.rmtree(path=OUTDIR, ignore_errors=True) # start fresh each time\n",
    "\n",
    "history = model.fit(x=trainds,\n",
    "                    steps_per_epoch=steps_per_epoch,\n",
    "                    epochs=NUM_EVALS,\n",
    "                    validation_data=evalds,\n",
    "                    callbacks=[TensorBoard(OUTDIR)])"
   ]
  },
  {
   "cell_type": "markdown",
   "metadata": {},
   "source": [
    "Just as before, we can examine the history to see how the RMSE changes through training on the train set and validation set. "
   ]
  },
  {
   "cell_type": "code",
   "execution_count": 28,
   "metadata": {},
   "outputs": [
    {
     "data": {
      "text/plain": [
       "<matplotlib.axes._subplots.AxesSubplot at 0x1df21f8cb08>"
      ]
     },
     "execution_count": 28,
     "metadata": {},
     "output_type": "execute_result"
    },
    {
     "data": {
      "image/png": "[encoded data removed]",
      "text/plain": [
       "<Figure size 432x288 with 1 Axes>"
      ]
     },
     "metadata": {
      "needs_background": "light"
     },
     "output_type": "display_data"
    }
   ],
   "source": [
    "RMSE_COLS = ['rmse', 'val_rmse']\n",
    "\n",
    "pd.DataFrame(history.history)[RMSE_COLS].plot()"
   ]
  },
  {
   "cell_type": "markdown",
   "metadata": {},
   "source": [
    "# Making predictions with our model"
   ]
  },
  {
   "cell_type": "markdown",
   "metadata": {},
   "source": [
    "To make predictions with our trained model, we can call the [predict method](https://www.tensorflow.org/api_docs/python/tf/keras/Model#predict), passing to it a dictionary of values. The `steps` parameter determines the total number of steps before declaring the prediction round finished. Here since we have just one example, we set `steps=1` (setting `steps=None` would also work). Note, however, that if x is a `tf.data` dataset or a dataset iterator, and steps is set to None, predict will run until the input dataset is exhausted."
   ]
  },
  {
   "cell_type": "code",
   "execution_count": 29,
   "metadata": {},
   "outputs": [
    {
     "data": {
      "text/plain": [
       "array([[7.563088]], dtype=float32)"
      ]
     },
     "execution_count": 29,
     "metadata": {},
     "output_type": "execute_result"
    }
   ],
   "source": [
    "model.predict(\n",
    "    x={\n",
    "        \"pickup_longitude\": tf.convert_to_tensor([-73.982683]),\n",
    "        \"pickup_latitude\": tf.convert_to_tensor([40.742104]),\n",
    "        \"dropoff_longitude\": tf.convert_to_tensor([-73.983766]),\n",
    "        \"dropoff_latitude\": tf.convert_to_tensor([40.755174]),\n",
    "        \"passenger_count\": tf.convert_to_tensor([3.0]),\n",
    "    },\n",
    "    steps=1,\n",
    ")"
   ]
  },
  {
   "cell_type": "markdown",
   "metadata": {},
   "source": [
    "# Export and deploy our model"
   ]
  },
  {
   "cell_type": "markdown",
   "metadata": {},
   "source": [
    "Of course, making individual predictions is not realistic, because we can't expect client code to have a model object in memory. For others to use our trained model, we'll have to export our model to a file, and expect client code to instantiate the model from that exported file. \n",
    "\n",
    "We'll export the model to a TensorFlow SavedModel format. Once we have a model in this format, we have lots of ways to \"serve\" the model, from a web application, from JavaScript, from mobile applications, etc."
   ]
  },
  {
   "cell_type": "code",
   "execution_count": 30,
   "metadata": {},
   "outputs": [
    {
     "name": "stdout",
     "output_type": "stream",
     "text": [
      "INFO:tensorflow:Assets written to: ./export/savedmodel\\20220404184557\\assets\n",
      "INFO:tensorflow:Assets written to: ./export/savedmodel\\20220404184557\\assets\n"
     ]
    }
   ],
   "source": [
    "OUTPUT_DIR = \"./export/savedmodel\"\n",
    "shutil.rmtree(OUTPUT_DIR, ignore_errors=True)\n",
    "TIMESTAMP = datetime.datetime.now().strftime(\"%Y%m%d%H%M%S\")\n",
    "\n",
    "EXPORT_PATH = os.path.join(OUTPUT_DIR, TIMESTAMP)\n",
    "\n",
    "tf.saved_model.save(model, EXPORT_PATH)  # with default serving function"
   ]
  },
  {
   "cell_type": "code",
   "execution_count": 31,
   "metadata": {},
   "outputs": [
    {
     "name": "stdout",
     "output_type": "stream",
     "text": [
      "The given SavedModel SignatureDef contains the following input(s):\n",
      "  inputs['dropoff_latitude'] tensor_info:\n",
      "      dtype: DT_FLOAT\n",
      "      shape: (-1)\n",
      "      name: serving_default_dropoff_latitude:0\n",
      "  inputs['dropoff_longitude'] tensor_info:\n",
      "      dtype: DT_FLOAT\n",
      "      shape: (-1)\n",
      "      name: serving_default_dropoff_longitude:0\n",
      "  inputs['passenger_count'] tensor_info:\n",
      "      dtype: DT_FLOAT\n",
      "      shape: (-1)\n",
      "      name: serving_default_passenger_count:0\n",
      "  inputs['pickup_latitude'] tensor_info:\n",
      "      dtype: DT_FLOAT\n",
      "      shape: (-1)\n",
      "      name: serving_default_pickup_latitude:0\n",
      "  inputs['pickup_longitude'] tensor_info:\n",
      "      dtype: DT_FLOAT\n",
      "      shape: (-1)\n",
      "      name: serving_default_pickup_longitude:0\n",
      "The given SavedModel SignatureDef contains the following output(s):\n",
      "  outputs['prediction'] tensor_info:\n",
      "      dtype: DT_FLOAT\n",
      "      shape: (-1, 1)\n",
      "      name: StatefulPartitionedCall:0\n",
      "Method name is: tensorflow/serving/predict\n"
     ]
    },
    {
     "name": "stderr",
     "output_type": "stream",
     "text": [
      "2022-04-04 18:46:09.526859: W tensorflow/stream_executor/platform/default/dso_loader.cc:64] Could not load dynamic library 'cudart64_110.dll'; dlerror: cudart64_110.dll not found\n",
      "2022-04-04 18:46:09.527487: I tensorflow/stream_executor/cuda/cudart_stub.cc:29] Ignore above cudart dlerror if you do not have a GPU set up on your machine.\n",
      "FIND: Parameter format not correct\n"
     ]
    }
   ],
   "source": [
    "!saved_model_cli show \\\n",
    "    --tag_set serve \\\n",
    "    --signature_def serving_default \\\n",
    "    --dir {EXPORT_PATH}\n",
    "\n",
    "!find {EXPORT_PATH}\n",
    "os.environ['EXPORT_PATH'] = EXPORT_PATH"
   ]
  },
  {
   "cell_type": "code",
   "execution_count": 32,
   "metadata": {},
   "outputs": [
    {
     "ename": "NameError",
     "evalue": "name 'mystop' is not defined",
     "output_type": "error",
     "traceback": [
      "\u001b[1;31m---------------------------------------------------------------------------\u001b[0m",
      "\u001b[1;31mNameError\u001b[0m                                 Traceback (most recent call last)",
      "\u001b[1;32m<ipython-input-32-78e0181c830a>\u001b[0m in \u001b[0;36m<module>\u001b[1;34m\u001b[0m\n\u001b[1;32m----> 1\u001b[1;33m \u001b[0mmystop\u001b[0m\u001b[1;33m\u001b[0m\u001b[1;33m\u001b[0m\u001b[0m\n\u001b[0m\u001b[0;32m      2\u001b[0m \u001b[1;31m#stop here - the rest wouldn't work outside of GCP\u001b[0m\u001b[1;33m\u001b[0m\u001b[1;33m\u001b[0m\u001b[1;33m\u001b[0m\u001b[0m\n",
      "\u001b[1;31mNameError\u001b[0m: name 'mystop' is not defined"
     ]
    }
   ],
   "source": [
    "mystop\n",
    "#stop here - the rest wouldn't work outside of GCP"
   ]
  },
  {
   "cell_type": "markdown",
   "metadata": {},
   "source": [
    "## Deploy our model to Vertex AI"
   ]
  },
  {
   "cell_type": "markdown",
   "metadata": {},
   "source": [
    "Finally, we will deploy our trained model to Vertex AI and see how we can make online predicitons. "
   ]
  },
  {
   "cell_type": "code",
   "execution_count": null,
   "metadata": {},
   "outputs": [],
   "source": [
    "PROJECT = !gcloud config list --format 'value(core.project)' 2>/dev/null\n",
    "PROJECT = PROJECT[0]\n",
    "BUCKET = PROJECT\n",
    "REGION = \"us-central1\"\n",
    "MODEL_DISPLAYNAME = f\"taxifare_keras_functional-{TIMESTAMP}\"\n",
    "\n",
    "print(f\"MODEL_DISPLAYNAME: {MODEL_DISPLAYNAME}\")\n",
    "\n",
    "# from https://cloud.google.com/vertex-ai/docs/predictions/pre-built-containers\n",
    "SERVING_CONTAINER_IMAGE_URI = (\n",
    "    \"us-docker.pkg.dev/vertex-ai/prediction/tf2-cpu.2-3:latest\"\n",
    ")\n",
    "\n",
    "os.environ[\"BUCKET\"] = BUCKET\n",
    "os.environ[\"REGION\"] = REGION"
   ]
  },
  {
   "cell_type": "code",
   "execution_count": null,
   "metadata": {},
   "outputs": [],
   "source": [
    "%%bash\n",
    "# Create GCS bucket if it doesn't exist already...\n",
    "exists=$(gsutil ls -d | grep -w gs://${BUCKET}/)\n",
    "\n",
    "if [ -n \"$exists\" ]; then\n",
    "    echo -e \"Bucket exists, let's not recreate it.\"\n",
    "else\n",
    "    echo \"Creating a new GCS bucket.\"\n",
    "    gsutil mb -l ${REGION} gs://${BUCKET}\n",
    "    echo \"\\nHere are your current buckets:\"\n",
    "    gsutil ls\n",
    "fi"
   ]
  },
  {
   "cell_type": "code",
   "execution_count": null,
   "metadata": {},
   "outputs": [],
   "source": [
    "!gsutil cp -R $EXPORT_PATH gs://$BUCKET/$MODEL_DISPLAYNAME"
   ]
  },
  {
   "cell_type": "code",
   "execution_count": null,
   "metadata": {},
   "outputs": [],
   "source": [
    "uploaded_model = aiplatform.Model.upload(\n",
    "    display_name=MODEL_DISPLAYNAME,\n",
    "    artifact_uri=f\"gs://{BUCKET}/{MODEL_DISPLAYNAME}\",\n",
    "    serving_container_image_uri=SERVING_CONTAINER_IMAGE_URI,\n",
    ")"
   ]
  },
  {
   "cell_type": "code",
   "execution_count": null,
   "metadata": {},
   "outputs": [],
   "source": [
    "MACHINE_TYPE = \"n1-standard-2\"\n",
    "\n",
    "endpoint = uploaded_model.deploy(\n",
    "    machine_type=MACHINE_TYPE,\n",
    "    accelerator_type=None,\n",
    "    accelerator_count=None,\n",
    ")"
   ]
  },
  {
   "cell_type": "markdown",
   "metadata": {},
   "source": [
    "<img src='assets/taxi_fare_keras_func_model.png' width='80%'>\n",
    "<sup>(image:Your model in Vertex AI)</sup>"
   ]
  },
  {
   "cell_type": "code",
   "execution_count": null,
   "metadata": {},
   "outputs": [],
   "source": [
    "instance = {\n",
    "    \"pickup_longitude\": -73.982683,\n",
    "    \"pickup_latitude\": 40.742104,\n",
    "    \"dropoff_longitude\": -73.983766,\n",
    "    \"dropoff_latitude\": 40.755174,\n",
    "    \"passenger_count\": 3.0,\n",
    "}"
   ]
  },
  {
   "cell_type": "code",
   "execution_count": null,
   "metadata": {},
   "outputs": [],
   "source": [
    "endpoint.predict([instance])"
   ]
  },
  {
   "cell_type": "markdown",
   "metadata": {},
   "source": [
    "# Cleanup\n",
    "\n",
    "When deploying a model to an endpoint for online prediction, the minimum `min-replica-count` is 1, and it is charged per node hour. So let's delete the endpoint to reduce unnecessary charges. Before we can delete the endpoint, we first undeploy all attached models... "
   ]
  },
  {
   "cell_type": "code",
   "execution_count": null,
   "metadata": {},
   "outputs": [],
   "source": [
    "endpoint.undeploy_all()"
   ]
  },
  {
   "cell_type": "code",
   "execution_count": null,
   "metadata": {},
   "outputs": [],
   "source": [
    "endpoint.delete()"
   ]
  },
  {
   "cell_type": "markdown",
   "metadata": {},
   "source": [
    "Copyright 2022 Google Inc. Licensed under the Apache License, Version 2.0 (the \"License\"); you may not use this file except in compliance with the License. You may obtain a copy of the License at http://www.apache.org/licenses/LICENSE-2.0 Unless required by applicable law or agreed to in writing, software distributed under the License is distributed on an \"AS IS\" BASIS, WITHOUT WARRANTIES OR CONDITIONS OF ANY KIND, either express or implied. See the License for the specific language governing permissions and limitations under the License"
   ]
  }
 ],
 "metadata": {
  "kernelspec": {
   "display_name": "anya_tf2",
   "language": "python",
   "name": "anya_tf2"
  },
  "language_info": {
   "codemirror_mode": {
    "name": "ipython",
    "version": 3
   },
   "file_extension": ".py",
   "mimetype": "text/x-python",
   "name": "python",
   "nbconvert_exporter": "python",
   "pygments_lexer": "ipython3",
   "version": "3.7.4"
  }
 },
 "nbformat": 4,
 "nbformat_minor": 4
}
