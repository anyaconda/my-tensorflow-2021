{
  "nbformat": 4,
  "nbformat_minor": 0,
  "metadata": {
    "accelerator": "GPU",
    "colab": {
      "name": "Copy of text_classification_rnn.ipynb",
      "provenance": [],
      "collapsed_sections": [],
      "toc_visible": true
    },
    "kernelspec": {
      "display_name": "Python 3",
      "name": "python3"
    }
  },
  "cells": [
    {
      "cell_type": "code",
      "metadata": {
        "id": "ryHpzr3mQgtE"
      },
      "source": [
        "#meta 6/25/2021 TF tutorial - Text Clf with an RNN\n",
        "#src: https://www.tensorflow.org/text/tutorials/text_classification_rnn\n"
      ],
      "execution_count": null,
      "outputs": []
    },
    {
      "cell_type": "markdown",
      "metadata": {
        "id": "hX4n9TsbGw-f"
      },
      "source": [
        "##### Copyright 2018 The TensorFlow Authors."
      ]
    },
    {
      "cell_type": "code",
      "metadata": {
        "cellView": "form",
        "id": "0nbI5DtDGw-i"
      },
      "source": [
        "#@title Licensed under the Apache License, Version 2.0 (the \"License\");\n",
        "# you may not use this file except in compliance with the License.\n",
        "# You may obtain a copy of the License at\n",
        "#\n",
        "# https://www.apache.org/licenses/LICENSE-2.0\n",
        "#\n",
        "# Unless required by applicable law or agreed to in writing, software\n",
        "# distributed under the License is distributed on an \"AS IS\" BASIS,\n",
        "# WITHOUT WARRANTIES OR CONDITIONS OF ANY KIND, either express or implied.\n",
        "# See the License for the specific language governing permissions and\n",
        "# limitations under the License."
      ],
      "execution_count": 1,
      "outputs": []
    },
    {
      "cell_type": "markdown",
      "metadata": {
        "id": "9TnJztDZGw-n"
      },
      "source": [
        "# Text classification with an RNN"
      ]
    },
    {
      "cell_type": "markdown",
      "metadata": {
        "id": "AfN3bMR5Gw-o"
      },
      "source": [
        "<table class=\"tfo-notebook-buttons\" align=\"left\">\n",
        "  <td>\n",
        "    <a target=\"_blank\" href=\"https://www.tensorflow.org/text/tutorials/text_classification_rnn\"><img src=\"https://www.tensorflow.org/images/tf_logo_32px.png\" />View on TensorFlow.org</a>\n",
        "  </td>\n",
        "  <td>\n",
        "    <a target=\"_blank\" href=\"https://colab.research.google.com/github/tensorflow/text/blob/master/docs/tutorials/text_classification_rnn.ipynb\"><img src=\"https://www.tensorflow.org/images/colab_logo_32px.png\" />Run in Google Colab</a>\n",
        "  </td>\n",
        "  <td>\n",
        "    <a target=\"_blank\" href=\"https://github.com/tensorflow/text/blob/master/docs/tutorials/text_classification_rnn.ipynb\"><img src=\"https://www.tensorflow.org/images/GitHub-Mark-32px.png\" />View source on GitHub</a>\n",
        "  </td>\n",
        "  <td>\n",
        "    <a href=\"https://storage.googleapis.com/tensorflow_docs/text/docs/tutorials/text_classification_rnn.ipynb\"><img src=\"https://www.tensorflow.org/images/download_logo_32px.png\" />Download notebook</a>\n",
        "  </td>\n",
        "</table>"
      ]
    },
    {
      "cell_type": "markdown",
      "metadata": {
        "id": "lUWearf0Gw-p"
      },
      "source": [
        "This text classification tutorial trains a [recurrent neural network](https://developers.google.com/machine-learning/glossary/#recurrent_neural_network) on the [IMDB large movie review dataset](http://ai.stanford.edu/~amaas/data/sentiment/) for sentiment analysis."
      ]
    },
    {
      "cell_type": "markdown",
      "metadata": {
        "id": "_2VQo4bajwUU"
      },
      "source": [
        "## Setup"
      ]
    },
    {
      "cell_type": "code",
      "metadata": {
        "id": "z682XYsrjkY9"
      },
      "source": [
        "import numpy as np\n",
        "\n",
        "import tensorflow_datasets as tfds\n",
        "import tensorflow as tf\n",
        "\n",
        "tfds.disable_progress_bar()"
      ],
      "execution_count": 2,
      "outputs": []
    },
    {
      "cell_type": "code",
      "metadata": {
        "colab": {
          "base_uri": "https://localhost:8080/"
        },
        "id": "TMD4L5OGP2NJ",
        "outputId": "820a9344-8c82-4c02-8c48-b35612844c73"
      },
      "source": [
        "print(\"TF version:\", tf.__version__)"
      ],
      "execution_count": 3,
      "outputs": [
        {
          "output_type": "stream",
          "text": [
            "TF version: 2.5.0\n"
          ],
          "name": "stdout"
        }
      ]
    },
    {
      "cell_type": "markdown",
      "metadata": {
        "id": "1rXHa-w9JZhb"
      },
      "source": [
        "Import `matplotlib` and create a helper function to plot graphs:"
      ]
    },
    {
      "cell_type": "code",
      "metadata": {
        "id": "Mp1Z7P9pYRSK"
      },
      "source": [
        "import matplotlib.pyplot as plt\n",
        "\n",
        "\n",
        "def plot_graphs(history, metric):\n",
        "  plt.plot(history.history[metric])\n",
        "  plt.plot(history.history['val_'+metric], '')\n",
        "  plt.xlabel(\"Epochs\")\n",
        "  plt.ylabel(metric)\n",
        "  plt.legend([metric, 'val_'+metric])"
      ],
      "execution_count": 4,
      "outputs": []
    },
    {
      "cell_type": "markdown",
      "metadata": {
        "id": "pRmMubr0jrE2"
      },
      "source": [
        "## Setup input pipeline\n",
        "\n",
        "\n",
        "The IMDB large movie review dataset is a *binary classification* dataset—all the reviews have either a *positive* or *negative* sentiment.\n",
        "\n",
        "Download the dataset using [TFDS](https://www.tensorflow.org/datasets). See the [loading text tutorial](https://www.tensorflow.org/tutorials/load_data/text) for details on how to load this sort of data manually.\n"
      ]
    },
    {
      "cell_type": "code",
      "metadata": {
        "id": "SHRwRoP2nVHX",
        "colab": {
          "base_uri": "https://localhost:8080/"
        },
        "outputId": "52d47bb2-c491-4105-b804-1addd5fadf89"
      },
      "source": [
        "dataset, info = tfds.load('imdb_reviews', with_info=True,\n",
        "                          as_supervised=True)\n",
        "train_dataset, test_dataset = dataset['train'], dataset['test']\n",
        "\n",
        "train_dataset.element_spec"
      ],
      "execution_count": 5,
      "outputs": [
        {
          "output_type": "stream",
          "text": [
            "\u001b[1mDownloading and preparing dataset imdb_reviews/plain_text/1.0.0 (download: 80.23 MiB, generated: Unknown size, total: 80.23 MiB) to /root/tensorflow_datasets/imdb_reviews/plain_text/1.0.0...\u001b[0m\n",
            "Shuffling and writing examples to /root/tensorflow_datasets/imdb_reviews/plain_text/1.0.0.incompleteJN4UVX/imdb_reviews-train.tfrecord\n",
            "Shuffling and writing examples to /root/tensorflow_datasets/imdb_reviews/plain_text/1.0.0.incompleteJN4UVX/imdb_reviews-test.tfrecord\n",
            "Shuffling and writing examples to /root/tensorflow_datasets/imdb_reviews/plain_text/1.0.0.incompleteJN4UVX/imdb_reviews-unsupervised.tfrecord\n"
          ],
          "name": "stdout"
        },
        {
          "output_type": "stream",
          "text": [
            "WARNING:absl:Dataset is using deprecated text encoder API which will be removed soon. Please use the plain_text version of the dataset and migrate to `tensorflow_text`.\n"
          ],
          "name": "stderr"
        },
        {
          "output_type": "stream",
          "text": [
            "\u001b[1mDataset imdb_reviews downloaded and prepared to /root/tensorflow_datasets/imdb_reviews/plain_text/1.0.0. Subsequent calls will reuse this data.\u001b[0m\n"
          ],
          "name": "stdout"
        },
        {
          "output_type": "execute_result",
          "data": {
            "text/plain": [
              "(TensorSpec(shape=(), dtype=tf.string, name=None),\n",
              " TensorSpec(shape=(), dtype=tf.int64, name=None))"
            ]
          },
          "metadata": {
            "tags": []
          },
          "execution_count": 5
        }
      ]
    },
    {
      "cell_type": "markdown",
      "metadata": {
        "id": "nWA4c2ir7g6p"
      },
      "source": [
        "Initially this returns a dataset of (text, label pairs):"
      ]
    },
    {
      "cell_type": "code",
      "metadata": {
        "id": "vd4_BGKyurao",
        "colab": {
          "base_uri": "https://localhost:8080/"
        },
        "outputId": "a1e83841-ab2f-4858-9a3a-bb1b193de128"
      },
      "source": [
        "for example, label in train_dataset.take(1):\n",
        "  print('text: ', example.numpy())\n",
        "  print('label: ', label.numpy())"
      ],
      "execution_count": 6,
      "outputs": [
        {
          "output_type": "stream",
          "text": [
            "text:  b\"This was an absolutely terrible movie. Don't be lured in by Christopher Walken or Michael Ironside. Both are great actors, but this must simply be their worst role in history. Even their great acting could not redeem this movie's ridiculous storyline. This movie is an early nineties US propaganda piece. The most pathetic scenes were those when the Columbian rebels were making their cases for revolutions. Maria Conchita Alonso appeared phony, and her pseudo-love affair with Walken was nothing but a pathetic emotional plug in a movie that was devoid of any real meaning. I am disappointed that there are movies like this, ruining actor's like Christopher Walken's good name. I could barely sit through it.\"\n",
            "label:  0\n"
          ],
          "name": "stdout"
        }
      ]
    },
    {
      "cell_type": "markdown",
      "metadata": {
        "id": "z2qVJzcEluH_"
      },
      "source": [
        "Next shuffle the data for training and create batches of these `(text, label)` pairs:"
      ]
    },
    {
      "cell_type": "code",
      "metadata": {
        "id": "dDsCaZCDYZgm"
      },
      "source": [
        "BUFFER_SIZE = 10000\n",
        "BATCH_SIZE = 64"
      ],
      "execution_count": 7,
      "outputs": []
    },
    {
      "cell_type": "code",
      "metadata": {
        "id": "VznrltNOnUc5"
      },
      "source": [
        "train_dataset = train_dataset.shuffle(BUFFER_SIZE).batch(BATCH_SIZE).prefetch(tf.data.AUTOTUNE)\n",
        "test_dataset = test_dataset.batch(BATCH_SIZE).prefetch(tf.data.AUTOTUNE)"
      ],
      "execution_count": 8,
      "outputs": []
    },
    {
      "cell_type": "code",
      "metadata": {
        "id": "jqkvdcFv41wC",
        "colab": {
          "base_uri": "https://localhost:8080/"
        },
        "outputId": "2ea62489-ecfb-43fc-d01c-bf3d05a330f6"
      },
      "source": [
        "for example, label in train_dataset.take(1):\n",
        "  print('texts: ', example.numpy()[:3])\n",
        "  print()\n",
        "  print('labels: ', label.numpy()[:3])"
      ],
      "execution_count": 9,
      "outputs": [
        {
          "output_type": "stream",
          "text": [
            "texts:  [b'There is no possible reason I can fathom why this movie was ever made.<br /><br />Why must Hollywood continue to crank out one horrible update of a classic after another? ( Cases in point: Mister Magoo, The Avengers - awful! )<br /><br />Christopher Lloyd, whom I normally enjoy, was so miserably miscast in this role. His manic portrayal of our beloved \"Uncle Martin\" is so unspeakably unenjoyable to be almost criminal. His ranting, groaning, grimacing and histrionics provide us with no reason to care for his character except as some 1 dimensional cartoon character.<br /><br />The director must have thought that fast movements, screaming dialogue and \"one-take\" slapstick had some similarity to comedy. Apparently he told EVERY ACTOR to act as if they had red ants in their pants.<br /><br />Fault must lie with the irresponsibly wrought script. I think the writer used \"It\\'s a Mad, Mad, Mad, Mad World\" as an example of a fine comedy script. As manic as that 1963 classic is, it is far superior to this claptrap - in fact - suddenly it looks pretty good in comparison.<br /><br />What is most sad about this movie is that it must have apparently been written to appeal to young children. I just am not sure whose children it was made for. Certainly no self-respecting, card-carrying child I know!<br /><br />If they HAD to remake \"My Favorite Martian\", why didn\\'t they add some of the timeless charm of the original classic? <br /><br />Unfortunately, IMDB.com cannot factor in \"zero\" as a rating for its readers, that is the only rating that comes to mind in describing this travesty.<br /><br />One good thing did come from this movie, the actors and crew were paid - I think.'\n",
            " b'I was curious to watch this movie. A lot of people seem to be excited. I also have my beliefs. I believe in Jesus Christ but I\\'m opened for any kind of views or opinions. It doesn\\'t matter for me, if Jesus existed in the way it\\'s written in the bible. If Maria was a virgin or not, or all the other similar pagan coincidences. What matters for me is the idea of salvation, the idea of love as the only way to find peace in this world.<br /><br />What made me angry is when somebody takes a sentence, present it as a fact but without showing the context it was written. For example, they showed in this movie following sentence big: \"Those enemies of mine who did not want me to be king over them - bring them here and kill them in front of me\" Jesus (Lukas 19:27) What they didn\\'t tell you is the context. Jesus told a story about an evil king. There is no passage in the bible where Jesus supports killing. He is love! After quoting the bible wrong they present us yelling people (pseudo-christians) filled with hate. The majority of viewers don\\'t check the informations presented so they start thinking Jesus=hate=not good for me or for anybody else. This is pure manipulation people. Please use your brain. Don\\'t take everything as a fact they tell you in this movie. We destroy our own basis, our civilization if we start dismantling Jesus in this way and the message he brought to us. You saw off the branch you\\'re sitting on.'\n",
            " b'Some movies you just know you\\'re going to love from the first few seconds. This is one of those movies. Tracing it\\'s roots back to \"Double Indemnity,\" and \"The Postman Always Rings Twice\" in the 40\\'s - this was a great example of Modern Film Noir in the 90\\'s. Nick Cage plays the \"down on his luck\" main character who gets entangled in a husband-wife murder plot - and his luck goes from bad to worse to even worse as he tries and tries to get away from the people, town, violence and threat of Red Rock West. Lots of twists and turns, great performances by Cage, Hopper and Walsh, an hypnotic slide-guitar musical backdrop, and seamless directing make this a real joy. Favorite Line: When Cage looks at the empty gas gauge in the get-away car, shakes his head and says: \"F***in\\' story of my life.\"']\n",
            "\n",
            "labels:  [0 0 1]\n"
          ],
          "name": "stdout"
        }
      ]
    },
    {
      "cell_type": "markdown",
      "metadata": {
        "id": "s5eWCo88voPY"
      },
      "source": [
        "## Create the text encoder"
      ]
    },
    {
      "cell_type": "markdown",
      "metadata": {
        "id": "TFevcItw15P_"
      },
      "source": [
        "The raw text loaded by `tfds` needs to be processed before it can be used in a model. The simplest way to process text for training is using the `experimental.preprocessing.TextVectorization` layer. This layer has many capabilities, but this tutorial sticks to the default behavior.\n",
        "\n",
        "Create the layer, and pass the dataset's text to the layer's `.adapt` method:"
      ]
    },
    {
      "cell_type": "code",
      "metadata": {
        "id": "uC25Lu1Yvuqy"
      },
      "source": [
        "VOCAB_SIZE = 1000\n",
        "encoder = tf.keras.layers.experimental.preprocessing.TextVectorization(\n",
        "    max_tokens=VOCAB_SIZE)\n",
        "encoder.adapt(train_dataset.map(lambda text, label: text))"
      ],
      "execution_count": 10,
      "outputs": []
    },
    {
      "cell_type": "markdown",
      "metadata": {
        "id": "IuQzVBbe3Ldu"
      },
      "source": [
        "The `.adapt` method sets the layer's vocabulary. Here are the first 20 tokens. After the padding and unknown tokens they're sorted by frequency: "
      ]
    },
    {
      "cell_type": "code",
      "metadata": {
        "id": "tBoyjjWg0Ac9",
        "colab": {
          "base_uri": "https://localhost:8080/"
        },
        "outputId": "c44e3add-7631-49f3-ba0f-553469a0b4bf"
      },
      "source": [
        "vocab = np.array(encoder.get_vocabulary())\n",
        "vocab[:20]"
      ],
      "execution_count": 11,
      "outputs": [
        {
          "output_type": "execute_result",
          "data": {
            "text/plain": [
              "array(['', '[UNK]', 'the', 'and', 'a', 'of', 'to', 'is', 'in', 'it', 'i',\n",
              "       'this', 'that', 'br', 'was', 'as', 'for', 'with', 'movie', 'but'],\n",
              "      dtype='<U14')"
            ]
          },
          "metadata": {
            "tags": []
          },
          "execution_count": 11
        }
      ]
    },
    {
      "cell_type": "markdown",
      "metadata": {
        "id": "mjId5pua3jHQ"
      },
      "source": [
        "Once the vocabulary is set, the layer can encode text into indices. The tensors of indices are 0-padded to the longest sequence in the batch (unless you set a fixed `output_sequence_length`):"
      ]
    },
    {
      "cell_type": "code",
      "metadata": {
        "id": "RGc7C9WiwRWs",
        "colab": {
          "base_uri": "https://localhost:8080/"
        },
        "outputId": "9e36806a-9584-4f5a-ef24-6f33e897076f"
      },
      "source": [
        "encoded_example = encoder(example)[:3].numpy()\n",
        "encoded_example"
      ],
      "execution_count": 12,
      "outputs": [
        {
          "output_type": "execute_result",
          "data": {
            "text/plain": [
              "array([[48,  7, 57, ...,  0,  0,  0],\n",
              "       [10, 14,  1, ...,  0,  0,  0],\n",
              "       [47, 93, 23, ...,  0,  0,  0]])"
            ]
          },
          "metadata": {
            "tags": []
          },
          "execution_count": 12
        }
      ]
    },
    {
      "cell_type": "markdown",
      "metadata": {
        "id": "F5cjz0bS39IN"
      },
      "source": [
        "With the default settings, the process is not completely reversible. There are three main reasons for that:\n",
        "\n",
        "1. The default value for `preprocessing.TextVectorization`'s `standardize` argument is `\"lower_and_strip_punctuation\"`.\n",
        "2. The limited vocabulary size and lack of character-based fallback results in some unknown tokens."
      ]
    },
    {
      "cell_type": "code",
      "metadata": {
        "id": "N_tD0QY5wXaK",
        "colab": {
          "base_uri": "https://localhost:8080/"
        },
        "outputId": "24322534-1bd3-4d86-c50d-6a917fa0db65"
      },
      "source": [
        "for n in range(3):\n",
        "  print(\"Original: \", example[n].numpy())\n",
        "  print(\"Round-trip: \", \" \".join(vocab[encoded_example[n]]))\n",
        "  print()"
      ],
      "execution_count": 13,
      "outputs": [
        {
          "output_type": "stream",
          "text": [
            "Original:  b'There is no possible reason I can fathom why this movie was ever made.<br /><br />Why must Hollywood continue to crank out one horrible update of a classic after another? ( Cases in point: Mister Magoo, The Avengers - awful! )<br /><br />Christopher Lloyd, whom I normally enjoy, was so miserably miscast in this role. His manic portrayal of our beloved \"Uncle Martin\" is so unspeakably unenjoyable to be almost criminal. His ranting, groaning, grimacing and histrionics provide us with no reason to care for his character except as some 1 dimensional cartoon character.<br /><br />The director must have thought that fast movements, screaming dialogue and \"one-take\" slapstick had some similarity to comedy. Apparently he told EVERY ACTOR to act as if they had red ants in their pants.<br /><br />Fault must lie with the irresponsibly wrought script. I think the writer used \"It\\'s a Mad, Mad, Mad, Mad World\" as an example of a fine comedy script. As manic as that 1963 classic is, it is far superior to this claptrap - in fact - suddenly it looks pretty good in comparison.<br /><br />What is most sad about this movie is that it must have apparently been written to appeal to young children. I just am not sure whose children it was made for. Certainly no self-respecting, card-carrying child I know!<br /><br />If they HAD to remake \"My Favorite Martian\", why didn\\'t they add some of the timeless charm of the original classic? <br /><br />Unfortunately, IMDB.com cannot factor in \"zero\" as a rating for its readers, that is the only rating that comes to mind in describing this travesty.<br /><br />One good thing did come from this movie, the actors and crew were paid - I think.'\n",
            "Round-trip:  there is no possible reason i can [UNK] why this movie was ever [UNK] br why must hollywood [UNK] to [UNK] out one horrible [UNK] of a classic after another [UNK] in point [UNK] [UNK] the [UNK] awful br br [UNK] [UNK] whom i [UNK] enjoy was so [UNK] [UNK] in this role his [UNK] [UNK] of our [UNK] [UNK] [UNK] is so [UNK] [UNK] to be almost [UNK] his [UNK] [UNK] [UNK] and [UNK] [UNK] us with no reason to care for his character except as some 1 [UNK] [UNK] [UNK] br the director must have thought that fast [UNK] [UNK] dialogue and [UNK] [UNK] had some [UNK] to comedy apparently he told every actor to act as if they had red [UNK] in their [UNK] br [UNK] must [UNK] with the [UNK] [UNK] script i think the writer used its a [UNK] [UNK] [UNK] [UNK] world as an example of a fine comedy script as [UNK] as that [UNK] classic is it is far [UNK] to this [UNK] in fact [UNK] it looks pretty good in [UNK] br what is most sad about this movie is that it must have apparently been written to [UNK] to young children i just am not sure whose children it was made for certainly no [UNK] [UNK] child i [UNK] br if they had to remake my favorite [UNK] why didnt they add some of the [UNK] [UNK] of the original classic br br unfortunately [UNK] cannot [UNK] in [UNK] as a rating for its [UNK] that is the only rating that comes to mind in [UNK] this [UNK] br one good thing did come from this movie the actors and [UNK] were [UNK] i think                                                                                                                                                                                                                                                                                                                                                                                                                                                                                            \n",
            "\n",
            "Original:  b'I was curious to watch this movie. A lot of people seem to be excited. I also have my beliefs. I believe in Jesus Christ but I\\'m opened for any kind of views or opinions. It doesn\\'t matter for me, if Jesus existed in the way it\\'s written in the bible. If Maria was a virgin or not, or all the other similar pagan coincidences. What matters for me is the idea of salvation, the idea of love as the only way to find peace in this world.<br /><br />What made me angry is when somebody takes a sentence, present it as a fact but without showing the context it was written. For example, they showed in this movie following sentence big: \"Those enemies of mine who did not want me to be king over them - bring them here and kill them in front of me\" Jesus (Lukas 19:27) What they didn\\'t tell you is the context. Jesus told a story about an evil king. There is no passage in the bible where Jesus supports killing. He is love! After quoting the bible wrong they present us yelling people (pseudo-christians) filled with hate. The majority of viewers don\\'t check the informations presented so they start thinking Jesus=hate=not good for me or for anybody else. This is pure manipulation people. Please use your brain. Don\\'t take everything as a fact they tell you in this movie. We destroy our own basis, our civilization if we start dismantling Jesus in this way and the message he brought to us. You saw off the branch you\\'re sitting on.'\n",
            "Round-trip:  i was [UNK] to watch this movie a lot of people seem to be [UNK] i also have my [UNK] i believe in [UNK] [UNK] but im [UNK] for any kind of [UNK] or [UNK] it doesnt matter for me if [UNK] [UNK] in the way its written in the [UNK] if [UNK] was a [UNK] or not or all the other similar [UNK] [UNK] what [UNK] for me is the idea of [UNK] the idea of love as the only way to find [UNK] in this [UNK] br what made me [UNK] is when [UNK] takes a [UNK] present it as a fact but without showing the [UNK] it was written for example they [UNK] in this movie [UNK] [UNK] big those [UNK] of [UNK] who did not want me to be king over them bring them here and kill them in [UNK] of me [UNK] [UNK] [UNK] what they didnt tell you is the [UNK] [UNK] told a story about an evil king there is no [UNK] in the [UNK] where [UNK] [UNK] killing he is love after [UNK] the [UNK] wrong they present us [UNK] people [UNK] [UNK] with hate the [UNK] of viewers dont check the [UNK] [UNK] so they start thinking [UNK] good for me or for [UNK] else this is [UNK] [UNK] people please use your [UNK] dont take everything as a fact they tell you in this movie we [UNK] our own [UNK] our [UNK] if we start [UNK] [UNK] in this way and the message he brought to us you saw off the [UNK] youre [UNK] on                                                                                                                                                                                                                                                                                                                                                                                                                                                                                                               \n",
            "\n",
            "Original:  b'Some movies you just know you\\'re going to love from the first few seconds. This is one of those movies. Tracing it\\'s roots back to \"Double Indemnity,\" and \"The Postman Always Rings Twice\" in the 40\\'s - this was a great example of Modern Film Noir in the 90\\'s. Nick Cage plays the \"down on his luck\" main character who gets entangled in a husband-wife murder plot - and his luck goes from bad to worse to even worse as he tries and tries to get away from the people, town, violence and threat of Red Rock West. Lots of twists and turns, great performances by Cage, Hopper and Walsh, an hypnotic slide-guitar musical backdrop, and seamless directing make this a real joy. Favorite Line: When Cage looks at the empty gas gauge in the get-away car, shakes his head and says: \"F***in\\' story of my life.\"'\n",
            "Round-trip:  some movies you just know youre going to love from the first few [UNK] this is one of those movies [UNK] its [UNK] back to [UNK] [UNK] and the [UNK] always [UNK] [UNK] in the [UNK] this was a great example of modern film [UNK] in the [UNK] [UNK] [UNK] plays the down on his [UNK] main character who gets [UNK] in a [UNK] murder plot and his [UNK] goes from bad to worse to even worse as he tries and tries to get away from the people town violence and [UNK] of red rock [UNK] lots of [UNK] and turns great performances by [UNK] [UNK] and [UNK] an [UNK] [UNK] musical [UNK] and [UNK] directing make this a real [UNK] favorite line when [UNK] looks at the [UNK] [UNK] [UNK] in the [UNK] car [UNK] his head and says [UNK] story of my life                                                                                                                                                                                                                                                                                                                                                                                                                                                                                                                                                                                                                                       \n",
            "\n"
          ],
          "name": "stdout"
        }
      ]
    },
    {
      "cell_type": "markdown",
      "metadata": {
        "id": "bjUqGVBxGw-t"
      },
      "source": [
        "## Create the model"
      ]
    },
    {
      "cell_type": "markdown",
      "metadata": {
        "id": "W7zsmInBOCPO"
      },
      "source": [
        "![A drawing of the information flow in the model](https://github.com/tensorflow/text/blob/master/docs/tutorials/images/bidirectional.png?raw=1)"
      ]
    },
    {
      "cell_type": "markdown",
      "metadata": {
        "id": "bgs6nnSTGw-t"
      },
      "source": [
        "Above is a diagram of the model. \n",
        "\n",
        "1. This model can be build as a `tf.keras.Sequential`.\n",
        "\n",
        "2. The first layer is the `encoder`, which converts the text to a sequence of token indices.\n",
        "\n",
        "3. After the encoder is an embedding layer. An embedding layer stores one vector per word. When called, it converts the sequences of word indices to sequences of vectors. These vectors are trainable. After training (on enough data), words with similar meanings often have similar vectors.\n",
        "\n",
        "  This index-lookup is much more efficient than the equivalent operation of passing a one-hot encoded vector through a `tf.keras.layers.Dense` layer.\n",
        "\n",
        "4. A recurrent neural network (RNN) processes sequence input by iterating through the elements. RNNs pass the outputs from one timestep to their input on the next timestep.\n",
        "\n",
        "  The `tf.keras.layers.Bidirectional` wrapper can also be used with an RNN layer. This propagates the input forward and backwards through the RNN layer and then concatenates the final output. \n",
        "\n",
        "  * The main advantage of a bidirectional RNN is that the signal from the beginning of the input doesn't need to be processed all the way through every timestep to affect the output.  \n",
        "\n",
        "  * The main disadvantage of a bidirectional RNN is that you can't efficiently stream predictions as words are being added to the end.\n",
        "\n",
        "5. After the RNN has converted the sequence to a single vector the two `layers.Dense` do some final processing, and convert from this vector representation to a single logit as the classification output. \n"
      ]
    },
    {
      "cell_type": "markdown",
      "metadata": {
        "id": "V4fodCI7soQi"
      },
      "source": [
        "The code to implement this is below:"
      ]
    },
    {
      "cell_type": "code",
      "metadata": {
        "id": "LwfoBkmRYcP3"
      },
      "source": [
        "model = tf.keras.Sequential([\n",
        "    encoder,\n",
        "    tf.keras.layers.Embedding(\n",
        "        input_dim=len(encoder.get_vocabulary()),\n",
        "        output_dim=64,\n",
        "        # Use masking to handle the variable sequence lengths\n",
        "        mask_zero=True),\n",
        "    tf.keras.layers.Bidirectional(tf.keras.layers.LSTM(64)),\n",
        "    tf.keras.layers.Dense(64, activation='relu'),\n",
        "    tf.keras.layers.Dense(1)\n",
        "])"
      ],
      "execution_count": 14,
      "outputs": []
    },
    {
      "cell_type": "markdown",
      "metadata": {
        "id": "QIGmIGkkouUb"
      },
      "source": [
        "Please note that Keras sequential model is used here since all the layers in the model only have single input and produce single output. In case you want to use stateful RNN layer, you might want to build your model with Keras functional API or model subclassing so that you can retrieve and reuse the RNN layer states. Please check [Keras RNN guide](https://www.tensorflow.org/guide/keras/rnn#rnn_state_reuse) for more details."
      ]
    },
    {
      "cell_type": "markdown",
      "metadata": {
        "id": "kF-PsCk1LwjY"
      },
      "source": [
        "The embedding layer [uses masking](https://www.tensorflow.org/guide/keras/masking_and_padding) to handle the varying sequence-lengths. All the layers after the `Embedding` support masking:"
      ]
    },
    {
      "cell_type": "code",
      "metadata": {
        "id": "87a8-CwfKebw",
        "colab": {
          "base_uri": "https://localhost:8080/"
        },
        "outputId": "270731d8-3278-4e43-9e7f-80975b89a24f"
      },
      "source": [
        "print([layer.supports_masking for layer in model.layers])"
      ],
      "execution_count": 15,
      "outputs": [
        {
          "output_type": "stream",
          "text": [
            "[False, True, True, True, True]\n"
          ],
          "name": "stdout"
        }
      ]
    },
    {
      "cell_type": "markdown",
      "metadata": {
        "id": "ZlS0iaUIWLpI"
      },
      "source": [
        "To confirm that this works as expected, evaluate a sentence twice. First, alone so there's no padding to mask:"
      ]
    },
    {
      "cell_type": "code",
      "metadata": {
        "id": "O41gw3KfWHus",
        "colab": {
          "base_uri": "https://localhost:8080/"
        },
        "outputId": "656db4fe-0fa7-4d6b-ec9e-089f458ff678"
      },
      "source": [
        "# predict on a sample text without padding.\n",
        "\n",
        "sample_text = ('The movie was cool. The animation and the graphics '\n",
        "               'were out of this world. I would recommend this movie.')\n",
        "predictions = model.predict(np.array([sample_text]))\n",
        "print(predictions[0])"
      ],
      "execution_count": 16,
      "outputs": [
        {
          "output_type": "stream",
          "text": [
            "[0.00172084]\n"
          ],
          "name": "stdout"
        }
      ]
    },
    {
      "cell_type": "markdown",
      "metadata": {
        "id": "K0VQmGnEWcuz"
      },
      "source": [
        "Now, evaluate it again in a batch with a longer sentence. The result should be identical:"
      ]
    },
    {
      "cell_type": "code",
      "metadata": {
        "id": "UIgpuTeFNDzq",
        "colab": {
          "base_uri": "https://localhost:8080/"
        },
        "outputId": "dc9cff37-513f-44ac-9b16-ea94ed739c19"
      },
      "source": [
        "# predict on a sample text with padding\n",
        "\n",
        "padding = \"the \" * 2000\n",
        "predictions = model.predict(np.array([sample_text, padding]))\n",
        "print(predictions[0])"
      ],
      "execution_count": 17,
      "outputs": [
        {
          "output_type": "stream",
          "text": [
            "[0.00172083]\n"
          ],
          "name": "stdout"
        }
      ]
    },
    {
      "cell_type": "markdown",
      "metadata": {
        "id": "sRI776ZcH3Tf"
      },
      "source": [
        "Compile the Keras model to configure the training process:"
      ]
    },
    {
      "cell_type": "code",
      "metadata": {
        "id": "kj2xei41YZjC"
      },
      "source": [
        "model.compile(loss=tf.keras.losses.BinaryCrossentropy(from_logits=True),\n",
        "              optimizer=tf.keras.optimizers.Adam(1e-4),\n",
        "              metrics=['accuracy'])"
      ],
      "execution_count": 18,
      "outputs": []
    },
    {
      "cell_type": "markdown",
      "metadata": {
        "id": "zIwH3nto596k"
      },
      "source": [
        "## Train the model"
      ]
    },
    {
      "cell_type": "code",
      "metadata": {
        "id": "hw86wWS4YgR2",
        "colab": {
          "base_uri": "https://localhost:8080/"
        },
        "outputId": "f38add3e-9e95-4b25-ec9c-fd54b8c9e59b"
      },
      "source": [
        "history = model.fit(train_dataset, epochs=10,\n",
        "                    validation_data=test_dataset,\n",
        "                    validation_steps=30)"
      ],
      "execution_count": 19,
      "outputs": [
        {
          "output_type": "stream",
          "text": [
            "Epoch 1/10\n",
            "391/391 [==============================] - 39s 83ms/step - loss: 0.6347 - accuracy: 0.5835 - val_loss: 0.4639 - val_accuracy: 0.7776\n",
            "Epoch 2/10\n",
            "391/391 [==============================] - 31s 79ms/step - loss: 0.3873 - accuracy: 0.8216 - val_loss: 0.3572 - val_accuracy: 0.8292\n",
            "Epoch 3/10\n",
            "391/391 [==============================] - 31s 78ms/step - loss: 0.3356 - accuracy: 0.8535 - val_loss: 0.3416 - val_accuracy: 0.8396\n",
            "Epoch 4/10\n",
            "391/391 [==============================] - 31s 79ms/step - loss: 0.3202 - accuracy: 0.8613 - val_loss: 0.3318 - val_accuracy: 0.8625\n",
            "Epoch 5/10\n",
            "391/391 [==============================] - 31s 78ms/step - loss: 0.3124 - accuracy: 0.8655 - val_loss: 0.3237 - val_accuracy: 0.8568\n",
            "Epoch 6/10\n",
            "391/391 [==============================] - 31s 79ms/step - loss: 0.3064 - accuracy: 0.8689 - val_loss: 0.3268 - val_accuracy: 0.8443\n",
            "Epoch 7/10\n",
            "391/391 [==============================] - 31s 79ms/step - loss: 0.3043 - accuracy: 0.8685 - val_loss: 0.3225 - val_accuracy: 0.8573\n",
            "Epoch 8/10\n",
            "391/391 [==============================] - 31s 78ms/step - loss: 0.3027 - accuracy: 0.8697 - val_loss: 0.3303 - val_accuracy: 0.8578\n",
            "Epoch 9/10\n",
            "391/391 [==============================] - 31s 79ms/step - loss: 0.3006 - accuracy: 0.8698 - val_loss: 0.3256 - val_accuracy: 0.8521\n",
            "Epoch 10/10\n",
            "391/391 [==============================] - 31s 78ms/step - loss: 0.2976 - accuracy: 0.8727 - val_loss: 0.3212 - val_accuracy: 0.8615\n"
          ],
          "name": "stdout"
        }
      ]
    },
    {
      "cell_type": "code",
      "metadata": {
        "id": "BaNbXi43YgUT",
        "colab": {
          "base_uri": "https://localhost:8080/"
        },
        "outputId": "86b21be7-da99-4824-fba6-f0b81bc71381"
      },
      "source": [
        "test_loss, test_acc = model.evaluate(test_dataset)\n",
        "\n",
        "print('Test Loss:', test_loss)\n",
        "print('Test Accuracy:', test_acc)"
      ],
      "execution_count": 20,
      "outputs": [
        {
          "output_type": "stream",
          "text": [
            "391/391 [==============================] - 15s 39ms/step - loss: 0.3169 - accuracy: 0.8598\n",
            "Test Loss: 0.31688204407691956\n",
            "Test Accuracy: 0.8597599864006042\n"
          ],
          "name": "stdout"
        }
      ]
    },
    {
      "cell_type": "code",
      "metadata": {
        "id": "OZmwt_mzaQJk",
        "colab": {
          "base_uri": "https://localhost:8080/",
          "height": 511
        },
        "outputId": "7a221604-ee3a-4218-e594-ece971a44d7e"
      },
      "source": [
        "plt.figure(figsize=(16, 8))\n",
        "plt.subplot(1, 2, 1)\n",
        "plot_graphs(history, 'accuracy')\n",
        "plt.ylim(None, 1)\n",
        "plt.subplot(1, 2, 2)\n",
        "plot_graphs(history, 'loss')\n",
        "plt.ylim(0, None)"
      ],
      "execution_count": 21,
      "outputs": [
        {
          "output_type": "execute_result",
          "data": {
            "text/plain": [
              "(0.0, 0.6515413254499436)"
            ]
          },
          "metadata": {
            "tags": []
          },
          "execution_count": 21
        },
        {
          "output_type": "display_data",
          "data": {
            "image/png": "[encoded data removed]",
            "text/plain": [
              "<Figure size 1152x576 with 2 Axes>"
            ]
          },
          "metadata": {
            "tags": [],
            "needs_background": "light"
          }
        }
      ]
    },
    {
      "cell_type": "markdown",
      "metadata": {
        "id": "DwSE_386uhxD"
      },
      "source": [
        "Run a prediction on a new sentence:\n",
        "\n",
        "If the prediction is >= 0.0, it is positive else it is negative."
      ]
    },
    {
      "cell_type": "code",
      "metadata": {
        "id": "ZXgfQSgRW6zU"
      },
      "source": [
        "sample_text = ('The movie was cool. The animation and the graphics '\n",
        "               'were out of this world. I would recommend this movie.')\n",
        "predictions = model.predict(np.array([sample_text]))"
      ],
      "execution_count": 22,
      "outputs": []
    },
    {
      "cell_type": "markdown",
      "metadata": {
        "id": "7g1evcaRpTKm"
      },
      "source": [
        "## Stack two or more LSTM layers\n",
        "\n",
        "Keras recurrent layers have two available modes that are controlled by the `return_sequences` constructor argument:\n",
        "\n",
        "* If `False` it returns only the last output for each input sequence (a 2D tensor of shape (batch_size, output_features)). This is the default, used in the previous model.\n",
        "\n",
        "* If `True` the full sequences of successive outputs for each timestep is returned (a 3D tensor of shape `(batch_size, timesteps, output_features)`).\n",
        "\n",
        "Here is what the flow of information looks like with `return_sequences=True`:\n",
        "\n",
        "![layered_bidirectional](https://github.com/tensorflow/text/blob/master/docs/tutorials/images/layered_bidirectional.png?raw=1)"
      ]
    },
    {
      "cell_type": "markdown",
      "metadata": {
        "id": "wbSClCrG1z8l"
      },
      "source": [
        "The interesting thing about using an `RNN` with `return_sequences=True` is that the output still has 3-axes, like the input, so it can be passed to another RNN layer, like this:"
      ]
    },
    {
      "cell_type": "code",
      "metadata": {
        "id": "jo1jjO3vn0jo"
      },
      "source": [
        "model = tf.keras.Sequential([\n",
        "    encoder,\n",
        "    tf.keras.layers.Embedding(len(encoder.get_vocabulary()), 64, mask_zero=True),\n",
        "    tf.keras.layers.Bidirectional(tf.keras.layers.LSTM(64,  return_sequences=True)),\n",
        "    tf.keras.layers.Bidirectional(tf.keras.layers.LSTM(32)),\n",
        "    tf.keras.layers.Dense(64, activation='relu'),\n",
        "    tf.keras.layers.Dropout(0.5),\n",
        "    tf.keras.layers.Dense(1)\n",
        "])"
      ],
      "execution_count": 23,
      "outputs": []
    },
    {
      "cell_type": "code",
      "metadata": {
        "id": "hEPV5jVGp-is"
      },
      "source": [
        "model.compile(loss=tf.keras.losses.BinaryCrossentropy(from_logits=True),\n",
        "              optimizer=tf.keras.optimizers.Adam(1e-4),\n",
        "              metrics=['accuracy'])"
      ],
      "execution_count": 24,
      "outputs": []
    },
    {
      "cell_type": "code",
      "metadata": {
        "id": "LeSE-YjdqAeN",
        "colab": {
          "base_uri": "https://localhost:8080/"
        },
        "outputId": "a61debcd-28ef-484b-e57c-0f1260fd50f6"
      },
      "source": [
        "history = model.fit(train_dataset, epochs=10,\n",
        "                    validation_data=test_dataset,\n",
        "                    validation_steps=30)"
      ],
      "execution_count": 25,
      "outputs": [
        {
          "output_type": "stream",
          "text": [
            "Epoch 1/10\n",
            "391/391 [==============================] - 70s 140ms/step - loss: 0.6360 - accuracy: 0.5821 - val_loss: 0.4520 - val_accuracy: 0.8047\n",
            "Epoch 2/10\n",
            "391/391 [==============================] - 52s 131ms/step - loss: 0.3858 - accuracy: 0.8299 - val_loss: 0.3529 - val_accuracy: 0.8380\n",
            "Epoch 3/10\n",
            "391/391 [==============================] - 52s 132ms/step - loss: 0.3375 - accuracy: 0.8546 - val_loss: 0.3369 - val_accuracy: 0.8479\n",
            "Epoch 4/10\n",
            "391/391 [==============================] - 52s 133ms/step - loss: 0.3205 - accuracy: 0.8641 - val_loss: 0.3298 - val_accuracy: 0.8552\n",
            "Epoch 5/10\n",
            "391/391 [==============================] - 52s 132ms/step - loss: 0.3162 - accuracy: 0.8634 - val_loss: 0.3392 - val_accuracy: 0.8286\n",
            "Epoch 6/10\n",
            "391/391 [==============================] - 52s 133ms/step - loss: 0.3110 - accuracy: 0.8680 - val_loss: 0.3252 - val_accuracy: 0.8438\n",
            "Epoch 7/10\n",
            "391/391 [==============================] - 52s 131ms/step - loss: 0.3043 - accuracy: 0.8706 - val_loss: 0.3178 - val_accuracy: 0.8573\n",
            "Epoch 8/10\n",
            "391/391 [==============================] - 53s 133ms/step - loss: 0.3053 - accuracy: 0.8688 - val_loss: 0.3361 - val_accuracy: 0.8365\n",
            "Epoch 9/10\n",
            "391/391 [==============================] - 52s 133ms/step - loss: 0.2999 - accuracy: 0.8695 - val_loss: 0.3235 - val_accuracy: 0.8635\n",
            "Epoch 10/10\n",
            "391/391 [==============================] - 52s 133ms/step - loss: 0.2974 - accuracy: 0.8735 - val_loss: 0.3174 - val_accuracy: 0.8604\n"
          ],
          "name": "stdout"
        }
      ]
    },
    {
      "cell_type": "code",
      "metadata": {
        "id": "_LdwilM1qPM3",
        "colab": {
          "base_uri": "https://localhost:8080/"
        },
        "outputId": "b7692f43-0291-4abc-d1d1-10b4e2dfe445"
      },
      "source": [
        "test_loss, test_acc = model.evaluate(test_dataset)\n",
        "\n",
        "print('Test Loss:', test_loss)\n",
        "print('Test Accuracy:', test_acc)"
      ],
      "execution_count": 26,
      "outputs": [
        {
          "output_type": "stream",
          "text": [
            "391/391 [==============================] - 25s 64ms/step - loss: 0.3142 - accuracy: 0.8603\n",
            "Test Loss: 0.31416788697242737\n",
            "Test Accuracy: 0.8602799773216248\n"
          ],
          "name": "stdout"
        }
      ]
    },
    {
      "cell_type": "code",
      "metadata": {
        "id": "ykUKnAoqbycW",
        "colab": {
          "base_uri": "https://localhost:8080/"
        },
        "outputId": "a58a8cd5-5385-4317-bd33-8c2545c98a20"
      },
      "source": [
        "# predict on a sample text without padding.\n",
        "\n",
        "sample_text = ('The movie was not good. The animation and the graphics '\n",
        "               'were terrible. I would not recommend this movie.')\n",
        "predictions = model.predict(np.array([sample_text]))\n",
        "print(predictions)"
      ],
      "execution_count": 27,
      "outputs": [
        {
          "output_type": "stream",
          "text": [
            "[[-1.8766043]]\n"
          ],
          "name": "stdout"
        }
      ]
    },
    {
      "cell_type": "code",
      "metadata": {
        "id": "_YYub0EDtwCu",
        "colab": {
          "base_uri": "https://localhost:8080/",
          "height": 384
        },
        "outputId": "0add96be-53f1-4095-b4ef-710477bfe2c6"
      },
      "source": [
        "plt.figure(figsize=(16, 6))\n",
        "plt.subplot(1, 2, 1)\n",
        "plot_graphs(history, 'accuracy')\n",
        "plt.subplot(1, 2, 2)\n",
        "plot_graphs(history, 'loss')"
      ],
      "execution_count": 28,
      "outputs": [
        {
          "output_type": "display_data",
          "data": {
            "image/png": "[encoded data removed]",
            "text/plain": [
              "<Figure size 1152x432 with 2 Axes>"
            ]
          },
          "metadata": {
            "tags": [],
            "needs_background": "light"
          }
        }
      ]
    },
    {
      "cell_type": "markdown",
      "metadata": {
        "id": "9xvpE3BaGw_V"
      },
      "source": [
        "Check out other existing recurrent layers such as [GRU layers](https://www.tensorflow.org/api_docs/python/tf/keras/layers/GRU).\n",
        "\n",
        "If you're interestied in building custom RNNs, see the [Keras RNN Guide](https://www.tensorflow.org/guide/keras/rnn).\n"
      ]
    }
  ]
}