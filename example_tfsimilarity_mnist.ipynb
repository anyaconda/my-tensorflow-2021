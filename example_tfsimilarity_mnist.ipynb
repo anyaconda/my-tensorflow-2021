{
 "cells": [
  {
   "cell_type": "code",
   "execution_count": 63,
   "id": "0e7c4012-7071-4f22-b589-28384115989b",
   "metadata": {},
   "outputs": [],
   "source": [
    "#meta 8/29/2022 Introducing TensorFlow Similarity\n",
    "# Example from blog post by Elie Bursztein and Owen Vallis, Google 20210913\n",
    "#Refer to https://blog.tensorflow.org/2021/09/introducing-tensorflow-similarity.html\n",
    "\n",
    "#infra: WGClouud\n",
    "#kernel: pre-built TensorFlow 2 (local)\n",
    "#$note: python 3.7.12 \n",
    "# numpy 1.21.6\n",
    "# tf2 2.9.1, tensorflow_similarity 0.16.7, tabulate 0.8.10\n",
    "\n",
    "\n",
    "#history\n",
    "# 8/29/2022 BUILD TF SIMILARITY MODEL WITH IMAGES\n",
    "#      ds a sample from MNIST\n",
    "#      $xtra: display an image with PIL\n",
    "#      Since images are just an array of pixels carrying various color codes. NumPy can be used to convert an array into image.\n",
    "\n",
    "\n",
    "#References\n",
    "#TensorFlow Similarity Supervised Learning Hello World\n",
    "# Refer to https://github.com/tensorflow/similarity/blob/master/examples/supervised_hello_world.ipynb\n",
    "\n",
    "#Convert a NumPy array to an image  \n",
    "# Refer to https://www.geeksforgeeks.org/convert-a-numpy-array-to-an-image/  \n"
   ]
  },
  {
   "cell_type": "code",
   "execution_count": 4,
   "id": "daed7818-aa8f-42e1-8e51-3bc9c90e4fe5",
   "metadata": {},
   "outputs": [
    {
     "name": "stderr",
     "output_type": "stream",
     "text": [
      "Your CPU supports instructions that this binary was not compiled to use: SSE3 SSE4.1 SSE4.2 AVX AVX2\n",
      "For maximum performance, you can install NMSLIB from sources \n",
      "pip install --no-binary :all: nmslib\n"
     ]
    }
   ],
   "source": [
    "#$error: ModuleNotFoundError: No module named 'tabulate'\n",
    "#$fix: inserted cell above\n",
    "from tensorflow.keras import layers\n",
    "\n",
    "try:\n",
    "    # Embedding output layer with L2 norm\n",
    "    from tensorflow_similarity.layers import MetricEmbedding \n",
    "    # Specialized metric loss\n",
    "    from tensorflow_similarity.losses import MultiSimilarityLoss \n",
    "    # Sub classed keras Model with support for indexing\n",
    "    from tensorflow_similarity.models import SimilarityModel\n",
    "    # Data sampler that pulls datasets directly from tf dataset catalog\n",
    "    from tensorflow_similarity.samplers import TFDatasetMultiShotMemorySampler\n",
    "    # Nearest neighbor visualizer\n",
    "    from tensorflow_similarity.visualization import viz_neigbors_imgs\n",
    "except ModuleNotFoundError:\n",
    "    #$note initially needed to install tf similarity\n",
    "    #!pip install tensorflow_similarity\n",
    "    !pip install tabulate\n",
    "    \n",
    "    # Embedding output layer with L2 norm\n",
    "    from tensorflow_similarity.layers import MetricEmbedding \n",
    "    # Specialized metric loss\n",
    "    from tensorflow_similarity.losses import MultiSimilarityLoss \n",
    "    # Sub classed keras Model with support for indexing\n",
    "    from tensorflow_similarity.models import SimilarityModel\n",
    "    # Data sampler that pulls datasets directly from tf dataset catalog\n",
    "    from tensorflow_similarity.samplers import TFDatasetMultiShotMemorySampler\n",
    "    # Nearest neighbor visualizer\n",
    "    from tensorflow_similarity.visualization import viz_neigbors_imgs\n"
   ]
  },
  {
   "cell_type": "code",
   "execution_count": 58,
   "id": "3daeaf1e-a6cb-4c10-b3e6-28fb69d2e0d5",
   "metadata": {},
   "outputs": [
    {
     "name": "stdout",
     "output_type": "stream",
     "text": [
      "3.7.12 | packaged by conda-forge | (default, Oct 26 2021, 06:08:53) \n",
      "[GCC 9.4.0]\n"
     ]
    }
   ],
   "source": [
    "#python version $my\n",
    "import sys\n",
    "print(sys.version)"
   ]
  },
  {
   "cell_type": "code",
   "execution_count": 54,
   "id": "490e529b-6b3d-42e9-bd25-01c1c87b8d3c",
   "metadata": {},
   "outputs": [
    {
     "name": "stdout",
     "output_type": "stream",
     "text": [
      "Name: tensorflow\n",
      "Version: 2.9.1\n",
      "Summary: TensorFlow is an open source machine learning framework for everyone.\n",
      "Home-page: https://www.tensorflow.org/\n",
      "Author: Google Inc.\n",
      "Author-email: packages@tensorflow.org\n",
      "License: Apache 2.0\n",
      "Location: /opt/conda/lib/python3.7/site-packages\n",
      "Requires: absl-py, astunparse, flatbuffers, gast, google-pasta, grpcio, h5py, keras, keras-preprocessing, libclang, numpy, opt-einsum, packaging, protobuf, setuptools, six, tensorboard, tensorflow-estimator, tensorflow-io-gcs-filesystem, termcolor, typing-extensions, wrapt\n",
      "Required-by: explainable-ai-sdk, tensorflow-cloud, tensorflow-serving-api, tensorflow-transform, tfx-bsl, witwidget\n"
     ]
    }
   ],
   "source": [
    "!pip show tensorflow"
   ]
  },
  {
   "cell_type": "code",
   "execution_count": 61,
   "id": "5374765b-b512-4f4c-b6f1-83513df0799f",
   "metadata": {},
   "outputs": [
    {
     "name": "stdout",
     "output_type": "stream",
     "text": [
      "Name: tensorflow-similarity\n",
      "Version: 0.16.7\n",
      "Summary: Metric Learning for Humans\n",
      "Home-page: https://github.com/tensorflow/similarity\n",
      "Author: Tensorflow Similarity authors\n",
      "Author-email: tf-similarity@google.com\n",
      "License: Apache License 2.0\n",
      "Location: /home/jupyter/.local/lib/python3.7/site-packages\n",
      "Requires: bokeh, distinctipy, matplotlib, nmslib, numpy, pandas, Pillow, tabulate, tensorflow-datasets, tqdm, umap-learn\n",
      "Required-by: \n"
     ]
    }
   ],
   "source": [
    "!pip show tensorflow_similarity"
   ]
  },
  {
   "cell_type": "markdown",
   "id": "b7a53695-b467-476c-a07f-c5e466884962",
   "metadata": {},
   "source": [
    "# Introducing TensorFlow Similarity\n",
    "Refer to https://blog.tensorflow.org/2021/09/introducing-tensorflow-similarity.html\n",
    "\n",
    "<a href=\"https://github.com/tensorflow/similarity\">TensorFlow Similarity</a> - a python package designed to make it easy and fast to train similarity models using TensorFlow.\n",
    "\n",
    "## 0.Data\n"
   ]
  },
  {
   "cell_type": "code",
   "execution_count": 7,
   "id": "5346f6b1-39a7-4630-831a-e49e9103d48f",
   "metadata": {},
   "outputs": [
    {
     "name": "stderr",
     "output_type": "stream",
     "text": [
      "2022-08-29 17:01:46.272371: W tensorflow/stream_executor/platform/default/dso_loader.cc:64] Could not load dynamic library 'libcuda.so.1'; dlerror: libcuda.so.1: cannot open shared object file: No such file or directory; LD_LIBRARY_PATH: /usr/local/cuda/lib64:/usr/local/cuda/lib:/usr/local/lib/x86_64-linux-gnu:/usr/local/nvidia/lib:/usr/local/nvidia/lib64:/usr/local/nvidia/lib:/usr/local/nvidia/lib64\n",
      "2022-08-29 17:01:46.272431: W tensorflow/stream_executor/cuda/cuda_driver.cc:269] failed call to cuInit: UNKNOWN ERROR (303)\n",
      "2022-08-29 17:01:46.272494: I tensorflow/stream_executor/cuda/cuda_diagnostics.cc:156] kernel driver does not appear to be running on this host (fbf47b419da0): /proc/driver/nvidia/version does not exist\n",
      "2022-08-29 17:01:46.302254: I tensorflow/core/platform/cpu_feature_guard.cc:193] This TensorFlow binary is optimized with oneAPI Deep Neural Network Library (oneDNN) to use the following CPU instructions in performance-critical operations:  AVX2 FMA\n",
      "To enable them in other operations, rebuild TensorFlow with the appropriate compiler flags.\n"
     ]
    },
    {
     "data": {
      "application/vnd.jupyter.widget-view+json": {
       "model_id": "5d45e7a64f354f2287a545f67a3a7852",
       "version_major": 2,
       "version_minor": 0
      },
      "text/plain": [
       "converting train:   0%|          | 0/60000 [00:00<?, ?it/s]"
      ]
     },
     "metadata": {},
     "output_type": "display_data"
    },
    {
     "data": {
      "application/vnd.jupyter.widget-view+json": {
       "model_id": "8fe0b24e25c14f80930d0c809c54dcae",
       "version_major": 2,
       "version_minor": 0
      },
      "text/plain": [
       "converting test:   0%|          | 0/10000 [00:00<?, ?it/s]"
      ]
     },
     "metadata": {},
     "output_type": "display_data"
    },
    {
     "name": "stdout",
     "output_type": "stream",
     "text": [
      "\n",
      "The initial batch size is 20 (10 classes * 2 examples per class) with 0 augmenters\n"
     ]
    },
    {
     "data": {
      "application/vnd.jupyter.widget-view+json": {
       "model_id": "3401e255920546a897e914577479a29b",
       "version_major": 2,
       "version_minor": 0
      },
      "text/plain": [
       "filtering examples:   0%|          | 0/70000 [00:00<?, ?it/s]"
      ]
     },
     "metadata": {},
     "output_type": "display_data"
    },
    {
     "data": {
      "application/vnd.jupyter.widget-view+json": {
       "model_id": "8d4ee5d3c0a84460acddba2478956cc8",
       "version_major": 2,
       "version_minor": 0
      },
      "text/plain": [
       "selecting classes:   0%|          | 0/10 [00:00<?, ?it/s]"
      ]
     },
     "metadata": {},
     "output_type": "display_data"
    },
    {
     "data": {
      "application/vnd.jupyter.widget-view+json": {
       "model_id": "55965b402773414eb56477b650ef2661",
       "version_major": 2,
       "version_minor": 0
      },
      "text/plain": [
       "gather examples:   0%|          | 0/70000 [00:00<?, ?it/s]"
      ]
     },
     "metadata": {},
     "output_type": "display_data"
    },
    {
     "data": {
      "application/vnd.jupyter.widget-view+json": {
       "model_id": "b8193e7de1c44f5a920378f5914a6ace",
       "version_major": 2,
       "version_minor": 0
      },
      "text/plain": [
       "indexing classes:   0%|          | 0/70000 [00:00<?, ?it/s]"
      ]
     },
     "metadata": {},
     "output_type": "display_data"
    }
   ],
   "source": [
    "# Data sampler that generates balanced batches from MNIST dataset\n",
    "from tensorflow_similarity.samplers import TFDatasetMultiShotMemorySampler\n",
    "sampler = TFDatasetMultiShotMemorySampler(dataset_name='mnist', classes_per_batch=10)"
   ]
  },
  {
   "cell_type": "markdown",
   "id": "b1c0b516-b7e7-4f39-8c05-040af64d23f2",
   "metadata": {},
   "source": [
    "### 0.1 View an Image"
   ]
  },
  {
   "cell_type": "code",
   "execution_count": 47,
   "id": "3496214b-32f9-49c7-b80e-6688e93b4dad",
   "metadata": {},
   "outputs": [
    {
     "name": "stdout",
     "output_type": "stream",
     "text": [
      "(1, 28, 28, 1) (1,)\n",
      "(28, 28, 1) ()\n",
      "(28, 28)\n"
     ]
    }
   ],
   "source": [
    "qx, qy = sampler.get_slice(3737, 1)\n",
    "\n",
    "#myPreview\n",
    "#qx class numpy.ndarray [of numpy.ndarrays], qy class numpy.ndarray\n",
    "print(qx.shape, qy.shape) \n",
    "#qx[0] class numpy.ndarray, qy[0] numpy.int64\n",
    "print(qx[0].shape, qy[0].shape)\n",
    "\n",
    "#Reshape the above array to suitable dimensions\n",
    "print(qx[0].reshape(28,28).shape)"
   ]
  },
  {
   "cell_type": "code",
   "execution_count": 48,
   "id": "50550e47-0f1a-435b-833d-840075cf884a",
   "metadata": {},
   "outputs": [
    {
     "name": "stdout",
     "output_type": "stream",
     "text": [
      "7\n",
      "<class 'PIL.Image.Image'>\n"
     ]
    },
    {
     "data": {
      "image/png": "[encoded data removed]",
      "text/plain": [
       "<PIL.Image.Image image mode=L size=28x28>"
      ]
     },
     "execution_count": 48,
     "metadata": {},
     "output_type": "execute_result"
    }
   ],
   "source": [
    "from PIL import Image as im\n",
    "\n",
    "# Create an image object from the above array using PIL library\n",
    "data = im.fromarray(qx[0].reshape(28,28))\n",
    "print(qy[0])\n",
    "print(data.__class__)\n",
    "data\n",
    "\n",
    "# saving the final output as a PNG file\n",
    "#data.save('image.png')"
   ]
  },
  {
   "cell_type": "markdown",
   "id": "d50ed4c4-c1d5-4717-b13f-318083439092",
   "metadata": {},
   "source": [
    "## 1. Data Prep\n",
    "Data is already well pr\n",
    "## 2. Model"
   ]
  },
  {
   "cell_type": "code",
   "execution_count": 8,
   "id": "109102d1-8308-4852-8c3f-6ecb6a29f1ec",
   "metadata": {},
   "outputs": [
    {
     "name": "stdout",
     "output_type": "stream",
     "text": [
      "Distance metric automatically set to cosine use the distance arg to override.\n",
      "Epoch 1/5\n",
      "1000/1000 [==============================] - 24s 20ms/step - loss: 0.1394\n",
      "Warmup complete\n",
      "Epoch 2/5\n",
      "1000/1000 [==============================] - 20s 20ms/step - loss: 0.0534\n",
      "Epoch 3/5\n",
      "1000/1000 [==============================] - 20s 20ms/step - loss: 0.0378\n",
      "Epoch 4/5\n",
      "1000/1000 [==============================] - 20s 20ms/step - loss: 0.0322\n",
      "Epoch 5/5\n",
      "1000/1000 [==============================] - 20s 20ms/step - loss: 0.0287\n",
      "[Indexing 100 points]\n",
      "|-Computing embeddings\n",
      "4/4 [==============================] - 0s 6ms/step\n",
      "|-Storing data points in key value store\n",
      "|-Adding embeddings to index.\n",
      "|-Building index.\n"
     ]
    },
    {
     "name": "stderr",
     "output_type": "stream",
     "text": [
      "\n",
      "0%   10   20   30   40   50   60   70   80   90   100%\n",
      "|----|----|----|----|----|----|----|----|----|----|\n",
      "***************************************************\n"
     ]
    }
   ],
   "source": [
    "# Build a Similarity model using standard Keras layers\n",
    "inputs = layers.Input(shape=(28, 28, 1))\n",
    "x = layers.Rescaling(1/255)(inputs)\n",
    "x = layers.Conv2D(64, 3, activation='relu')(x)\n",
    "x = layers.Flatten()(x)\n",
    "x = layers.Dense(64, activation='relu')(x)\n",
    "outputs = MetricEmbedding(64)(x)\n",
    "\n",
    "# Build a specialized Similarity model\n",
    "model = SimilarityModel(inputs, outputs)\n",
    "\n",
    "# Train Similarity model using contrastive loss\n",
    "model.compile('adam', loss=MultiSimilarityLoss())\n",
    "model.fit(sampler, epochs=5)\n",
    "\n",
    "# Index 100 embedded MNIST examples to make them searchable\n",
    "sx, sy = sampler.get_slice(0,100)\n",
    "model.index(x=sx, y=sy, data=sx)\n"
   ]
  },
  {
   "cell_type": "markdown",
   "id": "9ac49447-b012-46e7-af00-465e454d2172",
   "metadata": {},
   "source": [
    "## 3. Query Model"
   ]
  },
  {
   "cell_type": "code",
   "execution_count": 49,
   "id": "046a0e0b-a525-4900-b105-ddb7c7b4af91",
   "metadata": {},
   "outputs": [
    {
     "name": "stdout",
     "output_type": "stream",
     "text": [
      "1/1 [==============================] - 0s 23ms/step\n"
     ]
    }
   ],
   "source": [
    "# Find the top 5 most similar indexed MNIST examples for a given example\n",
    "qx, qy = sampler.get_slice(3737, 1)\n",
    "nns = model.single_lookup(qx[0])"
   ]
  },
  {
   "cell_type": "code",
   "execution_count": 50,
   "id": "328260e6-8926-4dbc-981a-1b0276815b7a",
   "metadata": {},
   "outputs": [
    {
     "data": {
      "image/png": "[encoded data removed]",
      "text/plain": [
       "<Figure size 1728x288 with 6 Axes>"
      ]
     },
     "metadata": {},
     "output_type": "display_data"
    }
   ],
   "source": [
    "# Visualize the query example and its top 5 neighbors\n",
    "viz_neigbors_imgs(qx[0], qy[0], nns)"
   ]
  },
  {
   "cell_type": "markdown",
   "id": "af823514-33a8-4a69-9717-1ed0d636a80d",
   "metadata": {},
   "source": [
    "## Xtra\n",
    "### - MNIST and looking at an image\n",
    "Refer to https://github.com/tensorflow/similarity/blob/master/examples/supervised_hello_world.ipynb\n",
    "\n",
    "`Convert a NumPy array to an image`  \n",
    "Refer to https://www.geeksforgeeks.org/convert-a-numpy-array-to-an-image/  \n",
    "Since images are just an array of pixels carrying various color codes. NumPy can be used to convert an array into image."
   ]
  },
  {
   "cell_type": "code",
   "execution_count": 52,
   "id": "ee94af73-c8ff-4227-b361-6687331e9c49",
   "metadata": {},
   "outputs": [
    {
     "name": "stdout",
     "output_type": "stream",
     "text": [
      "TensorFlow: 2.9.1\n"
     ]
    },
    {
     "data": {
      "text/plain": [
       "((60000, 28, 28), (60000,), (10000, 28, 28), (10000,))"
      ]
     },
     "execution_count": 52,
     "metadata": {},
     "output_type": "execute_result"
    }
   ],
   "source": [
    "import tensorflow as tf\n",
    "print(\"TensorFlow:\", tf.__version__)\n",
    "\n",
    "#load data\n",
    "(x_train, y_train), (x_test, y_test) = tf.keras.datasets.mnist.load_data()\n",
    "x_train.shape, y_train.shape, x_test.shape, y_test.shape"
   ]
  },
  {
   "cell_type": "code",
   "execution_count": 57,
   "id": "703efa9c-a9c3-436d-97f5-0e2cba19dd16",
   "metadata": {},
   "outputs": [
    {
     "name": "stdout",
     "output_type": "stream",
     "text": [
      "(28, 28)\n",
      "5\n"
     ]
    },
    {
     "data": {
      "image/png": "[encoded data removed]",
      "text/plain": [
       "<PIL.Image.Image image mode=L size=28x28>"
      ]
     },
     "execution_count": 57,
     "metadata": {},
     "output_type": "execute_result"
    }
   ],
   "source": [
    "print(x_train[0].shape)\n",
    "print(y_train[0])\n",
    "\n",
    "#view an image example\n",
    "from PIL import Image as im\n",
    "# creating image object of above array\n",
    "data = im.fromarray(x_train[0]) #class 'PIL.Image.Image'\n",
    "data\n",
    "\n",
    "# saving the final output as a PNG file\n",
    "#data.save('image.png')"
   ]
  }
 ],
 "metadata": {
  "kernelspec": {
   "display_name": "TensorFlow 2 (Local)",
   "language": "python",
   "name": "local-tf2"
  },
  "language_info": {
   "codemirror_mode": {
    "name": "ipython",
    "version": 3
   },
   "file_extension": ".py",
   "mimetype": "text/x-python",
   "name": "python",
   "nbconvert_exporter": "python",
   "pygments_lexer": "ipython3",
   "version": "3.7.12"
  }
 },
 "nbformat": 4,
 "nbformat_minor": 5
}
