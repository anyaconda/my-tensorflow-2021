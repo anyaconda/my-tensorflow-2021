{
 "cells": [
  {
   "cell_type": "code",
   "execution_count": 1,
   "metadata": {},
   "outputs": [],
   "source": [
    "#meta 8/15/2022 Org - Check Infrastructure and Compare Speeds CPU vs GPU\n",
    "\n",
    "#infra: Wlaptop \n",
    "#env anya_tf2\n",
    "#py 3.7.4 \n",
    "#tf 2.6.3\n",
    "#numpy 1.21.0\n",
    "\n",
    "#history\n",
    "#8/15/2022 ORG INFRA\n",
    "#      Compare Speeds CPU vs GPU\n",
    "#      $note: provides comparison if ran on a compute with GPU"
   ]
  },
  {
   "cell_type": "code",
   "execution_count": 2,
   "metadata": {},
   "outputs": [],
   "source": [
    "import numpy as np\n",
    "import tensorflow as tf\n",
    "from datetime import datetime\n"
   ]
  },
  {
   "cell_type": "code",
   "execution_count": 3,
   "metadata": {},
   "outputs": [],
   "source": [
    "levels = 4\n",
    "length = 1000\n",
    "scale = 1\n",
    "\n",
    "matrices = np.logspace([1,1], [levels,levels], num=levels, dtype='int') * scale\n",
    "\n",
    "\n",
    "def compute(device, shape):\n",
    "    # choose device\n",
    "    with tf.device(device.device_type):  \n",
    "        \n",
    "        #create a matrix of shape\n",
    "        random_matrix = tf.random.uniform(shape=shape, maxval=1, seed=1)\n",
    "        \n",
    "        # start timer\n",
    "        start_time = datetime.now()\n",
    "        \n",
    "        # perform some linear algebra on matrix\n",
    "        product = tf.matmul(random_matrix, tf.transpose(random_matrix))\n",
    "        \n",
    "        #end timer\n",
    "        elapsed_time = datetime.now() - start_time\n",
    "\n",
    "    return elapsed_time"
   ]
  },
  {
   "cell_type": "markdown",
   "metadata": {},
   "source": [
    "Original code errors out:  \n",
    "AttributeError: module 'tensorflow_core._api.v2.config' has no attribute 'list_physical_devices'\n",
    "\n",
    "To make it run on my laptop, run the code below."
   ]
  },
  {
   "cell_type": "code",
   "execution_count": 4,
   "metadata": {},
   "outputs": [
    {
     "name": "stdout",
     "output_type": "stream",
     "text": [
      "WARNING:tensorflow:From <ipython-input-4-8cc86d761ae4>:2: is_gpu_available (from tensorflow.python.framework.test_util) is deprecated and will be removed in a future version.\n",
      "Instructions for updating:\n",
      "Use `tf.config.list_physical_devices('GPU')` instead.\n"
     ]
    },
    {
     "data": {
      "text/plain": [
       "False"
      ]
     },
     "execution_count": 4,
     "metadata": {},
     "output_type": "execute_result"
    }
   ],
   "source": [
    "#check if GPU is available \n",
    "tf.test.is_gpu_available()\n"
   ]
  },
  {
   "cell_type": "code",
   "execution_count": 5,
   "metadata": {},
   "outputs": [
    {
     "data": {
      "text/plain": [
       "[PhysicalDevice(name='/physical_device:CPU:0', device_type='CPU')]"
      ]
     },
     "execution_count": 5,
     "metadata": {},
     "output_type": "execute_result"
    }
   ],
   "source": [
    "#to list all devices\n",
    "tf.config.list_physical_devices(device_type=None)\n"
   ]
  },
  {
   "cell_type": "code",
   "execution_count": 7,
   "metadata": {},
   "outputs": [
    {
     "name": "stdout",
     "output_type": "stream",
     "text": [
      "\n",
      "Device: CPU\n",
      "Shape: [10 10]\n",
      "Time: 0.002\n",
      "\n",
      "Shape: [100 100]\n",
      "Time: 0.001\n",
      "\n",
      "Shape: [1000 1000]\n",
      "Time: 0.018\n",
      "\n",
      "Shape: [10000 10000]\n",
      "Time: 16.247\n",
      "\n",
      "Total elapsed time: 16.267733\n",
      "\n",
      "\n"
     ]
    }
   ],
   "source": [
    "for device in tf.config.list_physical_devices():\n",
    "    print('\\nDevice: {}'.format(device.device_type))\n",
    "    total_time = 0\n",
    "    for shape in matrices:\n",
    "        time = compute(device, shape)\n",
    "        time = time.seconds + time.microseconds/1e6\n",
    "        total_time += time\n",
    "        print('Shape: {}'.format(shape))\n",
    "        print('Time: {:.3f}\\n'.format(time))\n",
    "    print('Total elapsed time: {}\\n\\n'.format(total_time))"
   ]
  },
  {
   "cell_type": "code",
   "execution_count": null,
   "metadata": {},
   "outputs": [],
   "source": []
  }
 ],
 "metadata": {
  "kernelspec": {
   "display_name": "anya_tf2",
   "language": "python",
   "name": "anya_tf2"
  },
  "language_info": {
   "codemirror_mode": {
    "name": "ipython",
    "version": 3
   },
   "file_extension": ".py",
   "mimetype": "text/x-python",
   "name": "python",
   "nbconvert_exporter": "python",
   "pygments_lexer": "ipython3",
   "version": "3.7.4"
  }
 },
 "nbformat": 4,
 "nbformat_minor": 4
}
