{
 "cells": [
  {
   "cell_type": "markdown",
   "metadata": {
    "id": "ACbjNjyO4f_8"
   },
   "source": [
    "##### Copyright 2019 The TensorFlow Hub Authors.\n",
    "\n",
    "Licensed under the Apache License, Version 2.0 (the \"License\");"
   ]
  },
  {
   "cell_type": "code",
   "execution_count": 1,
   "metadata": {
    "id": "0h2f0TcYYIrn"
   },
   "outputs": [],
   "source": [
    "#meta 9/1/2022 G Example - Semantic Search with Approximate Nearest Neighbors and Text Embeddings from TF-Hub\n",
    "#Goal: start w/ G example, make it work in your env -> next step: make it work with your data\n",
    "#Origin: recommended by Skander\n",
    "# refer to https://www.tensorflow.org/hub/tutorials/tf2_semantic_approximate_nearest_neighbors\n",
    "# refer to https://colab.research.google.com/github/tensorflow/hub/blob/master/examples/colab/tf2_semantic_approximate_nearest_neighbors.ipynb\n",
    "# myColab copy also\n",
    "# refer to https://colab.research.google.com/github/tensorflow/hub/blob/master/examples/colab/tf2_semantic_approximate_nearest_neighbors.ipynb\n",
    "\n",
    "#infra original: G Colab\n",
    "#Python 3.7.13\n",
    "#numpy 1.21.6, tensorflow 2.8.2, tensorflow_hub 0.12.0, annoy 1.17.1, apache-beam 2.41.0\n",
    "#scikit_learn~=0.23.0  # For gaussian_random_matrix\n",
    "#$note: tried to run in my WGCloud env, $error with gaussian_random_matrix\n",
    "\n",
    "#history  \n",
    "#9/6/2022 RUN SAME EXAMPLE IN GCP\n",
    "#      this infra: WGC\n",
    "#      env: anya_semantic_search2 (installed with Conda, env_anya_semantic_search_py3713.yml -> requirements.txt)\n",
    "#      confirmed Python 3.7.13, pip 21.2.4 (asked for upgrade though)\n",
    "#      confirmed same packages as in original infra \n",
    "#      $note this notebook pip installs a few packages anyway, so maybe requirements.txt has too many listed?\n",
    "#      cell 14 `Run Pipeline` eventually expects pandas, so did conda install pandas in this env\n",
    "#      pandas 1.3.5 \n",
    "\n",
    "#here \n",
    "#9/9/2022 RUN SAME EXAMPLE IN GCP\n",
    "#      $note: myBreakdown to figure out text to embeddings\n",
    "#      Modified requirements.txt: added pandas 1.3.5\n"
   ]
  },
  {
   "cell_type": "code",
   "execution_count": 2,
   "metadata": {
    "id": "MCM50vaM4jiK"
   },
   "outputs": [],
   "source": [
    "# Copyright 2018 The TensorFlow Hub Authors. All Rights Reserved.\n",
    "#\n",
    "# Licensed under the Apache License, Version 2.0 (the \"License\");\n",
    "# you may not use this file except in compliance with the License.\n",
    "# You may obtain a copy of the License at\n",
    "#\n",
    "#     http://www.apache.org/licenses/LICENSE-2.0\n",
    "#\n",
    "# Unless required by applicable law or agreed to in writing, software\n",
    "# distributed under the License is distributed on an \"AS IS\" BASIS,\n",
    "# WITHOUT WARRANTIES OR CONDITIONS OF ANY KIND, either express or implied.\n",
    "# See the License for the specific language governing permissions and\n",
    "# limitations under the License.\n",
    "# =============================================================================="
   ]
  },
  {
   "cell_type": "markdown",
   "metadata": {
    "id": "9qOVy-_vmuUP"
   },
   "source": [
    "# Semantic Search with Approximate Nearest Neighbors and Text Embeddings\n"
   ]
  },
  {
   "cell_type": "markdown",
   "metadata": {
    "id": "MfBg1C5NB3X0"
   },
   "source": [
    "<table class=\"tfo-notebook-buttons\" align=\"left\">\n",
    "  <td>\n",
    "    <a target=\"_blank\" href=\"https://www.tensorflow.org/hub/tutorials/tf2_semantic_approximate_nearest_neighbors\"><img src=\"https://www.tensorflow.org/images/tf_logo_32px.png\" />View on TensorFlow.org</a>\n",
    "  </td>\n",
    "  <td>\n",
    "    <a target=\"_blank\" href=\"https://colab.research.google.com/github/tensorflow/hub/blob/master/examples/colab/tf2_semantic_approximate_nearest_neighbors.ipynb\"><img src=\"https://www.tensorflow.org/images/colab_logo_32px.png\" />Run in Google Colab</a>\n",
    "  </td>\n",
    "  <td>\n",
    "    <a target=\"_blank\" href=\"https://github.com/tensorflow/hub/blob/master/examples/colab/tf2_semantic_approximate_nearest_neighbors.ipynb\"><img src=\"https://www.tensorflow.org/images/GitHub-Mark-32px.png\" />View on GitHub</a>\n",
    "  </td>\n",
    "  <td>\n",
    "    <a href=\"https://storage.googleapis.com/tensorflow_docs/hub/examples/colab/tf2_semantic_approximate_nearest_neighbors.ipynb\"><img src=\"https://www.tensorflow.org/images/download_logo_32px.png\" />Download notebook</a>\n",
    "  </td>\n",
    "  <td>\n",
    "    <a href=\"https://tfhub.dev/google/nnlm-en-dim128/2\"><img src=\"https://www.tensorflow.org/images/hub_logo_32px.png\" />See TF Hub model</a>\n",
    "  </td>\n",
    "</table>"
   ]
  },
  {
   "cell_type": "markdown",
   "metadata": {
    "id": "3T4d77AJaKte"
   },
   "source": [
    "This tutorial illustrates how to generate embeddings from a [TensorFlow Hub](https://tfhub.dev) (TF-Hub) model given input data, and build an approximate nearest neighbours (ANN) index using the extracted embeddings. The index can then be used for real-time similarity matching and retrieval.\n",
    "\n",
    "When dealing with a large corpus of data, it's not efficient to perform exact matching by scanning the whole repository to find the most similar items to a given query in real-time. Thus, we use an approximate similarity matching algorithm which allows us to trade off a little bit of accuracy in finding exact nearest neighbor matches for a significant boost in speed.\n",
    "\n",
    "In this tutorial, we show an example of real-time text search over a corpus of news headlines to find the headlines that are most similar to a query. Unlike keyword search, this captures the semantic similarity encoded in the text embedding.\n",
    "\n",
    "The steps of this tutorial are:\n",
    "1. Download sample data.\n",
    "2. Generate embeddings for the data using a TF-Hub model\n",
    "3. Build an ANN index for the embeddings\n",
    "4. Use the index for similarity matching\n",
    "\n",
    "We use [Apache Beam](https://beam.apache.org/documentation/programming-guide/) to generate the embeddings from the TF-Hub model. We also use Spotify's [ANNOY](https://github.com/spotify/annoy) library to build the approximate nearest neighbor index."
   ]
  },
  {
   "cell_type": "markdown",
   "metadata": {
    "id": "nM17v_mEVSnd"
   },
   "source": [
    "### More models\n",
    "For models that have the same architecture but were trained on a different language, refer to [this](https://tfhub.dev/google/collections/nnlm/1) collection. [Here](https://tfhub.dev/s?module-type=text-embedding) you can find all text embeddings that are currently hosted on [tfhub.dev](tfhub.dev). "
   ]
  },
  {
   "cell_type": "markdown",
   "metadata": {
    "id": "Q0jr0QK9qO5P"
   },
   "source": [
    "## mySetup\n",
    "\n",
    "Required libraries (refer to requirements.txt)\n",
    "\n",
    "- apache_beam  \n",
    "- scikit_learn~=0.23.0  for gaussian_random_matrix  \n",
    "- annoy"
   ]
  },
  {
   "cell_type": "markdown",
   "metadata": {
    "id": "A-vBZiCCqld0"
   },
   "source": [
    "Import the required libraries"
   ]
  },
  {
   "cell_type": "code",
   "execution_count": 3,
   "metadata": {
    "id": "6NTYbdWcseuK"
   },
   "outputs": [],
   "source": [
    "import os\n",
    "import sys\n",
    "import pickle\n",
    "from collections import namedtuple\n",
    "from datetime import datetime\n",
    "import numpy as np\n",
    "import apache_beam as beam\n",
    "from apache_beam.transforms import util\n",
    "import tensorflow as tf\n",
    "import tensorflow_hub as hub\n",
    "import annoy\n",
    "from sklearn.random_projection import gaussian_random_matrix"
   ]
  },
  {
   "cell_type": "code",
   "execution_count": 4,
   "metadata": {},
   "outputs": [
    {
     "name": "stdout",
     "output_type": "stream",
     "text": [
      "3.7.13 (default, Mar 29 2022, 02:18:16) \n",
      "[GCC 7.5.0]\n",
      "1.21.6\n"
     ]
    }
   ],
   "source": [
    "#python version $my\n",
    "import sys\n",
    "print(sys.version)\n",
    "print(np.__version__)"
   ]
  },
  {
   "cell_type": "code",
   "execution_count": 5,
   "metadata": {
    "id": "tx0SZa6-7b-f"
   },
   "outputs": [
    {
     "name": "stdout",
     "output_type": "stream",
     "text": [
      "TF version: 2.8.2\n",
      "TF-Hub version: 0.12.0\n",
      "Apache Beam version: 2.41.0\n"
     ]
    }
   ],
   "source": [
    "print('TF version: {}'.format(tf.__version__))\n",
    "print('TF-Hub version: {}'.format(hub.__version__))\n",
    "print('Apache Beam version: {}'.format(beam.__version__))"
   ]
  },
  {
   "cell_type": "markdown",
   "metadata": {
    "id": "P6Imq876rLWx"
   },
   "source": [
    "## 1. Download Sample Data\n",
    "\n",
    "[A Million News Headlines](https://dataverse.harvard.edu/dataset.xhtml?persistentId=doi:10.7910/DVN/SYBGZL#) dataset contains news headlines published over a period of 15 years sourced from the reputable Australian Broadcasting Corp. (ABC). This news dataset has a summarised historical record of noteworthy events in the globe from early-2003 to end-2017 with a more granular focus on Australia. \n",
    "\n",
    "**Format**: Tab-separated two-column data: 1) publication date and 2) headline text. We are only interested in the headline text.\n"
   ]
  },
  {
   "cell_type": "code",
   "execution_count": 6,
   "metadata": {
    "id": "OpF57n8e5C9D"
   },
   "outputs": [
    {
     "name": "stdout",
     "output_type": "stream",
     "text": [
      "--2022-09-10 00:54:45--  https://dataverse.harvard.edu/api/access/datafile/3450625?format=tab&gbrecs=true\n",
      "Resolving dataverse.harvard.edu (dataverse.harvard.edu)... 54.211.138.37, 54.211.199.229, 3.219.100.164\n",
      "Connecting to dataverse.harvard.edu (dataverse.harvard.edu)|54.211.138.37|:443... connected.\n",
      "HTTP request sent, awaiting response... 200 OK\n",
      "Length: 57600231 (55M) [text/tab-separated-values]\n",
      "Saving to: ‘raw.tsv’\n",
      "\n",
      "raw.tsv             100%[===================>]  54.93M  32.8MB/s    in 1.7s    \n",
      "\n",
      "2022-09-10 00:54:47 (32.8 MB/s) - ‘raw.tsv’ saved [57600231/57600231]\n",
      "\n",
      "1103664 raw.tsv\n",
      "publish_date\theadline_text\n",
      "20030219\t\"aba decides against community broadcasting licence\"\n",
      "20030219\t\"act fire witnesses must be aware of defamation\"\n",
      "20030219\t\"a g calls for infrastructure protection summit\"\n",
      "20030219\t\"air nz staff in aust strike for pay rise\"\n",
      "20030219\t\"air nz strike to affect australian travellers\"\n",
      "20030219\t\"ambitious olsson wins triple jump\"\n",
      "20030219\t\"antic delighted with record breaking barca\"\n",
      "20030219\t\"aussie qualifier stosur wastes four memphis match\"\n",
      "20030219\t\"aust addresses un security council over iraq\"\n"
     ]
    }
   ],
   "source": [
    "!wget 'https://dataverse.harvard.edu/api/access/datafile/3450625?format=tab&gbrecs=true' -O raw.tsv\n",
    "!wc -l raw.tsv\n",
    "!head raw.tsv"
   ]
  },
  {
   "cell_type": "markdown",
   "metadata": {
    "id": "Reeoc9z0zTxJ"
   },
   "source": [
    "For simplicity, we only keep the headline text and remove the publication date"
   ]
  },
  {
   "cell_type": "code",
   "execution_count": 7,
   "metadata": {
    "id": "INPWa4upv_yJ"
   },
   "outputs": [],
   "source": [
    "!rm -r corpus\n",
    "!mkdir corpus\n",
    "\n",
    "with open('corpus/text.txt', 'w') as out_file:\n",
    "  with open('raw.tsv', 'r') as in_file:\n",
    "    for line in in_file:\n",
    "      headline = line.split('\\t')[1].strip().strip('\"')\n",
    "      out_file.write(headline+\"\\n\")"
   ]
  },
  {
   "cell_type": "code",
   "execution_count": 8,
   "metadata": {
    "id": "5-oedX40z6o2"
   },
   "outputs": [
    {
     "name": "stdout",
     "output_type": "stream",
     "text": [
      "severe storms forecast for nye in south east queensland\n",
      "snake catcher pleads for people not to kill reptiles\n",
      "south australia prepares for party to welcome new year\n",
      "strikers cool off the heat with big win in adelaide\n",
      "stunning images from the sydney to hobart yacht\n",
      "the ashes smiths warners near miss liven up boxing day test\n",
      "timelapse: brisbanes new year fireworks\n",
      "what 2017 meant to the kids of australia\n",
      "what the papodopoulos meeting may mean for ausus\n",
      "who is george papadopoulos the former trump campaign aide\n"
     ]
    }
   ],
   "source": [
    "!tail corpus/text.txt"
   ]
  },
  {
   "cell_type": "markdown",
   "metadata": {
    "id": "2AngMtH50jNb"
   },
   "source": [
    "## 2. Generate Embeddings for the Data.\n",
    "\n",
    "In this tutorial, we use the [Neural Network Language Model (NNLM)](https://tfhub.dev/google/nnlm-en-dim128/2) to generate embeddings for the headline data. The sentence embeddings can then be easily used to compute sentence level meaning similarity. We run the embedding generation process using Apache Beam."
   ]
  },
  {
   "cell_type": "markdown",
   "metadata": {
    "id": "F_DvXnDB1pEX"
   },
   "source": [
    "### Embedding extraction method"
   ]
  },
  {
   "cell_type": "code",
   "execution_count": 9,
   "metadata": {
    "id": "yL7OEY1E0A35"
   },
   "outputs": [],
   "source": [
    "embed_fn = None\n",
    "\n",
    "def generate_embeddings(text, model_url, random_projection_matrix=None):\n",
    "  # Beam will run this function in different processes that need to\n",
    "  # import hub and load embed_fn (if not previously loaded)\n",
    "  global embed_fn\n",
    "  if embed_fn is None:\n",
    "    embed_fn = hub.load(model_url)\n",
    "  embedding = embed_fn(text).numpy()\n",
    "  if random_projection_matrix is not None:\n",
    "    embedding = embedding.dot(random_projection_matrix)\n",
    "  return text, embedding\n"
   ]
  },
  {
   "cell_type": "markdown",
   "metadata": {
    "id": "g6pXBVxsVUbm"
   },
   "source": [
    "### Convert to tf.Example method"
   ]
  },
  {
   "cell_type": "code",
   "execution_count": 10,
   "metadata": {
    "id": "JMjqjWZNVVzd"
   },
   "outputs": [],
   "source": [
    "def to_tf_example(entries):\n",
    "  examples = []\n",
    "\n",
    "  text_list, embedding_list = entries\n",
    "  for i in range(len(text_list)):\n",
    "    text = text_list[i]\n",
    "    embedding = embedding_list[i]\n",
    "\n",
    "    features = {\n",
    "        'text': tf.train.Feature(\n",
    "            bytes_list=tf.train.BytesList(value=[text.encode('utf-8')])),\n",
    "        'embedding': tf.train.Feature(\n",
    "            float_list=tf.train.FloatList(value=embedding.tolist()))\n",
    "    }\n",
    "  \n",
    "    example = tf.train.Example(\n",
    "        features=tf.train.Features(\n",
    "            feature=features)).SerializeToString(deterministic=True)\n",
    "  \n",
    "    examples.append(example)\n",
    "  \n",
    "  return examples"
   ]
  },
  {
   "cell_type": "markdown",
   "metadata": {
    "id": "gDiV4uQCVYGH"
   },
   "source": [
    "### Beam pipeline"
   ]
  },
  {
   "cell_type": "code",
   "execution_count": 11,
   "metadata": {
    "id": "jCGUIB172m2G"
   },
   "outputs": [],
   "source": [
    "def run_hub2emb(args):\n",
    "  '''Runs the embedding generation pipeline'''\n",
    "\n",
    "  options = beam.options.pipeline_options.PipelineOptions(**args)\n",
    "  args = namedtuple(\"options\", args.keys())(*args.values())\n",
    "\n",
    "  with beam.Pipeline(args.runner, options=options) as pipeline:\n",
    "    (\n",
    "        pipeline\n",
    "        | 'Read sentences from files' >> beam.io.ReadFromText(\n",
    "            file_pattern=args.data_dir)\n",
    "        | 'Batch elements' >> util.BatchElements(\n",
    "            min_batch_size=args.batch_size, max_batch_size=args.batch_size)\n",
    "        | 'Generate embeddings' >> beam.Map(\n",
    "            generate_embeddings, args.model_url, args.random_projection_matrix)\n",
    "        | 'Encode to tf example' >> beam.FlatMap(to_tf_example)\n",
    "        | 'Write to TFRecords files' >> beam.io.WriteToTFRecord(\n",
    "            file_path_prefix='{}/emb'.format(args.output_dir),\n",
    "            file_name_suffix='.tfrecords')\n",
    "    )"
   ]
  },
  {
   "cell_type": "markdown",
   "metadata": {
    "id": "nlbQdiYNVvne"
   },
   "source": [
    "### Generating Random Projection Weight Matrix\n",
    "\n",
    "[Random projection](https://en.wikipedia.org/wiki/Random_projection) is a simple, yet powerful technique used to reduce the dimensionality of a set of points which lie in Euclidean space. For a theoretical background, see the [Johnson-Lindenstrauss lemma](https://en.wikipedia.org/wiki/Johnson%E2%80%93Lindenstrauss_lemma).\n",
    "\n",
    "Reducing the dimensionality of the embeddings with random projection means less time needed to build and query the ANN index.\n",
    "\n",
    "In this tutorial we use [Gaussian Random Projection](https://en.wikipedia.org/wiki/Random_projection#Gaussian_random_projection) from the [Scikit-learn](https://scikit-learn.org/stable/modules/random_projection.html#gaussian-random-projection) library."
   ]
  },
  {
   "cell_type": "code",
   "execution_count": 12,
   "metadata": {
    "id": "1yw1xgtNVv52"
   },
   "outputs": [],
   "source": [
    "def generate_random_projection_weights(original_dim, projected_dim):\n",
    "  random_projection_matrix = None\n",
    "  random_projection_matrix = gaussian_random_matrix(\n",
    "      n_components=projected_dim, n_features=original_dim).T\n",
    "  print(\"A Gaussian random weight matrix was creates with shape of {}\".format(random_projection_matrix.shape))\n",
    "  print('Storing random projection matrix to disk...')\n",
    "  with open('random_projection_matrix', 'wb') as handle:\n",
    "    pickle.dump(random_projection_matrix, \n",
    "                handle, protocol=pickle.HIGHEST_PROTOCOL)\n",
    "        \n",
    "  return random_projection_matrix"
   ]
  },
  {
   "cell_type": "markdown",
   "metadata": {
    "id": "aJZUfT3NE7kj"
   },
   "source": [
    "### Set parameters\n",
    "If you want to build an index using the original embedding space without random projection, set the `projected_dim` parameter to `None`. Note that this will slow down the indexing step for high-dimensional embeddings."
   ]
  },
  {
   "cell_type": "code",
   "execution_count": 13,
   "metadata": {
    "cellView": "form",
    "id": "77-Cow7uE74T"
   },
   "outputs": [],
   "source": [
    "model_url = 'https://tfhub.dev/google/nnlm-en-dim128/2' #@param {type:\"string\"}\n",
    "projected_dim = 64  #@param {type:\"number\"}"
   ]
  },
  {
   "cell_type": "markdown",
   "metadata": {
    "id": "On-MbzD922kb"
   },
   "source": [
    "### Run pipeline"
   ]
  },
  {
   "cell_type": "code",
   "execution_count": 14,
   "metadata": {
    "id": "Y3I1Wv4i21yY"
   },
   "outputs": [
    {
     "name": "stderr",
     "output_type": "stream",
     "text": [
      "2022-09-10 00:54:54.661141: W tensorflow/stream_executor/platform/default/dso_loader.cc:64] Could not load dynamic library 'libcuda.so.1'; dlerror: libcuda.so.1: cannot open shared object file: No such file or directory; LD_LIBRARY_PATH: /usr/local/cuda/lib64:/usr/local/cuda/lib:/usr/local/lib/x86_64-linux-gnu:/usr/local/nvidia/lib:/usr/local/nvidia/lib64:/usr/local/nvidia/lib:/usr/local/nvidia/lib64\n",
      "2022-09-10 00:54:54.661181: W tensorflow/stream_executor/cuda/cuda_driver.cc:269] failed call to cuInit: UNKNOWN ERROR (303)\n",
      "2022-09-10 00:54:54.661206: I tensorflow/stream_executor/cuda/cuda_diagnostics.cc:156] kernel driver does not appear to be running on this host (vm-6a78437e-2759-4469-95d9-01f80788c108): /proc/driver/nvidia/version does not exist\n",
      "2022-09-10 00:54:54.661513: I tensorflow/core/platform/cpu_feature_guard.cc:151] This TensorFlow binary is optimized with oneAPI Deep Neural Network Library (oneDNN) to use the following CPU instructions in performance-critical operations:  AVX2 FMA\n",
      "To enable them in other operations, rebuild TensorFlow with the appropriate compiler flags.\n"
     ]
    },
    {
     "name": "stdout",
     "output_type": "stream",
     "text": [
      "A Gaussian random weight matrix was creates with shape of (128, 64)\n",
      "Storing random projection matrix to disk...\n",
      "Pipeline args are set.\n"
     ]
    },
    {
     "name": "stderr",
     "output_type": "stream",
     "text": [
      "/opt/conda/envs/anya_semantic_search2/lib/python3.7/site-packages/sklearn/utils/deprecation.py:86: FutureWarning: Function gaussian_random_matrix is deprecated; gaussian_random_matrix is deprecated in 0.22 and will be removed in version 0.24.\n",
      "  warnings.warn(msg, category=FutureWarning)\n"
     ]
    },
    {
     "data": {
      "text/plain": [
       "{'job_name': 'hub2emb-220910-005455',\n",
       " 'runner': 'DirectRunner',\n",
       " 'batch_size': 1024,\n",
       " 'data_dir': 'corpus/*.txt',\n",
       " 'output_dir': '/tmp/tmpjbhlsgbs',\n",
       " 'model_url': 'https://tfhub.dev/google/nnlm-en-dim128/2',\n",
       " 'random_projection_matrix': array([[ 2.01236791e-01,  8.93483119e-02,  5.54279942e-02, ...,\n",
       "         -2.45547516e-01, -1.48356969e-02,  6.53537678e-03],\n",
       "        [ 1.15784693e-01, -6.95469504e-02, -5.48163731e-02, ...,\n",
       "          4.99238821e-02,  1.63294169e-03,  2.55165014e-01],\n",
       "        [ 9.28542953e-02,  2.26072770e-01, -8.48858275e-02, ...,\n",
       "         -1.42691433e-01, -3.00625879e-02, -5.18828692e-02],\n",
       "        ...,\n",
       "        [ 1.38970299e-02, -1.69851754e-01,  3.17877962e-01, ...,\n",
       "         -1.66205472e-01,  1.74837610e-01, -8.87367495e-02],\n",
       "        [ 1.43657886e-01, -2.22593564e-01, -9.92955602e-02, ...,\n",
       "         -6.31882148e-02, -7.41718247e-02, -5.04202318e-02],\n",
       "        [-1.93989033e-01,  1.03565901e-02, -3.28919670e-01, ...,\n",
       "          7.81661117e-02, -2.77780273e-06, -1.48648441e-01]])}"
      ]
     },
     "execution_count": 14,
     "metadata": {},
     "output_type": "execute_result"
    }
   ],
   "source": [
    "import tempfile\n",
    "\n",
    "output_dir = tempfile.mkdtemp()\n",
    "original_dim = hub.load(model_url)(['']).shape[1]\n",
    "random_projection_matrix = None\n",
    "\n",
    "if projected_dim:\n",
    "  random_projection_matrix = generate_random_projection_weights(\n",
    "      original_dim, projected_dim)\n",
    "\n",
    "args = {\n",
    "    'job_name': 'hub2emb-{}'.format(datetime.utcnow().strftime('%y%m%d-%H%M%S')),\n",
    "    'runner': 'DirectRunner',\n",
    "    'batch_size': 1024,\n",
    "    'data_dir': 'corpus/*.txt',\n",
    "    'output_dir': output_dir,\n",
    "    'model_url': model_url,\n",
    "    'random_projection_matrix': random_projection_matrix,\n",
    "}\n",
    "\n",
    "print(\"Pipeline args are set.\")\n",
    "args"
   ]
  },
  {
   "cell_type": "code",
   "execution_count": 15,
   "metadata": {
    "id": "iS9obmeP4ZOA"
   },
   "outputs": [
    {
     "name": "stdout",
     "output_type": "stream",
     "text": [
      "Running pipeline...\n"
     ]
    },
    {
     "name": "stderr",
     "output_type": "stream",
     "text": [
      "WARNING:apache_beam.runners.interactive.interactive_environment:Dependencies required for Interactive Beam PCollection visualization are not available, please use: `pip install apache-beam[interactive]` to install necessary dependencies to enable all data visualization features.\n"
     ]
    },
    {
     "data": {
      "application/javascript": [
       "\n",
       "        if (typeof window.interactive_beam_jquery == 'undefined') {\n",
       "          var jqueryScript = document.createElement('script');\n",
       "          jqueryScript.src = 'https://code.jquery.com/jquery-3.4.1.slim.min.js';\n",
       "          jqueryScript.type = 'text/javascript';\n",
       "          jqueryScript.onload = function() {\n",
       "            var datatableScript = document.createElement('script');\n",
       "            datatableScript.src = 'https://cdn.datatables.net/1.10.20/js/jquery.dataTables.min.js';\n",
       "            datatableScript.type = 'text/javascript';\n",
       "            datatableScript.onload = function() {\n",
       "              window.interactive_beam_jquery = jQuery.noConflict(true);\n",
       "              window.interactive_beam_jquery(document).ready(function($){\n",
       "                \n",
       "              });\n",
       "            }\n",
       "            document.head.appendChild(datatableScript);\n",
       "          };\n",
       "          document.head.appendChild(jqueryScript);\n",
       "        } else {\n",
       "          window.interactive_beam_jquery(document).ready(function($){\n",
       "            \n",
       "          });\n",
       "        }"
      ]
     },
     "metadata": {},
     "output_type": "display_data"
    },
    {
     "name": "stderr",
     "output_type": "stream",
     "text": [
      "WARNING:apache_beam.options.pipeline_options:Discarding unparseable args: ['-f', '/home/jupyter/.local/share/jupyter/runtime/kernel-767d2437-3f84-4ed0-bf1c-9910dee12f07.json']\n",
      "WARNING:apache_beam.options.pipeline_options:Discarding invalid overrides: {'batch_size': 1024, 'data_dir': 'corpus/*.txt', 'output_dir': '/tmp/tmpjbhlsgbs', 'model_url': 'https://tfhub.dev/google/nnlm-en-dim128/2', 'random_projection_matrix': array([[ 2.01236791e-01,  8.93483119e-02,  5.54279942e-02, ...,\n",
      "        -2.45547516e-01, -1.48356969e-02,  6.53537678e-03],\n",
      "       [ 1.15784693e-01, -6.95469504e-02, -5.48163731e-02, ...,\n",
      "         4.99238821e-02,  1.63294169e-03,  2.55165014e-01],\n",
      "       [ 9.28542953e-02,  2.26072770e-01, -8.48858275e-02, ...,\n",
      "        -1.42691433e-01, -3.00625879e-02, -5.18828692e-02],\n",
      "       ...,\n",
      "       [ 1.38970299e-02, -1.69851754e-01,  3.17877962e-01, ...,\n",
      "        -1.66205472e-01,  1.74837610e-01, -8.87367495e-02],\n",
      "       [ 1.43657886e-01, -2.22593564e-01, -9.92955602e-02, ...,\n",
      "        -6.31882148e-02, -7.41718247e-02, -5.04202318e-02],\n",
      "       [-1.93989033e-01,  1.03565901e-02, -3.28919670e-01, ...,\n",
      "         7.81661117e-02, -2.77780273e-06, -1.48648441e-01]])}\n",
      "WARNING:apache_beam.io.tfrecordio:Couldn't find python-snappy so the implementation of _TFRecordUtil._masked_crc32c is not as fast as it could be.\n"
     ]
    },
    {
     "name": "stdout",
     "output_type": "stream",
     "text": [
      "CPU times: user 3min 44s, sys: 4min 49s, total: 8min 33s\n",
      "Wall time: 2min 29s\n",
      "Pipeline is done.\n"
     ]
    }
   ],
   "source": [
    "print(\"Running pipeline...\")\n",
    "%time run_hub2emb(args)\n",
    "print(\"Pipeline is done.\")"
   ]
  },
  {
   "cell_type": "code",
   "execution_count": 16,
   "metadata": {
    "id": "JAwOo7gQWvVd"
   },
   "outputs": [
    {
     "name": "stdout",
     "output_type": "stream",
     "text": [
      "emb-00000-of-00001.tfrecords\n"
     ]
    }
   ],
   "source": [
    "!ls {output_dir}"
   ]
  },
  {
   "cell_type": "markdown",
   "metadata": {
    "id": "HVnee4e6U90u"
   },
   "source": [
    "- Read some of the generated embeddings...  \n",
    "$note: refer to myBreakdown for details"
   ]
  },
  {
   "cell_type": "code",
   "execution_count": 17,
   "metadata": {
    "id": "-K7pGXlXOj1N"
   },
   "outputs": [
    {
     "name": "stdout",
     "output_type": "stream",
     "text": [
      "headline_text: [-0.21577713 -0.08679349 -0.09089502 -0.08608533 -0.10421044 -0.00496678\n",
      "  0.04690553 -0.08057941  0.09314948 -0.22174641]\n",
      "aba decides against community broadcasting licence: [-0.10749932  0.06211396  0.09754886 -0.09016148  0.01318626  0.08292361\n",
      " -0.01953283  0.00580397  0.07598736 -0.11664818]\n",
      "act fire witnesses must be aware of defamation: [ 0.14852294  0.14426763 -0.01337856  0.0806409  -0.01414887  0.19118302\n",
      " -0.05756229 -0.02248628  0.02626099  0.02218925]\n",
      "a g calls for infrastructure protection summit: [-0.10894778 -0.01743285  0.03230982  0.07510062  0.01461216 -0.06994132\n",
      " -0.1418096   0.12035619  0.1696226   0.07280549]\n",
      "air nz staff in aust strike for pay rise: [-0.03192603 -0.17949837  0.33432406  0.07296742  0.00270896  0.12258769\n",
      "  0.07110699 -0.05459479  0.16654256 -0.13920893]\n"
     ]
    }
   ],
   "source": [
    "embed_file = os.path.join(output_dir, 'emb-00000-of-00001.tfrecords')\n",
    "sample = 5\n",
    "\n",
    "# Create a description of the features.\n",
    "feature_description = {\n",
    "    'text': tf.io.FixedLenFeature([], tf.string),\n",
    "    'embedding': tf.io.FixedLenFeature([projected_dim], tf.float32)\n",
    "}\n",
    "\n",
    "def _parse_example(example):\n",
    "  # Parse the input `tf.Example` proto using the dictionary above.\n",
    "  return tf.io.parse_single_example(example, feature_description)\n",
    "\n",
    "dataset = tf.data.TFRecordDataset(embed_file)\n",
    "for record in dataset.take(sample).map(_parse_example):\n",
    "  print(\"{}: {}\".format(record['text'].numpy().decode('utf-8'), record['embedding'].numpy()[:10]))\n"
   ]
  },
  {
   "cell_type": "markdown",
   "metadata": {
    "id": "agGoaMSgY8wN"
   },
   "source": [
    "## 3. Build the ANN Index for the Embeddings\n",
    "\n",
    "[ANNOY](https://github.com/spotify/annoy) (Approximate Nearest Neighbors Oh Yeah) is a C++ library with Python bindings to search for points in space that are close to a given query point. It also creates large read-only file-based data structures that are mapped into memory. It is built and used by [Spotify](https://www.spotify.com) for music recommendations. If you are interested you can play along with other alternatives to ANNOY such as [NGT](https://github.com/yahoojapan/NGT), [FAISS](https://github.com/facebookresearch/faiss), etc. "
   ]
  },
  {
   "cell_type": "code",
   "execution_count": 18,
   "metadata": {
    "id": "UcPDspU3WjgH"
   },
   "outputs": [],
   "source": [
    "def build_index(embedding_files_pattern, index_filename, vector_length, \n",
    "    metric='angular', num_trees=100):\n",
    "  '''Builds an ANNOY index'''\n",
    "\n",
    "  annoy_index = annoy.AnnoyIndex(vector_length, metric=metric)\n",
    "  # Mapping between the item and its identifier in the index\n",
    "  mapping = {}\n",
    "\n",
    "  embed_files = tf.io.gfile.glob(embedding_files_pattern)\n",
    "  num_files = len(embed_files)\n",
    "  print('Found {} embedding file(s).'.format(num_files))\n",
    "\n",
    "  item_counter = 0\n",
    "  for i, embed_file in enumerate(embed_files):\n",
    "    print('Loading embeddings in file {} of {}...'.format(i+1, num_files))\n",
    "    dataset = tf.data.TFRecordDataset(embed_file)\n",
    "    for record in dataset.map(_parse_example):\n",
    "      text = record['text'].numpy().decode(\"utf-8\")\n",
    "      embedding = record['embedding'].numpy()\n",
    "      mapping[item_counter] = text\n",
    "      annoy_index.add_item(item_counter, embedding)\n",
    "      item_counter += 1\n",
    "      if item_counter % 100000 == 0:\n",
    "        print('{} items loaded to the index'.format(item_counter))\n",
    "\n",
    "  print('A total of {} items added to the index'.format(item_counter))\n",
    "\n",
    "  print('Building the index with {} trees...'.format(num_trees))\n",
    "  annoy_index.build(n_trees=num_trees)\n",
    "  print('Index is successfully built.')\n",
    "  \n",
    "  print('Saving index to disk...')\n",
    "  annoy_index.save(index_filename)\n",
    "  print('Index is saved to disk.')\n",
    "  print(\"Index file size: {} GB\".format(\n",
    "    round(os.path.getsize(index_filename) / float(1024 ** 3), 2)))\n",
    "  annoy_index.unload()\n",
    "\n",
    "  print('Saving mapping to disk...')\n",
    "  with open(index_filename + '.mapping', 'wb') as handle:\n",
    "    pickle.dump(mapping, handle, protocol=pickle.HIGHEST_PROTOCOL)\n",
    "  print('Mapping is saved to disk.')\n",
    "  print(\"Mapping file size: {} MB\".format(\n",
    "    round(os.path.getsize(index_filename + '.mapping') / float(1024 ** 2), 2)))"
   ]
  },
  {
   "cell_type": "code",
   "execution_count": 19,
   "metadata": {
    "id": "AgyOQhUq6FNE"
   },
   "outputs": [
    {
     "name": "stdout",
     "output_type": "stream",
     "text": [
      "rm: cannot remove 'index': No such file or directory\n",
      "rm: cannot remove 'index.mapping': No such file or directory\n",
      "Found 1 embedding file(s).\n",
      "Loading embeddings in file 1 of 1...\n",
      "100000 items loaded to the index\n",
      "200000 items loaded to the index\n",
      "300000 items loaded to the index\n",
      "400000 items loaded to the index\n",
      "500000 items loaded to the index\n",
      "600000 items loaded to the index\n",
      "700000 items loaded to the index\n",
      "800000 items loaded to the index\n",
      "900000 items loaded to the index\n",
      "1000000 items loaded to the index\n",
      "1100000 items loaded to the index\n",
      "A total of 1103664 items added to the index\n",
      "Building the index with 100 trees...\n",
      "Index is successfully built.\n",
      "Saving index to disk...\n",
      "Index is saved to disk.\n",
      "Index file size: 1.59 GB\n",
      "Saving mapping to disk...\n",
      "Mapping is saved to disk.\n",
      "Mapping file size: 50.61 MB\n",
      "CPU times: user 10min 47s, sys: 1min 42s, total: 12min 30s\n",
      "Wall time: 5min 31s\n"
     ]
    }
   ],
   "source": [
    "embedding_files = \"{}/emb-*.tfrecords\".format(output_dir)\n",
    "embedding_dimension = projected_dim\n",
    "index_filename = \"index\"\n",
    "\n",
    "!rm {index_filename}\n",
    "!rm {index_filename}.mapping\n",
    "\n",
    "%time build_index(embedding_files, index_filename, embedding_dimension)"
   ]
  },
  {
   "cell_type": "code",
   "execution_count": 20,
   "metadata": {
    "id": "Ic31Tm5cgAd5"
   },
   "outputs": [
    {
     "name": "stdout",
     "output_type": "stream",
     "text": [
      "anya_semantic_search\n",
      "corpus\n",
      "corpus2\n",
      "data\n",
      "env_anya_semantic_search_py3713.yml\n",
      "example_tfsimilarity_mnist.ipynb\n",
      "gcp_POC_model\n",
      "index\n",
      "index.mapping\n",
      "mySemanticSearch_with_ANNandTextEmbeddingsFromTFHub.ipynb\n",
      "poc_0_data.ipynb\n",
      "poc_SemanticSearch_qry.ipynb\n",
      "poc_SemanticSearch_with_ANNandTextEmbeddingsFromTFHub.ipynb\n",
      "random_projection_matrix\n",
      "raw.tsv\n",
      "requirements.txt\n",
      "src\n",
      "tensorflow_datasets\n",
      "tutorials\n"
     ]
    }
   ],
   "source": [
    "!ls"
   ]
  },
  {
   "cell_type": "markdown",
   "metadata": {
    "id": "maGxDl8ufP-p"
   },
   "source": [
    "## 4. Use the Index for Similarity Matching\n",
    "Now we can use the ANN index to find news headlines that are semantically close to an input query."
   ]
  },
  {
   "cell_type": "markdown",
   "metadata": {
    "id": "_dIs8W78fYPp"
   },
   "source": [
    "### Load the index and the mapping files"
   ]
  },
  {
   "cell_type": "code",
   "execution_count": 21,
   "metadata": {
    "id": "jlTTrbQHayvb"
   },
   "outputs": [
    {
     "name": "stdout",
     "output_type": "stream",
     "text": [
      "Annoy index is loaded.\n"
     ]
    },
    {
     "name": "stderr",
     "output_type": "stream",
     "text": [
      "/opt/conda/envs/anya_semantic_search2/lib/python3.7/site-packages/ipykernel_launcher.py:1: FutureWarning: The default argument for metric will be removed in future version of Annoy. Please pass metric='angular' explicitly.\n",
      "  \"\"\"Entry point for launching an IPython kernel.\n"
     ]
    },
    {
     "name": "stdout",
     "output_type": "stream",
     "text": [
      "Mapping file is loaded.\n"
     ]
    }
   ],
   "source": [
    "index = annoy.AnnoyIndex(embedding_dimension)\n",
    "index.load(index_filename, prefault=True)\n",
    "print('Annoy index is loaded.')\n",
    "with open(index_filename + '.mapping', 'rb') as handle:\n",
    "  mapping = pickle.load(handle)\n",
    "print('Mapping file is loaded.')\n"
   ]
  },
  {
   "cell_type": "markdown",
   "metadata": {
    "id": "y6liFMSUh08J"
   },
   "source": [
    "### Similarity matching method"
   ]
  },
  {
   "cell_type": "code",
   "execution_count": 22,
   "metadata": {
    "id": "mUxjTag8hc16"
   },
   "outputs": [],
   "source": [
    "def find_similar_items(embedding, num_matches=5):\n",
    "  '''Finds similar items to a given embedding in the ANN index'''\n",
    "  ids = index.get_nns_by_vector(\n",
    "  embedding, num_matches, search_k=-1, include_distances=False)\n",
    "  items = [mapping[i] for i in ids]\n",
    "  return items"
   ]
  },
  {
   "cell_type": "markdown",
   "metadata": {
    "id": "hjerNpmZja0A"
   },
   "source": [
    "### Extract embedding from a given query"
   ]
  },
  {
   "cell_type": "code",
   "execution_count": 23,
   "metadata": {
    "id": "a0IIXzfBjZ19"
   },
   "outputs": [
    {
     "name": "stdout",
     "output_type": "stream",
     "text": [
      "Loading the TF-Hub model...\n",
      "CPU times: user 535 ms, sys: 200 ms, total: 735 ms\n",
      "Wall time: 732 ms\n",
      "TF-Hub model is loaded.\n",
      "Loading random projection matrix...\n",
      "random projection matrix is loaded.\n"
     ]
    }
   ],
   "source": [
    "# Load the TF-Hub model\n",
    "print(\"Loading the TF-Hub model...\")\n",
    "%time embed_fn = hub.load(model_url)\n",
    "print(\"TF-Hub model is loaded.\")\n",
    "\n",
    "random_projection_matrix = None\n",
    "if os.path.exists('random_projection_matrix'):\n",
    "  print(\"Loading random projection matrix...\")\n",
    "  with open('random_projection_matrix', 'rb') as handle:\n",
    "    random_projection_matrix = pickle.load(handle)\n",
    "  print('random projection matrix is loaded.')\n",
    "\n",
    "def extract_embeddings(query):\n",
    "  '''Generates the embedding for the query'''\n",
    "  query_embedding =  embed_fn([query])[0].numpy()\n",
    "  if random_projection_matrix is not None:\n",
    "    query_embedding = query_embedding.dot(random_projection_matrix)\n",
    "  return query_embedding\n"
   ]
  },
  {
   "cell_type": "code",
   "execution_count": 24,
   "metadata": {
    "id": "kCoCNROujEIO"
   },
   "outputs": [
    {
     "data": {
      "text/plain": [
       "array([ 0.09250556,  0.13992388,  0.10675006, -0.05237758, -0.0437806 ,\n",
       "       -0.03317126, -0.00183065,  0.12784306, -0.20596743,  0.00081738])"
      ]
     },
     "execution_count": 24,
     "metadata": {},
     "output_type": "execute_result"
    }
   ],
   "source": [
    "extract_embeddings(\"Hello Machine Learning!\")[:10]"
   ]
  },
  {
   "cell_type": "markdown",
   "metadata": {
    "id": "koINo8Du--8C"
   },
   "source": [
    "### Enter a query to find the most similar items"
   ]
  },
  {
   "cell_type": "code",
   "execution_count": 25,
   "metadata": {
    "cellView": "form",
    "id": "wC0uLjvfk5nB"
   },
   "outputs": [
    {
     "name": "stdout",
     "output_type": "stream",
     "text": [
      "Generating embedding for the query...\n",
      "CPU times: user 2.1 ms, sys: 939 µs, total: 3.03 ms\n",
      "Wall time: 2 ms\n",
      "\n",
      "Finding relevant items in the index...\n",
      "CPU times: user 610 µs, sys: 0 ns, total: 610 µs\n",
      "Wall time: 620 µs\n",
      "\n",
      "Results:\n",
      "=========\n",
      "confronting global challenges\n",
      "conference examines challenges facing major cities\n",
      "the domestic challenges facing duterte\n",
      "the challenges facing incoming rba governor\n",
      "expert demands national anti smoking laws\n",
      "bluescope ponders global challenges\n",
      "facilitator sought to address immigrant issues\n",
      "unified approach helping tackle truancy\n",
      "futurist discusses dangerous ideas\n",
      "terror fears dominate global markets\n"
     ]
    }
   ],
   "source": [
    "#@title { run: \"auto\" }\n",
    "query = \"confronting global challenges\" #@param {type:\"string\"}\n",
    "\n",
    "print(\"Generating embedding for the query...\")\n",
    "%time query_embedding = extract_embeddings(query)\n",
    "\n",
    "print(\"\")\n",
    "print(\"Finding relevant items in the index...\")\n",
    "%time items = find_similar_items(query_embedding, 10)\n",
    "\n",
    "print(\"\")\n",
    "print(\"Results:\")\n",
    "print(\"=========\")\n",
    "for item in items:\n",
    "  print(item)"
   ]
  },
  {
   "cell_type": "markdown",
   "metadata": {
    "id": "TkRSqs77tDuX"
   },
   "source": [
    "## Want to learn more?\n",
    "\n",
    "You can learn more about TensorFlow at [tensorflow.org](https://www.tensorflow.org/) and see the TF-Hub API documentation at [tensorflow.org/hub](https://www.tensorflow.org/hub/). Find available TensorFlow Hub models at [tfhub.dev](https://tfhub.dev/) including more text embedding models and image feature vector models.\n",
    "\n",
    "Also check out the [Machine Learning Crash Course](https://developers.google.com/machine-learning/crash-course/) which is Google's fast-paced, practical introduction to machine learning."
   ]
  },
  {
   "cell_type": "code",
   "execution_count": 26,
   "metadata": {},
   "outputs": [
    {
     "ename": "NameError",
     "evalue": "name 'mystop' is not defined",
     "output_type": "error",
     "traceback": [
      "\u001b[0;31m---------------------------------------------------------------------------\u001b[0m",
      "\u001b[0;31mNameError\u001b[0m                                 Traceback (most recent call last)",
      "\u001b[0;32m/tmp/ipykernel_2564/453815950.py\u001b[0m in \u001b[0;36m<module>\u001b[0;34m\u001b[0m\n\u001b[0;32m----> 1\u001b[0;31m \u001b[0mmystop\u001b[0m\u001b[0;34m\u001b[0m\u001b[0;34m\u001b[0m\u001b[0m\n\u001b[0m",
      "\u001b[0;31mNameError\u001b[0m: name 'mystop' is not defined"
     ]
    }
   ],
   "source": [
    "mystop"
   ]
  },
  {
   "cell_type": "markdown",
   "metadata": {
    "id": "GsVW7FPqXt7G"
   },
   "source": [
    "## myXtra\n"
   ]
  },
  {
   "cell_type": "code",
   "execution_count": 27,
   "metadata": {},
   "outputs": [],
   "source": [
    "#original from Colab\n",
    "#!pip install apache_beam\n",
    "#!pip install 'scikit_learn~=0.23.0'  # For gaussian_random_matrix.\n",
    "#!pip install annoy"
   ]
  },
  {
   "cell_type": "markdown",
   "metadata": {},
   "source": [
    "\n",
    "### myBreakdown\n",
    "from `embed-file` to `dict{'text','embeddings'}`"
   ]
  },
  {
   "cell_type": "code",
   "execution_count": 28,
   "metadata": {},
   "outputs": [
    {
     "name": "stdout",
     "output_type": "stream",
     "text": [
      "/tmp/tmpjbhlsgbs/emb-00000-of-00001.tfrecords\n"
     ]
    }
   ],
   "source": [
    "#myBreakdown\n",
    "embed_file = os.path.join(output_dir, 'emb-00000-of-00001.tfrecords')\n",
    "print(embed_file)"
   ]
  },
  {
   "cell_type": "code",
   "execution_count": 29,
   "metadata": {},
   "outputs": [
    {
     "name": "stdout",
     "output_type": "stream",
     "text": [
      "tf.Tensor(b\"\\n\\xb2\\x02\\n\\x94\\x02\\n\\tembedding\\x12\\x86\\x02\\x12\\x83\\x02\\n\\x80\\x02\\xae\\xf4\\\\\\xbe\\xc9\\xc0\\xb1\\xbd+'\\xba\\xbd\\x81M\\xb0\\xbdIl\\xd5\\xbdb\\xc0\\xa2\\xbb\\x03 @=\\xd1\\x06\\xa5\\xbd'\\xc5\\xbe=~\\x11c\\xbe\\x1b\\xa0\\xd9<\\x90\\x86\\xeb=\\x8e\\xa1\\xcb=\\xac-Y\\xbebR\\x06>\\xd1u\\x01>\\xd8\\x183\\xbd\\xdd\\x8a\\x99=D\\xd0\\xa9>\\xc3\\x00}\\xbcT\\xe0M\\xbe24N=\\x12\\x88\\xf7\\xbc\\xffM\\xdf\\xbd\\x18\\xea\\xed=oyM=\\x9c\\x9d\\xe3\\xbdu\\x03\\xde; \\xe3$>\\xb5rM=\\x96\\xab\\x10>\\x16\\xd1\\xe2=\\xa0\\x9bd>\\x02\\x95\\x9d\\xba\\xd1&\\xbd=W\\xc1i\\xbd\\xee\\xe7-\\xbew\\r0\\xbc\\xad\\x84\\x04>2\\xcc\\xa8=U\\xf4^\\xbe\\xfc\\xe6\\x84\\xbd\\x97\\xfb\\x18>\\x89\\xd3\\xd7<,P\\xa19\\x029\\x8d\\xbe\\x86J\\x8c\\xbe\\xbbf|\\xbe\\xc3V\\x96>T\\xeb\\xaa\\xbd\\xb5\\x08z=\\x9a\\xca3>7\\x9c\\x0c>\\x00\\x8e\\xf3\\xbd\\xdb\\xceP\\xbe\\r\\xc8\\x0c\\xbe\\x93\\xfb\\x02\\xbem\\xddD>\\x86@\\x86\\xbdpf\\xec\\xbd\\\\\\xeb\\xe1\\xbb\\x8d\\xea\\xbb>QxY\\xbd\\xe3+X=\\n\\x19\\n\\x04text\\x12\\x11\\n\\x0f\\n\\rheadline_text\", shape=(), dtype=string) \n",
      "\n",
      "--\n",
      "b\"\\n\\xb2\\x02\\n\\x94\\x02\\n\\tembedding\\x12\\x86\\x02\\x12\\x83\\x02\\n\\x80\\x02\\xae\\xf4\\\\\\xbe\\xc9\\xc0\\xb1\\xbd+'\\xba\\xbd\\x81M\\xb0\\xbdIl\\xd5\\xbdb\\xc0\\xa2\\xbb\\x03 @=\\xd1\\x06\\xa5\\xbd'\\xc5\\xbe=~\\x11c\\xbe\\x1b\\xa0\\xd9<\\x90\\x86\\xeb=\\x8e\\xa1\\xcb=\\xac-Y\\xbebR\\x06>\\xd1u\\x01>\\xd8\\x183\\xbd\\xdd\\x8a\\x99=D\\xd0\\xa9>\\xc3\\x00}\\xbcT\\xe0M\\xbe24N=\\x12\\x88\\xf7\\xbc\\xffM\\xdf\\xbd\\x18\\xea\\xed=oyM=\\x9c\\x9d\\xe3\\xbdu\\x03\\xde; \\xe3$>\\xb5rM=\\x96\\xab\\x10>\\x16\\xd1\\xe2=\\xa0\\x9bd>\\x02\\x95\\x9d\\xba\\xd1&\\xbd=W\\xc1i\\xbd\\xee\\xe7-\\xbew\\r0\\xbc\\xad\\x84\\x04>2\\xcc\\xa8=U\\xf4^\\xbe\\xfc\\xe6\\x84\\xbd\\x97\\xfb\\x18>\\x89\\xd3\\xd7<,P\\xa19\\x029\\x8d\\xbe\\x86J\\x8c\\xbe\\xbbf|\\xbe\\xc3V\\x96>T\\xeb\\xaa\\xbd\\xb5\\x08z=\\x9a\\xca3>7\\x9c\\x0c>\\x00\\x8e\\xf3\\xbd\\xdb\\xceP\\xbe\\r\\xc8\\x0c\\xbe\\x93\\xfb\\x02\\xbem\\xddD>\\x86@\\x86\\xbdpf\\xec\\xbd\\\\\\xeb\\xe1\\xbb\\x8d\\xea\\xbb>QxY\\xbd\\xe3+X=\\n\\x19\\n\\x04text\\x12\\x11\\n\\x0f\\n\\rheadline_text\" \n",
      "\n"
     ]
    }
   ],
   "source": [
    "#myBreakdown\n",
    "dataset = tf.data.TFRecordDataset(embed_file) #class tensorflow.python.data.ops.readers.TFRecordDatasetV2\n",
    "\n",
    "#record raw\n",
    "for record in dataset.take(1): #record -> 'tensorflow.python.framework.ops.EagerTensor'\n",
    "  print(record, '\\n')\n",
    "\n",
    "print('--')\n",
    "\n",
    "#record raw as numpy array\n",
    "for record in dataset.take(1): #record -> 'tensorflow.python.framework.ops.EagerTensor'\n",
    "  print(record.numpy(), '\\n')"
   ]
  },
  {
   "cell_type": "code",
   "execution_count": 30,
   "metadata": {},
   "outputs": [
    {
     "name": "stdout",
     "output_type": "stream",
     "text": [
      "b\"\\n\\xb2\\x02\\n\\x94\\x02\\n\\tembedding\\x12\\x86\\x02\\x12\\x83\\x02\\n\\x80\\x02\\xae\\xf4\\\\\\xbe\\xc9\\xc0\\xb1\\xbd+'\\xba\\xbd\\x81M\\xb0\\xbdIl\\xd5\\xbdb\\xc0\\xa2\\xbb\\x03 @=\\xd1\\x06\\xa5\\xbd'\\xc5\\xbe=~\\x11c\\xbe\\x1b\\xa0\\xd9<\\x90\\x86\\xeb=\\x8e\\xa1\\xcb=\\xac-Y\\xbebR\\x06>\\xd1u\\x01>\\xd8\\x183\\xbd\\xdd\\x8a\\x99=D\\xd0\\xa9>\\xc3\\x00}\\xbcT\\xe0M\\xbe24N=\\x12\\x88\\xf7\\xbc\\xffM\\xdf\\xbd\\x18\\xea\\xed=oyM=\\x9c\\x9d\\xe3\\xbdu\\x03\\xde; \\xe3$>\\xb5rM=\\x96\\xab\\x10>\\x16\\xd1\\xe2=\\xa0\\x9bd>\\x02\\x95\\x9d\\xba\\xd1&\\xbd=W\\xc1i\\xbd\\xee\\xe7-\\xbew\\r0\\xbc\\xad\\x84\\x04>2\\xcc\\xa8=U\\xf4^\\xbe\\xfc\\xe6\\x84\\xbd\\x97\\xfb\\x18>\\x89\\xd3\\xd7<,P\\xa19\\x029\\x8d\\xbe\\x86J\\x8c\\xbe\\xbbf|\\xbe\\xc3V\\x96>T\\xeb\\xaa\\xbd\\xb5\\x08z=\\x9a\\xca3>7\\x9c\\x0c>\\x00\\x8e\\xf3\\xbd\\xdb\\xceP\\xbe\\r\\xc8\\x0c\\xbe\\x93\\xfb\\x02\\xbem\\xddD>\\x86@\\x86\\xbdpf\\xec\\xbd\\\\\\xeb\\xe1\\xbb\\x8d\\xea\\xbb>QxY\\xbd\\xe3+X=\\n\\x19\\n\\x04text\\x12\\x11\\n\\x0f\\n\\rheadline_text\" \n",
      "\n",
      "{'text': <tf.Tensor: shape=(), dtype=string, numpy=b'headline_text'>} \n",
      "\n",
      "{'embedding': <tf.Tensor: shape=(64,), dtype=float32, numpy=\n",
      "array([-2.15777129e-01, -8.67934898e-02, -9.08950195e-02, -8.60853270e-02,\n",
      "       -1.04210444e-01, -4.96678147e-03,  4.69055288e-02, -8.05794075e-02,\n",
      "        9.31494758e-02, -2.21746415e-01,  2.65656020e-02,  1.15002751e-01,\n",
      "        9.94292349e-02, -2.12088287e-01,  1.31173640e-01,  1.26425996e-01,\n",
      "       -4.37248647e-02,  7.49718919e-02,  3.31667066e-01, -1.54420761e-02,\n",
      "       -2.01051056e-01,  5.03427461e-02, -3.02162506e-02, -1.09035484e-01,\n",
      "        1.16169155e-01,  5.01646362e-02, -1.11140460e-01,  6.77531445e-03,\n",
      "        1.61022663e-01,  5.01582213e-02,  1.41279548e-01,  1.10750362e-01,\n",
      "        2.23249912e-01, -1.20225572e-03,  9.23591927e-02, -5.70691489e-02,\n",
      "       -1.69830054e-01, -1.07453978e-02,  1.29412368e-01,  8.24207217e-02,\n",
      "       -2.17728928e-01, -6.48936927e-02,  1.49397239e-01,  2.63459850e-02,\n",
      "        3.07680457e-04, -2.75825560e-01, -2.74006069e-01, -2.46485636e-01,\n",
      "        2.93630689e-01, -8.34566653e-02,  6.10434599e-02,  1.75577551e-01,\n",
      "        1.37314662e-01, -1.18923187e-01, -2.03914091e-01, -1.37481883e-01,\n",
      "       -1.27912804e-01,  1.92250922e-01, -6.55527562e-02, -1.15429759e-01,\n",
      "       -6.89451210e-03,  3.67023855e-01, -5.30932583e-02,  5.27762286e-02],\n",
      "      dtype=float32)>} \n",
      "\n",
      "--\n",
      "{'embedding': <tf.Tensor: shape=(64,), dtype=float32, numpy=\n",
      "array([-2.15777129e-01, -8.67934898e-02, -9.08950195e-02, -8.60853270e-02,\n",
      "       -1.04210444e-01, -4.96678147e-03,  4.69055288e-02, -8.05794075e-02,\n",
      "        9.31494758e-02, -2.21746415e-01,  2.65656020e-02,  1.15002751e-01,\n",
      "        9.94292349e-02, -2.12088287e-01,  1.31173640e-01,  1.26425996e-01,\n",
      "       -4.37248647e-02,  7.49718919e-02,  3.31667066e-01, -1.54420761e-02,\n",
      "       -2.01051056e-01,  5.03427461e-02, -3.02162506e-02, -1.09035484e-01,\n",
      "        1.16169155e-01,  5.01646362e-02, -1.11140460e-01,  6.77531445e-03,\n",
      "        1.61022663e-01,  5.01582213e-02,  1.41279548e-01,  1.10750362e-01,\n",
      "        2.23249912e-01, -1.20225572e-03,  9.23591927e-02, -5.70691489e-02,\n",
      "       -1.69830054e-01, -1.07453978e-02,  1.29412368e-01,  8.24207217e-02,\n",
      "       -2.17728928e-01, -6.48936927e-02,  1.49397239e-01,  2.63459850e-02,\n",
      "        3.07680457e-04, -2.75825560e-01, -2.74006069e-01, -2.46485636e-01,\n",
      "        2.93630689e-01, -8.34566653e-02,  6.10434599e-02,  1.75577551e-01,\n",
      "        1.37314662e-01, -1.18923187e-01, -2.03914091e-01, -1.37481883e-01,\n",
      "       -1.27912804e-01,  1.92250922e-01, -6.55527562e-02, -1.15429759e-01,\n",
      "       -6.89451210e-03,  3.67023855e-01, -5.30932583e-02,  5.27762286e-02],\n",
      "      dtype=float32)>, 'text': <tf.Tensor: shape=(), dtype=string, numpy=b'headline_text'>} \n",
      "\n"
     ]
    }
   ],
   "source": [
    "#myBreakdown: what is what\n",
    "\n",
    "#record -> diff views\n",
    "for record in dataset.take(1): #record -> 'tensorflow.python.framework.ops.EagerTensor'\n",
    "  print(record.numpy(), '\\n') #class 'bytes'\n",
    "  print(tf.io.parse_example(record, {'text': tf.io.FixedLenFeature([], tf.string)}), '\\n')\n",
    "  print(tf.io.parse_example(record, {'embedding': tf.io.FixedLenFeature([projected_dim], tf.float32)}), '\\n')\n",
    "\n",
    "print('--')\n",
    "#record -> dict w/ 2 elements\n",
    "for record in dataset.take(1): #record -> 'tensorflow.python.framework.ops.EagerTensor'\n",
    "  print(tf.io.parse_example(record, {\n",
    "    'text': tf.io.FixedLenFeature([], tf.string),\n",
    "    'embedding': tf.io.FixedLenFeature([projected_dim], tf.float32)}\n",
    "    ), '\\n')"
   ]
  },
  {
   "cell_type": "code",
   "execution_count": 31,
   "metadata": {},
   "outputs": [
    {
     "name": "stdout",
     "output_type": "stream",
     "text": [
      "{'embedding': <tf.Tensor: shape=(64,), dtype=float32, numpy=\n",
      "array([-2.15777129e-01, -8.67934898e-02, -9.08950195e-02, -8.60853270e-02,\n",
      "       -1.04210444e-01, -4.96678147e-03,  4.69055288e-02, -8.05794075e-02,\n",
      "        9.31494758e-02, -2.21746415e-01,  2.65656020e-02,  1.15002751e-01,\n",
      "        9.94292349e-02, -2.12088287e-01,  1.31173640e-01,  1.26425996e-01,\n",
      "       -4.37248647e-02,  7.49718919e-02,  3.31667066e-01, -1.54420761e-02,\n",
      "       -2.01051056e-01,  5.03427461e-02, -3.02162506e-02, -1.09035484e-01,\n",
      "        1.16169155e-01,  5.01646362e-02, -1.11140460e-01,  6.77531445e-03,\n",
      "        1.61022663e-01,  5.01582213e-02,  1.41279548e-01,  1.10750362e-01,\n",
      "        2.23249912e-01, -1.20225572e-03,  9.23591927e-02, -5.70691489e-02,\n",
      "       -1.69830054e-01, -1.07453978e-02,  1.29412368e-01,  8.24207217e-02,\n",
      "       -2.17728928e-01, -6.48936927e-02,  1.49397239e-01,  2.63459850e-02,\n",
      "        3.07680457e-04, -2.75825560e-01, -2.74006069e-01, -2.46485636e-01,\n",
      "        2.93630689e-01, -8.34566653e-02,  6.10434599e-02,  1.75577551e-01,\n",
      "        1.37314662e-01, -1.18923187e-01, -2.03914091e-01, -1.37481883e-01,\n",
      "       -1.27912804e-01,  1.92250922e-01, -6.55527562e-02, -1.15429759e-01,\n",
      "       -6.89451210e-03,  3.67023855e-01, -5.30932583e-02,  5.27762286e-02],\n",
      "      dtype=float32)>, 'text': <tf.Tensor: shape=(), dtype=string, numpy=b'headline_text'>} \n",
      "\n"
     ]
    }
   ],
   "source": [
    "#myBreakdown\n",
    "\n",
    "# Create a description of the features.\n",
    "feature_description = {\n",
    "    'text': tf.io.FixedLenFeature([], tf.string),\n",
    "    'embedding': tf.io.FixedLenFeature([projected_dim], tf.float32)\n",
    "}\n",
    "\n",
    "#record -> dict predefined as features\n",
    "for record in dataset.take(1): #record -> 'tensorflow.python.framework.ops.EagerTensor'\n",
    "  print(tf.io.parse_single_example(record, feature_description), '\\n')"
   ]
  },
  {
   "cell_type": "code",
   "execution_count": 32,
   "metadata": {},
   "outputs": [
    {
     "name": "stdout",
     "output_type": "stream",
     "text": [
      "{'embedding': <tf.Tensor: shape=(64,), dtype=float32, numpy=\n",
      "array([-2.15777129e-01, -8.67934898e-02, -9.08950195e-02, -8.60853270e-02,\n",
      "       -1.04210444e-01, -4.96678147e-03,  4.69055288e-02, -8.05794075e-02,\n",
      "        9.31494758e-02, -2.21746415e-01,  2.65656020e-02,  1.15002751e-01,\n",
      "        9.94292349e-02, -2.12088287e-01,  1.31173640e-01,  1.26425996e-01,\n",
      "       -4.37248647e-02,  7.49718919e-02,  3.31667066e-01, -1.54420761e-02,\n",
      "       -2.01051056e-01,  5.03427461e-02, -3.02162506e-02, -1.09035484e-01,\n",
      "        1.16169155e-01,  5.01646362e-02, -1.11140460e-01,  6.77531445e-03,\n",
      "        1.61022663e-01,  5.01582213e-02,  1.41279548e-01,  1.10750362e-01,\n",
      "        2.23249912e-01, -1.20225572e-03,  9.23591927e-02, -5.70691489e-02,\n",
      "       -1.69830054e-01, -1.07453978e-02,  1.29412368e-01,  8.24207217e-02,\n",
      "       -2.17728928e-01, -6.48936927e-02,  1.49397239e-01,  2.63459850e-02,\n",
      "        3.07680457e-04, -2.75825560e-01, -2.74006069e-01, -2.46485636e-01,\n",
      "        2.93630689e-01, -8.34566653e-02,  6.10434599e-02,  1.75577551e-01,\n",
      "        1.37314662e-01, -1.18923187e-01, -2.03914091e-01, -1.37481883e-01,\n",
      "       -1.27912804e-01,  1.92250922e-01, -6.55527562e-02, -1.15429759e-01,\n",
      "       -6.89451210e-03,  3.67023855e-01, -5.30932583e-02,  5.27762286e-02],\n",
      "      dtype=float32)>, 'text': <tf.Tensor: shape=(), dtype=string, numpy=b'headline_text'>} \n",
      "\n"
     ]
    }
   ],
   "source": [
    "#myBreakdown\n",
    "\n",
    "# add parse fn using dict predefined as features\n",
    "def _parse_example(example):\n",
    "  # Parse the input `tf.Example` proto using the dictionary above.\n",
    "  return tf.io.parse_single_example(example, feature_description)\n",
    "\n",
    "#record -> dict w/ defined fn\n",
    "for record in dataset.take(1): #record -> 'tensorflow.python.framework.ops.EagerTensor'\n",
    "  print(_parse_example(record), '\\n')"
   ]
  },
  {
   "cell_type": "code",
   "execution_count": 33,
   "metadata": {},
   "outputs": [
    {
     "name": "stdout",
     "output_type": "stream",
     "text": [
      "headline_text: [-0.21577713 -0.08679349 -0.09089502 -0.08608533 -0.10421044 -0.00496678\n",
      "  0.04690553 -0.08057941  0.09314948 -0.22174641]...\n"
     ]
    }
   ],
   "source": [
    "#myBreakdown - final: how it's done by G professionals\n",
    "\n",
    "#record -> dict mapped w/ defined fn\n",
    "for record in dataset.take(1).map(_parse_example): #record -> class dict => class dict w/ predefined features\n",
    "  print(\"{}: {}...\".format(record['text'].numpy().decode('utf-8'), record['embedding'].numpy()[:10]))"
   ]
  }
 ],
 "metadata": {
  "colab": {
   "collapsed_sections": [
    "g6pXBVxsVUbm"
   ],
   "private_outputs": true,
   "provenance": [],
   "toc_visible": true
  },
  "kernelspec": {
   "display_name": "anya_semantic_search2 (Local)",
   "language": "python",
   "name": "local-anya_semantic_search2"
  },
  "language_info": {
   "codemirror_mode": {
    "name": "ipython",
    "version": 3
   },
   "file_extension": ".py",
   "mimetype": "text/x-python",
   "name": "python",
   "nbconvert_exporter": "python",
   "pygments_lexer": "ipython3",
   "version": "3.7.13"
  }
 },
 "nbformat": 4,
 "nbformat_minor": 4
}
